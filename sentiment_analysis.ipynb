{
 "cells": [
  {
   "cell_type": "code",
   "execution_count": 42,
   "id": "e9e57d53",
   "metadata": {},
   "outputs": [],
   "source": [
    "import numpy as np\n",
    "import pandas as pd \n",
    "import matplotlib.pyplot as plt"
   ]
  },
  {
   "cell_type": "code",
   "execution_count": 43,
   "id": "e37e1582",
   "metadata": {},
   "outputs": [
    {
     "data": {
      "text/html": [
       "<div>\n",
       "<style scoped>\n",
       "    .dataframe tbody tr th:only-of-type {\n",
       "        vertical-align: middle;\n",
       "    }\n",
       "\n",
       "    .dataframe tbody tr th {\n",
       "        vertical-align: top;\n",
       "    }\n",
       "\n",
       "    .dataframe thead th {\n",
       "        text-align: right;\n",
       "    }\n",
       "</style>\n",
       "<table border=\"1\" class=\"dataframe\">\n",
       "  <thead>\n",
       "    <tr style=\"text-align: right;\">\n",
       "      <th></th>\n",
       "      <th>Text</th>\n",
       "      <th>Sentiment</th>\n",
       "      <th>Timestamp</th>\n",
       "      <th>User</th>\n",
       "      <th>Platform</th>\n",
       "      <th>Hashtags</th>\n",
       "      <th>Retweets</th>\n",
       "      <th>Likes</th>\n",
       "      <th>Country</th>\n",
       "      <th>Year</th>\n",
       "      <th>Month</th>\n",
       "      <th>Day</th>\n",
       "      <th>Hour</th>\n",
       "    </tr>\n",
       "  </thead>\n",
       "  <tbody>\n",
       "    <tr>\n",
       "      <th>0</th>\n",
       "      <td>Enjoying a beautiful day at the park!</td>\n",
       "      <td>Positive</td>\n",
       "      <td>2023-01-15 12:30:00</td>\n",
       "      <td>User123</td>\n",
       "      <td>Twitter</td>\n",
       "      <td>#Nature #Park</td>\n",
       "      <td>15.0</td>\n",
       "      <td>30.0</td>\n",
       "      <td>USA</td>\n",
       "      <td>2023</td>\n",
       "      <td>1</td>\n",
       "      <td>15</td>\n",
       "      <td>12</td>\n",
       "    </tr>\n",
       "    <tr>\n",
       "      <th>1</th>\n",
       "      <td>Traffic was terrible this morning.</td>\n",
       "      <td>Negative</td>\n",
       "      <td>2023-01-15 08:45:00</td>\n",
       "      <td>CommuterX</td>\n",
       "      <td>Twitter</td>\n",
       "      <td>#Traffic #Morning</td>\n",
       "      <td>5.0</td>\n",
       "      <td>10.0</td>\n",
       "      <td>Canada</td>\n",
       "      <td>2023</td>\n",
       "      <td>1</td>\n",
       "      <td>15</td>\n",
       "      <td>8</td>\n",
       "    </tr>\n",
       "    <tr>\n",
       "      <th>2</th>\n",
       "      <td>Just finished an amazing workout! 💪</td>\n",
       "      <td>Positive</td>\n",
       "      <td>2023-01-15 15:45:00</td>\n",
       "      <td>FitnessFan</td>\n",
       "      <td>Instagram</td>\n",
       "      <td>#Fitness #Workout</td>\n",
       "      <td>20.0</td>\n",
       "      <td>40.0</td>\n",
       "      <td>USA</td>\n",
       "      <td>2023</td>\n",
       "      <td>1</td>\n",
       "      <td>15</td>\n",
       "      <td>15</td>\n",
       "    </tr>\n",
       "    <tr>\n",
       "      <th>3</th>\n",
       "      <td>Excited about the upcoming weekend getaway!</td>\n",
       "      <td>Positive</td>\n",
       "      <td>2023-01-15 18:20:00</td>\n",
       "      <td>AdventureX</td>\n",
       "      <td>Facebook</td>\n",
       "      <td>#Travel #Adventure</td>\n",
       "      <td>8.0</td>\n",
       "      <td>15.0</td>\n",
       "      <td>UK</td>\n",
       "      <td>2023</td>\n",
       "      <td>1</td>\n",
       "      <td>15</td>\n",
       "      <td>18</td>\n",
       "    </tr>\n",
       "    <tr>\n",
       "      <th>4</th>\n",
       "      <td>Trying out a new recipe for dinner tonight.</td>\n",
       "      <td>Neutral</td>\n",
       "      <td>2023-01-15 19:55:00</td>\n",
       "      <td>ChefCook</td>\n",
       "      <td>Instagram</td>\n",
       "      <td>#Cooking #Food</td>\n",
       "      <td>12.0</td>\n",
       "      <td>25.0</td>\n",
       "      <td>Australia</td>\n",
       "      <td>2023</td>\n",
       "      <td>1</td>\n",
       "      <td>15</td>\n",
       "      <td>19</td>\n",
       "    </tr>\n",
       "  </tbody>\n",
       "</table>\n",
       "</div>"
      ],
      "text/plain": [
       "                                          Text Sentiment            Timestamp  \\\n",
       "0        Enjoying a beautiful day at the park!  Positive  2023-01-15 12:30:00   \n",
       "1           Traffic was terrible this morning.  Negative  2023-01-15 08:45:00   \n",
       "2          Just finished an amazing workout! 💪  Positive  2023-01-15 15:45:00   \n",
       "3  Excited about the upcoming weekend getaway!  Positive  2023-01-15 18:20:00   \n",
       "4  Trying out a new recipe for dinner tonight.   Neutral  2023-01-15 19:55:00   \n",
       "\n",
       "         User   Platform            Hashtags  Retweets  Likes    Country  \\\n",
       "0     User123    Twitter       #Nature #Park      15.0   30.0        USA   \n",
       "1   CommuterX    Twitter   #Traffic #Morning       5.0   10.0     Canada   \n",
       "2  FitnessFan  Instagram   #Fitness #Workout      20.0   40.0        USA   \n",
       "3  AdventureX   Facebook  #Travel #Adventure       8.0   15.0         UK   \n",
       "4    ChefCook  Instagram      #Cooking #Food      12.0   25.0  Australia   \n",
       "\n",
       "   Year  Month  Day  Hour  \n",
       "0  2023      1   15    12  \n",
       "1  2023      1   15     8  \n",
       "2  2023      1   15    15  \n",
       "3  2023      1   15    18  \n",
       "4  2023      1   15    19  "
      ]
     },
     "execution_count": 43,
     "metadata": {},
     "output_type": "execute_result"
    }
   ],
   "source": [
    "sentiment = pd.read_csv('sentimentdataset.csv')\n",
    "sentiment = sentiment.iloc[:, 2:]\n",
    "sentiment.head()"
   ]
  },
  {
   "cell_type": "code",
   "execution_count": 44,
   "id": "2ad8bd25",
   "metadata": {},
   "outputs": [
    {
     "name": "stdout",
     "output_type": "stream",
     "text": [
      "Sentiment\n",
      "Acceptance        8\n",
      "Accomplishment    3\n",
      "Admiration        4\n",
      "Adoration         2\n",
      "Adrenaline        1\n",
      "                 ..\n",
      "Winter Magic      1\n",
      "Wonder            3\n",
      "Wonderment        1\n",
      "Yearning          2\n",
      "Zest              2\n",
      "Length: 191, dtype: int64\n"
     ]
    }
   ],
   "source": [
    "group_counts = sentiment.groupby('Sentiment').size()\n",
    "print(group_counts)"
   ]
  },
  {
   "cell_type": "code",
   "execution_count": 45,
   "id": "a4f4b6d7",
   "metadata": {},
   "outputs": [
    {
     "name": "stdout",
     "output_type": "stream",
     "text": [
      "['Positive' 'Negative' 'Neutral' 'Anger' 'Fear' 'Sadness' 'Disgust'\n",
      " 'Happiness' 'Joy' 'Love' 'Amusement' 'Enjoyment' 'Admiration' 'Affection'\n",
      " 'Awe' 'Disappointed' 'Surprise' 'Acceptance' 'Adoration' 'Anticipation'\n",
      " 'Bitter' 'Calmness' 'Confusion' 'Excitement' 'Kind' 'Pride' 'Shame'\n",
      " 'Elation' 'Euphoria' 'Contentment' 'Serenity' 'Gratitude' 'Hope'\n",
      " 'Empowerment' 'Compassion' 'Tenderness' 'Arousal' 'Enthusiasm'\n",
      " 'Fulfillment' 'Reverence' 'Despair' 'Grief' 'Loneliness' 'Jealousy'\n",
      " 'Resentment' 'Frustration' 'Boredom' 'Anxiety' 'Intimidation'\n",
      " 'Helplessness' 'Envy' 'Regret' 'Curiosity' 'Indifference' 'Numbness'\n",
      " 'Melancholy' 'Nostalgia' 'Ambivalence' 'Determination' 'Zest' 'Hopeful'\n",
      " 'Proud' 'Grateful' 'Empathetic' 'Compassionate' 'Playful' 'Free-spirited'\n",
      " 'Inspired' 'Confident' 'Bitterness' 'Yearning' 'Fearful' 'Apprehensive'\n",
      " 'Overwhelmed' 'Jealous' 'Devastated' 'Frustrated' 'Envious' 'Dismissive'\n",
      " 'Thrill' 'Bittersweet' 'Overjoyed' 'Inspiration' 'Motivation'\n",
      " 'Contemplation' 'JoyfulReunion' 'Satisfaction' 'Blessed' 'Reflection'\n",
      " 'Appreciation' 'Confidence' 'Accomplishment' 'Wonderment' 'Optimism'\n",
      " 'Enchantment' 'Intrigue' 'PlayfulJoy' 'Mindfulness' 'DreamChaser'\n",
      " 'Elegance' 'Whimsy' 'Pensive' 'Harmony' 'Creativity' 'Radiance' 'Wonder'\n",
      " 'Rejuvenation' 'Coziness' 'Adventure' 'Melodic' 'FestiveJoy'\n",
      " 'InnerJourney' 'Freedom' 'Dazzle' 'Adrenaline' 'ArtisticBurst'\n",
      " 'CulinaryOdyssey' 'Resilience' 'Immersion' 'Spark' 'Marvel' 'Heartbreak'\n",
      " 'Betrayal' 'Suffering' 'EmotionalStorm' 'Isolation' 'Disappointment'\n",
      " 'LostLove' 'Exhaustion' 'Sorrow' 'Darkness' 'Desperation' 'Ruins'\n",
      " 'Desolation' 'Loss' 'Heartache' 'Solitude' 'Positivity' 'Kindness'\n",
      " 'Friendship' 'Success' 'Exploration' 'Amazement' 'Romance' 'Captivation'\n",
      " 'Tranquility' 'Grandeur' 'Emotion' 'Energy' 'Celebration' 'Charm'\n",
      " 'Ecstasy' 'Colorful' 'Hypnotic' 'Connection' 'Iconic' 'Journey'\n",
      " 'Engagement' 'Touched' 'Suspense' 'Triumph' 'Heartwarming' 'Obstacle'\n",
      " 'Sympathy' 'Pressure' 'Renewed Effort' 'Miscalculation' 'Challenge'\n",
      " 'Solace' 'Breakthrough' 'Joy in Baking' 'Envisioning History'\n",
      " 'Imagination' 'Vibrancy' 'Mesmerizing' 'Culinary Adventure'\n",
      " 'Winter Magic' 'Thrilling Journey' \"Nature's Beauty\" 'Celestial Wonder'\n",
      " 'Creative Inspiration' 'Runway Creativity' \"Ocean's Freedom\"\n",
      " 'Whispers of the Past' 'Relief' 'Embarrassed' 'Mischievous' 'Sad' 'Hate'\n",
      " 'Bad' 'Happy']\n"
     ]
    }
   ],
   "source": [
    "print(sentiment['Sentiment'].unique())"
   ]
  },
  {
   "cell_type": "code",
   "execution_count": 46,
   "id": "f2adde92",
   "metadata": {},
   "outputs": [],
   "source": [
    "sentiment['Sentiment'] = sentiment['Sentiment'].replace(('Negative', 'Anger', 'Fear', 'Sadness', 'Disgust', \n",
    "                                                         'Disappointed','Bitter', 'Shame', 'Despair', 'Grief', 'Loneliness', 'Jealousy',\n",
    "                                                         'Resentment', 'Frustration', 'Boredom', 'Anxiety', 'Intimidation',\n",
    "                                                         'Helplessness', 'Envy', 'Regret', 'Bitterness', 'Fearful',\n",
    "                                                         'Apprehensive', 'Overwhelmed', 'Jealous', 'Devastated',\n",
    "                                                         'Frustrated', 'Envious', 'Dismissive', 'Heartbreak', 'Betrayal',\n",
    "                                                         'Suffering', 'EmotionalStorm', 'Isolation', 'Disappointment',\n",
    "                                                         'LostLove', 'Exhaustion', 'Sorrow', 'Darkness', 'Desperation',\n",
    "                                                         'Ruins', 'Desolation', 'Loss', 'Heartache', 'Solitude',\n",
    "                                                         'Obstacle', 'Sympathy', 'Pressure', 'Miscalculation', 'Challenge',\n",
    "                                                         'Embarrassed', 'Sad', 'Hate', 'Bad', 'Indifference', 'Numbness', 'Melancholy',\n",
    "                                                         'Zest', 'Yearning'), 'Negative')"
   ]
  },
  {
   "cell_type": "code",
   "execution_count": 47,
   "id": "ff1bcd44",
   "metadata": {},
   "outputs": [],
   "source": [
    "sentiment['Sentiment'] = sentiment['Sentiment'].replace(('Positive', 'Happiness', 'Joy', 'Love', 'Amusement', 'Enjoyment',\n",
    "    'Admiration', 'Affection', 'Awe', 'Surprise', 'Acceptance',\n",
    "    'Adoration', 'Anticipation', 'Calmness', 'Excitement', 'Kind',\n",
    "    'Pride', 'Elation', 'Euphoria', 'Contentment', 'Serenity',\n",
    "    'Gratitude', 'Hope', 'Empowerment', 'Compassion', 'Tenderness',\n",
    "    'Arousal', 'Enthusiasm', 'Fulfillment', 'Reverence', 'Hopeful',\n",
    "    'Proud', 'Grateful', 'Empathetic', 'Compassionate', 'Playful',\n",
    "    'Free-spirited', 'Inspired', 'Confident', 'Thrill', 'Bittersweet',\n",
    "    'Overjoyed', 'Inspiration', 'Motivation', 'JoyfulReunion',\n",
    "    'Satisfaction', 'Blessed', 'Reflection', 'Appreciation',\n",
    "    'Confidence', 'Accomplishment', 'Wonderment', 'Optimism',\n",
    "    'Enchantment', 'Intrigue', 'PlayfulJoy', 'Mindfulness',\n",
    "    'DreamChaser', 'Elegance', 'Whimsy', 'Harmony', 'Creativity',\n",
    "    'Radiance', 'Wonder', 'Rejuvenation', 'Coziness', 'Adventure',\n",
    "    'Melodic', 'FestiveJoy', 'InnerJourney', 'Freedom', 'Dazzle',\n",
    "    'Adrenaline', 'ArtisticBurst', 'CulinaryOdyssey', 'Resilience',\n",
    "    'Immersion', 'Spark', 'Marvel', 'Positivity', 'Kindness',\n",
    "    'Friendship', 'Success', 'Exploration', 'Amazement', 'Romance',\n",
    "    'Captivation', 'Tranquility', 'Grandeur', 'Celebration', 'Charm',\n",
    "    'Ecstasy', 'Colorful', 'Hypnotic', 'Connection', 'Iconic',\n",
    "    'Journey', 'Engagement', 'Touched', 'Triumph', 'Heartwarming',\n",
    "    'Solace', 'Breakthrough', 'Joy in Baking', 'Envisioning History',\n",
    "    'Imagination', 'Vibrancy', 'Mesmerizing', 'Culinary Adventure',\n",
    "    'Winter Magic', 'Thrilling Journey', \"Nature's Beauty\",\n",
    "    'Celestial Wonder', 'Creative Inspiration', 'Runway Creativity',\n",
    "    \"Ocean's Freedom\", 'Whispers of the Past', 'Relief', 'Mischievous', \n",
    "    'Nostalgia', 'Determination','Happy', 'Renewed Effort'), 'Positive')\n"
   ]
  },
  {
   "cell_type": "code",
   "execution_count": 48,
   "id": "9276fb4a",
   "metadata": {},
   "outputs": [],
   "source": [
    "sentiment['Sentiment'] = sentiment['Sentiment'].replace(('Neutral', 'Confusion', 'Curiosity', 'Contemplation', 'Reflection',\n",
    "    'Pensive', 'Emotion', 'Energy', 'Engagement', 'Expression',\n",
    "    'Journey', 'DreamChaser', 'InnerJourney', 'Envisioning History',\n",
    "    'Imagination', 'Creative Inspiration', 'Suspense', 'Ambivalence',\n",
    "    'Mystery', 'Whispers of the Past'), 'Neutral')\n"
   ]
  },
  {
   "cell_type": "code",
   "execution_count": 58,
   "id": "089afc01",
   "metadata": {},
   "outputs": [
    {
     "name": "stdout",
     "output_type": "stream",
     "text": [
      "['Positive' 'Negative' 'Neutral']\n",
      "Sentiment\n",
      "Negative    198\n",
      "Neutral      55\n",
      "Positive    479\n",
      "dtype: int64\n"
     ]
    }
   ],
   "source": [
    "print(sentiment['Sentiment'].unique())\n",
    "print(sentiment.groupby('Sentiment').size())"
   ]
  },
  {
   "cell_type": "code",
   "execution_count": null,
   "id": "a4f24902",
   "metadata": {},
   "outputs": [
    {
     "data": {
      "text/plain": [
       "Sentiment\n",
       "Negative    198\n",
       "Neutral      55\n",
       "Positive    479\n",
       "dtype: int64"
      ]
     },
     "execution_count": 57,
     "metadata": {},
     "output_type": "execute_result"
    }
   ],
   "source": []
  }
 ],
 "metadata": {
  "kernelspec": {
   "display_name": ".venv",
   "language": "python",
   "name": "python3"
  },
  "language_info": {
   "codemirror_mode": {
    "name": "ipython",
    "version": 3
   },
   "file_extension": ".py",
   "mimetype": "text/x-python",
   "name": "python",
   "nbconvert_exporter": "python",
   "pygments_lexer": "ipython3",
   "version": "3.12.7"
  }
 },
 "nbformat": 4,
 "nbformat_minor": 5
}
