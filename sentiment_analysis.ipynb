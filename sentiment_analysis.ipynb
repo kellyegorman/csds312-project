{
 "cells": [
  {
   "cell_type": "code",
   "execution_count": 100,
   "id": "e9e57d53",
   "metadata": {},
   "outputs": [],
   "source": [
    "import numpy as np\n",
    "import pandas as pd \n",
    "import matplotlib.pyplot as plt\n",
    "import plotly.express as px\n",
    "import seaborn as sns"
   ]
  },
  {
   "cell_type": "markdown",
   "id": "06fd314c",
   "metadata": {},
   "source": [
    "#### Importing Dataset and Cleaning to be More Fitting"
   ]
  },
  {
   "cell_type": "code",
   "execution_count": 101,
   "id": "e37e1582",
   "metadata": {},
   "outputs": [
    {
     "data": {
      "text/html": [
       "<div>\n",
       "<style scoped>\n",
       "    .dataframe tbody tr th:only-of-type {\n",
       "        vertical-align: middle;\n",
       "    }\n",
       "\n",
       "    .dataframe tbody tr th {\n",
       "        vertical-align: top;\n",
       "    }\n",
       "\n",
       "    .dataframe thead th {\n",
       "        text-align: right;\n",
       "    }\n",
       "</style>\n",
       "<table border=\"1\" class=\"dataframe\">\n",
       "  <thead>\n",
       "    <tr style=\"text-align: right;\">\n",
       "      <th></th>\n",
       "      <th>Text</th>\n",
       "      <th>Sentiment</th>\n",
       "      <th>Timestamp</th>\n",
       "      <th>User</th>\n",
       "      <th>Platform</th>\n",
       "      <th>Hashtags</th>\n",
       "      <th>Retweets</th>\n",
       "      <th>Likes</th>\n",
       "      <th>Country</th>\n",
       "      <th>Year</th>\n",
       "      <th>Month</th>\n",
       "      <th>Day</th>\n",
       "      <th>Hour</th>\n",
       "    </tr>\n",
       "  </thead>\n",
       "  <tbody>\n",
       "    <tr>\n",
       "      <th>0</th>\n",
       "      <td>Enjoying a beautiful day at the park!</td>\n",
       "      <td>Positive</td>\n",
       "      <td>2023-01-15 12:30:00</td>\n",
       "      <td>User123</td>\n",
       "      <td>Twitter</td>\n",
       "      <td>#Nature #Park</td>\n",
       "      <td>15.0</td>\n",
       "      <td>30.0</td>\n",
       "      <td>USA</td>\n",
       "      <td>2023</td>\n",
       "      <td>1</td>\n",
       "      <td>15</td>\n",
       "      <td>12</td>\n",
       "    </tr>\n",
       "    <tr>\n",
       "      <th>1</th>\n",
       "      <td>Traffic was terrible this morning.</td>\n",
       "      <td>Negative</td>\n",
       "      <td>2023-01-15 08:45:00</td>\n",
       "      <td>CommuterX</td>\n",
       "      <td>Twitter</td>\n",
       "      <td>#Traffic #Morning</td>\n",
       "      <td>5.0</td>\n",
       "      <td>10.0</td>\n",
       "      <td>Canada</td>\n",
       "      <td>2023</td>\n",
       "      <td>1</td>\n",
       "      <td>15</td>\n",
       "      <td>8</td>\n",
       "    </tr>\n",
       "    <tr>\n",
       "      <th>2</th>\n",
       "      <td>Just finished an amazing workout! 💪</td>\n",
       "      <td>Positive</td>\n",
       "      <td>2023-01-15 15:45:00</td>\n",
       "      <td>FitnessFan</td>\n",
       "      <td>Instagram</td>\n",
       "      <td>#Fitness #Workout</td>\n",
       "      <td>20.0</td>\n",
       "      <td>40.0</td>\n",
       "      <td>USA</td>\n",
       "      <td>2023</td>\n",
       "      <td>1</td>\n",
       "      <td>15</td>\n",
       "      <td>15</td>\n",
       "    </tr>\n",
       "    <tr>\n",
       "      <th>3</th>\n",
       "      <td>Excited about the upcoming weekend getaway!</td>\n",
       "      <td>Positive</td>\n",
       "      <td>2023-01-15 18:20:00</td>\n",
       "      <td>AdventureX</td>\n",
       "      <td>Facebook</td>\n",
       "      <td>#Travel #Adventure</td>\n",
       "      <td>8.0</td>\n",
       "      <td>15.0</td>\n",
       "      <td>UK</td>\n",
       "      <td>2023</td>\n",
       "      <td>1</td>\n",
       "      <td>15</td>\n",
       "      <td>18</td>\n",
       "    </tr>\n",
       "    <tr>\n",
       "      <th>4</th>\n",
       "      <td>Trying out a new recipe for dinner tonight.</td>\n",
       "      <td>Neutral</td>\n",
       "      <td>2023-01-15 19:55:00</td>\n",
       "      <td>ChefCook</td>\n",
       "      <td>Instagram</td>\n",
       "      <td>#Cooking #Food</td>\n",
       "      <td>12.0</td>\n",
       "      <td>25.0</td>\n",
       "      <td>Australia</td>\n",
       "      <td>2023</td>\n",
       "      <td>1</td>\n",
       "      <td>15</td>\n",
       "      <td>19</td>\n",
       "    </tr>\n",
       "  </tbody>\n",
       "</table>\n",
       "</div>"
      ],
      "text/plain": [
       "                                          Text Sentiment            Timestamp  \\\n",
       "0        Enjoying a beautiful day at the park!  Positive  2023-01-15 12:30:00   \n",
       "1           Traffic was terrible this morning.  Negative  2023-01-15 08:45:00   \n",
       "2          Just finished an amazing workout! 💪  Positive  2023-01-15 15:45:00   \n",
       "3  Excited about the upcoming weekend getaway!  Positive  2023-01-15 18:20:00   \n",
       "4  Trying out a new recipe for dinner tonight.   Neutral  2023-01-15 19:55:00   \n",
       "\n",
       "         User   Platform            Hashtags  Retweets  Likes    Country  \\\n",
       "0     User123    Twitter       #Nature #Park      15.0   30.0        USA   \n",
       "1   CommuterX    Twitter   #Traffic #Morning       5.0   10.0     Canada   \n",
       "2  FitnessFan  Instagram   #Fitness #Workout      20.0   40.0        USA   \n",
       "3  AdventureX   Facebook  #Travel #Adventure       8.0   15.0         UK   \n",
       "4    ChefCook  Instagram      #Cooking #Food      12.0   25.0  Australia   \n",
       "\n",
       "   Year  Month  Day  Hour  \n",
       "0  2023      1   15    12  \n",
       "1  2023      1   15     8  \n",
       "2  2023      1   15    15  \n",
       "3  2023      1   15    18  \n",
       "4  2023      1   15    19  "
      ]
     },
     "execution_count": 101,
     "metadata": {},
     "output_type": "execute_result"
    }
   ],
   "source": [
    "sentiment = pd.read_csv('sentimentdataset.csv')\n",
    "sentiment = sentiment.iloc[:, 2:]\n",
    "sentiment.head()"
   ]
  },
  {
   "cell_type": "code",
   "execution_count": 102,
   "id": "096c44bb",
   "metadata": {},
   "outputs": [
    {
     "name": "stdout",
     "output_type": "stream",
     "text": [
      "[2023 2010 2021 2011 2022 2012 2013 2014 2015 2016 2017 2018 2019 2020]\n"
     ]
    }
   ],
   "source": [
    "print(sentiment['Year'].unique())"
   ]
  },
  {
   "cell_type": "code",
   "execution_count": 103,
   "id": "da226b64",
   "metadata": {},
   "outputs": [
    {
     "name": "stdout",
     "output_type": "stream",
     "text": [
      "['USA' 'Canada' 'UK' 'Australia' 'India' 'France' 'Brazil' 'Japan'\n",
      " 'Greece' 'Germany' 'Sweden' 'Italy' 'Netherlands' 'South Africa' 'Spain'\n",
      " 'Portugal' 'Switzerland' 'Austria' 'Belgium' 'Denmark' 'Czech Republic'\n",
      " 'Jordan' 'Peru' 'Maldives' 'China' 'Cambodia' 'Norway' 'Colombia'\n",
      " 'Ireland' 'Jamaica' 'Kenya' 'Scotland' 'Thailand']\n"
     ]
    }
   ],
   "source": [
    "print(sentiment['Country'].unique())"
   ]
  },
  {
   "cell_type": "code",
   "execution_count": 104,
   "id": "2ad8bd25",
   "metadata": {},
   "outputs": [
    {
     "name": "stdout",
     "output_type": "stream",
     "text": [
      "Sentiment\n",
      "Acceptance        8\n",
      "Accomplishment    3\n",
      "Admiration        4\n",
      "Adoration         2\n",
      "Adrenaline        1\n",
      "                 ..\n",
      "Winter Magic      1\n",
      "Wonder            3\n",
      "Wonderment        1\n",
      "Yearning          2\n",
      "Zest              2\n",
      "Length: 191, dtype: int64\n"
     ]
    }
   ],
   "source": [
    "group_counts = sentiment.groupby('Sentiment').size()\n",
    "print(group_counts)"
   ]
  },
  {
   "cell_type": "code",
   "execution_count": 105,
   "id": "a4f4b6d7",
   "metadata": {},
   "outputs": [
    {
     "name": "stdout",
     "output_type": "stream",
     "text": [
      "['Positive' 'Negative' 'Neutral' 'Anger' 'Fear' 'Sadness' 'Disgust'\n",
      " 'Happiness' 'Joy' 'Love' 'Amusement' 'Enjoyment' 'Admiration' 'Affection'\n",
      " 'Awe' 'Disappointed' 'Surprise' 'Acceptance' 'Adoration' 'Anticipation'\n",
      " 'Bitter' 'Calmness' 'Confusion' 'Excitement' 'Kind' 'Pride' 'Shame'\n",
      " 'Elation' 'Euphoria' 'Contentment' 'Serenity' 'Gratitude' 'Hope'\n",
      " 'Empowerment' 'Compassion' 'Tenderness' 'Arousal' 'Enthusiasm'\n",
      " 'Fulfillment' 'Reverence' 'Despair' 'Grief' 'Loneliness' 'Jealousy'\n",
      " 'Resentment' 'Frustration' 'Boredom' 'Anxiety' 'Intimidation'\n",
      " 'Helplessness' 'Envy' 'Regret' 'Curiosity' 'Indifference' 'Numbness'\n",
      " 'Melancholy' 'Nostalgia' 'Ambivalence' 'Determination' 'Zest' 'Hopeful'\n",
      " 'Proud' 'Grateful' 'Empathetic' 'Compassionate' 'Playful' 'Free-spirited'\n",
      " 'Inspired' 'Confident' 'Bitterness' 'Yearning' 'Fearful' 'Apprehensive'\n",
      " 'Overwhelmed' 'Jealous' 'Devastated' 'Frustrated' 'Envious' 'Dismissive'\n",
      " 'Thrill' 'Bittersweet' 'Overjoyed' 'Inspiration' 'Motivation'\n",
      " 'Contemplation' 'JoyfulReunion' 'Satisfaction' 'Blessed' 'Reflection'\n",
      " 'Appreciation' 'Confidence' 'Accomplishment' 'Wonderment' 'Optimism'\n",
      " 'Enchantment' 'Intrigue' 'PlayfulJoy' 'Mindfulness' 'DreamChaser'\n",
      " 'Elegance' 'Whimsy' 'Pensive' 'Harmony' 'Creativity' 'Radiance' 'Wonder'\n",
      " 'Rejuvenation' 'Coziness' 'Adventure' 'Melodic' 'FestiveJoy'\n",
      " 'InnerJourney' 'Freedom' 'Dazzle' 'Adrenaline' 'ArtisticBurst'\n",
      " 'CulinaryOdyssey' 'Resilience' 'Immersion' 'Spark' 'Marvel' 'Heartbreak'\n",
      " 'Betrayal' 'Suffering' 'EmotionalStorm' 'Isolation' 'Disappointment'\n",
      " 'LostLove' 'Exhaustion' 'Sorrow' 'Darkness' 'Desperation' 'Ruins'\n",
      " 'Desolation' 'Loss' 'Heartache' 'Solitude' 'Positivity' 'Kindness'\n",
      " 'Friendship' 'Success' 'Exploration' 'Amazement' 'Romance' 'Captivation'\n",
      " 'Tranquility' 'Grandeur' 'Emotion' 'Energy' 'Celebration' 'Charm'\n",
      " 'Ecstasy' 'Colorful' 'Hypnotic' 'Connection' 'Iconic' 'Journey'\n",
      " 'Engagement' 'Touched' 'Suspense' 'Triumph' 'Heartwarming' 'Obstacle'\n",
      " 'Sympathy' 'Pressure' 'Renewed Effort' 'Miscalculation' 'Challenge'\n",
      " 'Solace' 'Breakthrough' 'Joy in Baking' 'Envisioning History'\n",
      " 'Imagination' 'Vibrancy' 'Mesmerizing' 'Culinary Adventure'\n",
      " 'Winter Magic' 'Thrilling Journey' \"Nature's Beauty\" 'Celestial Wonder'\n",
      " 'Creative Inspiration' 'Runway Creativity' \"Ocean's Freedom\"\n",
      " 'Whispers of the Past' 'Relief' 'Embarrassed' 'Mischievous' 'Sad' 'Hate'\n",
      " 'Bad' 'Happy']\n"
     ]
    }
   ],
   "source": [
    "print(sentiment['Sentiment'].unique())"
   ]
  },
  {
   "cell_type": "code",
   "execution_count": 106,
   "id": "298cbdbe",
   "metadata": {},
   "outputs": [
    {
     "data": {
      "application/vnd.plotly.v1+json": {
       "config": {
        "plotlyServerURL": "https://plot.ly"
       },
       "data": [
        {
         "hovertemplate": "Sentiment=Positive<br>Retweets=%{x}<br>Likes=%{y}<extra></extra>",
         "legendgroup": "Positive",
         "marker": {
          "color": "#636efa",
          "symbol": "circle"
         },
         "mode": "markers",
         "name": "Positive",
         "orientation": "v",
         "showlegend": true,
         "type": "scatter",
         "x": {
          "bdata": "AAAAAAAALkAAAAAAAAA0QAAAAAAAACBAAAAAAAAAOUAAAAAAAAAkQAAAAAAAAC5AAAAAAAAANkAAAAAAAAAoQAAAAAAAADxAAAAAAAAANEAAAAAAAAAuQAAAAAAAADJAAAAAAAAANkAAAAAAAAAuQAAAAAAAAD5AAAAAAAAANEAAAAAAAAAoQAAAAAAAAC5AAAAAAAAAOUAAAAAAAAAuQAAAAAAAADZAAAAAAAAAKEAAAAAAAAAyQAAAAAAAAC5AAAAAAAAAPkAAAAAAAAA5QAAAAAAAAC5AAAAAAAAANkAAAAAAAAAyQAAAAAAAAC5AAAAAAAAAKEAAAAAAAAA+QAAAAAAAADlAAAAAAAAALkAAAAAAAAA2QAAAAAAAADJAAAAAAAAALkAAAAAAAAAoQAAAAAAAADxAAAAAAAAALkAAAAAAAAA0QAAAAAAAAC5AAAAAAAAANkAAAAAAAAAyQAAAAAAAADxA",
          "dtype": "f8"
         },
         "xaxis": "x",
         "y": {
          "bdata": "AAAAAAAAPkAAAAAAAABEQAAAAAAAAC5AAAAAAAAASUAAAAAAAAA0QAAAAAAAAD5AAAAAAACARkAAAAAAAAA5QAAAAAAAgEtAAAAAAAAAREAAAAAAAAA+QAAAAAAAgEFAAAAAAACARkAAAAAAAAA+QAAAAAAAAE5AAAAAAAAAREAAAAAAAAA5QAAAAAAAAD5AAAAAAAAASUAAAAAAAAA+QAAAAAAAgEZAAAAAAAAAOUAAAAAAAIBBQAAAAAAAAD5AAAAAAAAATkAAAAAAAABJQAAAAAAAAD5AAAAAAACARkAAAAAAAIBBQAAAAAAAAD5AAAAAAAAAOUAAAAAAAABOQAAAAAAAAElAAAAAAAAAPkAAAAAAAIBGQAAAAAAAgEFAAAAAAAAAPkAAAAAAAAA5QAAAAAAAgEtAAAAAAAAAPkAAAAAAAABEQAAAAAAAAD5AAAAAAACARkAAAAAAAIBBQAAAAAAAgEtA",
          "dtype": "f8"
         },
         "yaxis": "y"
        },
        {
         "hovertemplate": "Sentiment=Negative<br>Retweets=%{x}<br>Likes=%{y}<extra></extra>",
         "legendgroup": "Negative",
         "marker": {
          "color": "#EF553B",
          "symbol": "circle"
         },
         "mode": "markers",
         "name": "Negative",
         "orientation": "v",
         "showlegend": true,
         "type": "scatter",
         "x": {
          "bdata": "AAAAAAAAFEAAAAAAAAA+QAAAAAAAABxAAAAAAAAAIEA=",
          "dtype": "f8"
         },
         "xaxis": "x",
         "y": {
          "bdata": "AAAAAAAAJEAAAAAAAABOQAAAAAAAAC5AAAAAAAAALkA=",
          "dtype": "f8"
         },
         "yaxis": "y"
        },
        {
         "hovertemplate": "Sentiment=Neutral<br>Retweets=%{x}<br>Likes=%{y}<extra></extra>",
         "legendgroup": "Neutral",
         "marker": {
          "color": "#00cc96",
          "symbol": "circle"
         },
         "mode": "markers",
         "name": "Neutral",
         "orientation": "v",
         "showlegend": true,
         "type": "scatter",
         "x": {
          "bdata": "AAAAAAAAKEAAAAAAAAAyQAAAAAAAAC5AAAAAAAAAOUAAAAAAAAA3QAAAAAAAADpAAAAAAAAAM0AAAAAAAAA1QAAAAAAAADJAAAAAAAAANkAAAAAAAAA4QAAAAAAAADRAAAAAAAAAOUAAAAAAAAAzQAAAAAAAADdAAAAAAAAANEAAAAAAAAAyQAAAAAAAADZA",
          "dtype": "f8"
         },
         "xaxis": "x",
         "y": {
          "bdata": "AAAAAAAAOUAAAAAAAIBBQAAAAAAAAD5AAAAAAAAASUAAAAAAAABFQAAAAAAAAElAAAAAAAAAQ0AAAAAAAIBFQAAAAAAAAEJAAAAAAACARkAAAAAAAABIQAAAAAAAAERAAAAAAACASEAAAAAAAIBCQAAAAAAAAEZAAAAAAACAQ0AAAAAAAIBBQAAAAAAAgEVA",
          "dtype": "f8"
         },
         "yaxis": "y"
        },
        {
         "hovertemplate": "Sentiment=Anger<br>Retweets=%{x}<br>Likes=%{y}<extra></extra>",
         "legendgroup": "Anger",
         "marker": {
          "color": "#ab63fa",
          "symbol": "circle"
         },
         "mode": "markers",
         "name": "Anger",
         "orientation": "v",
         "showlegend": true,
         "type": "scatter",
         "x": {
          "bdata": "AAAAAAAANEAAAAAAAAA0QA==",
          "dtype": "f8"
         },
         "xaxis": "x",
         "y": {
          "bdata": "AAAAAAAAREAAAAAAAABEQA==",
          "dtype": "f8"
         },
         "yaxis": "y"
        },
        {
         "hovertemplate": "Sentiment=Fear<br>Retweets=%{x}<br>Likes=%{y}<extra></extra>",
         "legendgroup": "Fear",
         "marker": {
          "color": "#FFA15A",
          "symbol": "circle"
         },
         "mode": "markers",
         "name": "Fear",
         "orientation": "v",
         "showlegend": true,
         "type": "scatter",
         "x": {
          "bdata": "AAAAAAAALkAAAAAAAAAuQA==",
          "dtype": "f8"
         },
         "xaxis": "x",
         "y": {
          "bdata": "AAAAAAAAPkAAAAAAAAA+QA==",
          "dtype": "f8"
         },
         "yaxis": "y"
        },
        {
         "hovertemplate": "Sentiment=Sadness<br>Retweets=%{x}<br>Likes=%{y}<extra></extra>",
         "legendgroup": "Sadness",
         "marker": {
          "color": "#19d3f3",
          "symbol": "circle"
         },
         "mode": "markers",
         "name": "Sadness",
         "orientation": "v",
         "showlegend": true,
         "type": "scatter",
         "x": {
          "bdata": "AAAAAAAAOUAAAAAAAAA5QA==",
          "dtype": "f8"
         },
         "xaxis": "x",
         "y": {
          "bdata": "AAAAAAAASUAAAAAAAABJQA==",
          "dtype": "f8"
         },
         "yaxis": "y"
        },
        {
         "hovertemplate": "Sentiment=Disgust<br>Retweets=%{x}<br>Likes=%{y}<extra></extra>",
         "legendgroup": "Disgust",
         "marker": {
          "color": "#FF6692",
          "symbol": "circle"
         },
         "mode": "markers",
         "name": "Disgust",
         "orientation": "v",
         "showlegend": true,
         "type": "scatter",
         "x": {
          "bdata": "AAAAAAAAMkAAAAAAAAAyQAAAAAAAABxAAAAAAAAAHEAAAAAAAAA2QA==",
          "dtype": "f8"
         },
         "xaxis": "x",
         "y": {
          "bdata": "AAAAAACAQUAAAAAAAIBBQAAAAAAAAC5AAAAAAAAALkAAAAAAAIBGQA==",
          "dtype": "f8"
         },
         "yaxis": "y"
        },
        {
         "hovertemplate": "Sentiment=Happiness<br>Retweets=%{x}<br>Likes=%{y}<extra></extra>",
         "legendgroup": "Happiness",
         "marker": {
          "color": "#B6E880",
          "symbol": "circle"
         },
         "mode": "markers",
         "name": "Happiness",
         "orientation": "v",
         "showlegend": true,
         "type": "scatter",
         "x": {
          "bdata": "AAAAAAAAPkAAAAAAAAA+QAAAAAAAAC5AAAAAAACAQUAAAAAAAAA+QA==",
          "dtype": "f8"
         },
         "xaxis": "x",
         "y": {
          "bdata": "AAAAAAAATkAAAAAAAABOQAAAAAAAAD5AAAAAAACAUUAAAAAAAABOQA==",
          "dtype": "f8"
         },
         "yaxis": "y"
        },
        {
         "hovertemplate": "Sentiment=Joy<br>Retweets=%{x}<br>Likes=%{y}<extra></extra>",
         "legendgroup": "Joy",
         "marker": {
          "color": "#FF97FF",
          "symbol": "circle"
         },
         "mode": "markers",
         "name": "Joy",
         "orientation": "v",
         "showlegend": true,
         "type": "scatter",
         "x": {
          "bdata": "AAAAAAAANkAAAAAAAAA2QAAAAAAAAERAAAAAAAAANEAAAAAAAABEQAAAAAAAgEFAAAAAAAAAPEAAAAAAAABEQAAAAAAAADZAAAAAAAAAPkAAAAAAAIBBQAAAAAAAADZAAAAAAAAAPEAAAAAAAAA2QAAAAAAAADJAAAAAAACAQUAAAAAAAAA2QAAAAAAAADRAAAAAAAAANkAAAAAAAAAyQAAAAAAAADlAAAAAAAAANkAAAAAAAAA8QAAAAAAAADJAAAAAAAAAOUAAAAAAAAA2QAAAAAAAADRAAAAAAACAQUAAAAAAAAA0QAAAAAAAADxAAAAAAAAAOUAAAAAAAAA2QAAAAAAAADRAAAAAAAAAPEAAAAAAAAA2QAAAAAAAADRAAAAAAAAALkAAAAAAAAA5QAAAAAAAADJAAAAAAAAANEAAAAAAAAA1QAAAAAAAADNAAAAAAAAANkAAAAAAAAA6QA==",
          "dtype": "f8"
         },
         "xaxis": "x",
         "y": {
          "bdata": "AAAAAACARkAAAAAAAIBGQAAAAAAAAFRAAAAAAAAAREAAAAAAAABUQAAAAAAAgFFAAAAAAACAS0AAAAAAAABUQAAAAAAAgEZAAAAAAAAATkAAAAAAAIBRQAAAAAAAgEZAAAAAAACAS0AAAAAAAIBGQAAAAAAAgEFAAAAAAACAUUAAAAAAAIBGQAAAAAAAAERAAAAAAACARkAAAAAAAIBBQAAAAAAAAElAAAAAAACARkAAAAAAAIBLQAAAAAAAgEFAAAAAAAAASUAAAAAAAIBGQAAAAAAAAERAAAAAAACAUUAAAAAAAABEQAAAAAAAgEtAAAAAAAAASUAAAAAAAIBGQAAAAAAAAERAAAAAAACAS0AAAAAAAIBGQAAAAAAAAERAAAAAAAAAPkAAAAAAAABJQAAAAAAAAEJAAAAAAAAAREAAAAAAAIBDQAAAAAAAgEJAAAAAAACARUAAAAAAAABIQA==",
          "dtype": "f8"
         },
         "yaxis": "y"
        },
        {
         "hovertemplate": "Sentiment=Love<br>Retweets=%{x}<br>Likes=%{y}<extra></extra>",
         "legendgroup": "Love",
         "marker": {
          "color": "#FECB52",
          "symbol": "circle"
         },
         "mode": "markers",
         "name": "Love",
         "orientation": "v",
         "showlegend": true,
         "type": "scatter",
         "x": {
          "bdata": "AAAAAAAALkAAAAAAAAAuQAAAAAAAgEFA",
          "dtype": "f8"
         },
         "xaxis": "x",
         "y": {
          "bdata": "AAAAAAAAPkAAAAAAAAA+QAAAAAAAgFFA",
          "dtype": "f8"
         },
         "yaxis": "y"
        },
        {
         "hovertemplate": "Sentiment=Amusement<br>Retweets=%{x}<br>Likes=%{y}<extra></extra>",
         "legendgroup": "Amusement",
         "marker": {
          "color": "#636efa",
          "symbol": "circle"
         },
         "mode": "markers",
         "name": "Amusement",
         "orientation": "v",
         "showlegend": true,
         "type": "scatter",
         "x": {
          "bdata": "AAAAAAAAMkAAAAAAAAAyQAAAAAAAAC5A",
          "dtype": "f8"
         },
         "xaxis": "x",
         "y": {
          "bdata": "AAAAAACAQUAAAAAAAIBBQAAAAAAAAD5A",
          "dtype": "f8"
         },
         "yaxis": "y"
        },
        {
         "hovertemplate": "Sentiment=Enjoyment<br>Retweets=%{x}<br>Likes=%{y}<extra></extra>",
         "legendgroup": "Enjoyment",
         "marker": {
          "color": "#EF553B",
          "symbol": "circle"
         },
         "mode": "markers",
         "name": "Enjoyment",
         "orientation": "v",
         "showlegend": true,
         "type": "scatter",
         "x": {
          "bdata": "AAAAAAAAOUAAAAAAAAA5QA==",
          "dtype": "f8"
         },
         "xaxis": "x",
         "y": {
          "bdata": "AAAAAAAASUAAAAAAAABJQA==",
          "dtype": "f8"
         },
         "yaxis": "y"
        },
        {
         "hovertemplate": "Sentiment=Admiration<br>Retweets=%{x}<br>Likes=%{y}<extra></extra>",
         "legendgroup": "Admiration",
         "marker": {
          "color": "#00cc96",
          "symbol": "circle"
         },
         "mode": "markers",
         "name": "Admiration",
         "orientation": "v",
         "showlegend": true,
         "type": "scatter",
         "x": {
          "bdata": "AAAAAAAANEAAAAAAAAA0QAAAAAAAADlAAAAAAAAANkA=",
          "dtype": "f8"
         },
         "xaxis": "x",
         "y": {
          "bdata": "AAAAAAAAREAAAAAAAABEQAAAAAAAAElAAAAAAACARkA=",
          "dtype": "f8"
         },
         "yaxis": "y"
        },
        {
         "hovertemplate": "Sentiment=Affection<br>Retweets=%{x}<br>Likes=%{y}<extra></extra>",
         "legendgroup": "Affection",
         "marker": {
          "color": "#ab63fa",
          "symbol": "circle"
         },
         "mode": "markers",
         "name": "Affection",
         "orientation": "v",
         "showlegend": true,
         "type": "scatter",
         "x": {
          "bdata": "AAAAAAAALkAAAAAAAAAuQA==",
          "dtype": "f8"
         },
         "xaxis": "x",
         "y": {
          "bdata": "AAAAAAAAPkAAAAAAAAA+QA==",
          "dtype": "f8"
         },
         "yaxis": "y"
        },
        {
         "hovertemplate": "Sentiment=Awe<br>Retweets=%{x}<br>Likes=%{y}<extra></extra>",
         "legendgroup": "Awe",
         "marker": {
          "color": "#FFA15A",
          "symbol": "circle"
         },
         "mode": "markers",
         "name": "Awe",
         "orientation": "v",
         "showlegend": true,
         "type": "scatter",
         "x": {
          "bdata": "AAAAAAAANkAAAAAAAAA2QAAAAAAAADxAAAAAAAAAMkAAAAAAAAAyQAAAAAAAADlAAAAAAAAAPEAAAAAAAAAyQAAAAAAAADZA",
          "dtype": "f8"
         },
         "xaxis": "x",
         "y": {
          "bdata": "AAAAAACARkAAAAAAAIBGQAAAAAAAgEtAAAAAAACAQUAAAAAAAIBBQAAAAAAAAElAAAAAAACAS0AAAAAAAIBBQAAAAAAAgEZA",
          "dtype": "f8"
         },
         "yaxis": "y"
        },
        {
         "hovertemplate": "Sentiment=Disappointed<br>Retweets=%{x}<br>Likes=%{y}<extra></extra>",
         "legendgroup": "Disappointed",
         "marker": {
          "color": "#19d3f3",
          "symbol": "circle"
         },
         "mode": "markers",
         "name": "Disappointed",
         "orientation": "v",
         "showlegend": true,
         "type": "scatter",
         "x": {
          "bdata": "AAAAAAAAMkAAAAAAAAAyQA==",
          "dtype": "f8"
         },
         "xaxis": "x",
         "y": {
          "bdata": "AAAAAACAQUAAAAAAAIBBQA==",
          "dtype": "f8"
         },
         "yaxis": "y"
        },
        {
         "hovertemplate": "Sentiment=Surprise<br>Retweets=%{x}<br>Likes=%{y}<extra></extra>",
         "legendgroup": "Surprise",
         "marker": {
          "color": "#FF6692",
          "symbol": "circle"
         },
         "mode": "markers",
         "name": "Surprise",
         "orientation": "v",
         "showlegend": true,
         "type": "scatter",
         "x": {
          "bdata": "AAAAAAAAOUAAAAAAAAA5QAAAAAAAADJAAAAAAAAAOUAAAAAAAAA5QAAAAAAAADJA",
          "dtype": "f8"
         },
         "xaxis": "x",
         "y": {
          "bdata": "AAAAAAAASUAAAAAAAABJQAAAAAAAgEFAAAAAAAAASUAAAAAAAABJQAAAAAAAgEFA",
          "dtype": "f8"
         },
         "yaxis": "y"
        },
        {
         "hovertemplate": "Sentiment=Acceptance<br>Retweets=%{x}<br>Likes=%{y}<extra></extra>",
         "legendgroup": "Acceptance",
         "marker": {
          "color": "#B6E880",
          "symbol": "circle"
         },
         "mode": "markers",
         "name": "Acceptance",
         "orientation": "v",
         "showlegend": true,
         "type": "scatter",
         "x": {
          "bdata": "AAAAAAAALkAAAAAAAAAuQAAAAAAAADZAAAAAAAAALkAAAAAAAAAuQAAAAAAAADJAAAAAAAAAMkAAAAAAAAAyQA==",
          "dtype": "f8"
         },
         "xaxis": "x",
         "y": {
          "bdata": "AAAAAAAAPkAAAAAAAAA+QAAAAAAAgEZAAAAAAAAAPkAAAAAAAAA+QAAAAAAAAEJAAAAAAAAAQkAAAAAAAABCQA==",
          "dtype": "f8"
         },
         "yaxis": "y"
        },
        {
         "hovertemplate": "Sentiment=Adoration<br>Retweets=%{x}<br>Likes=%{y}<extra></extra>",
         "legendgroup": "Adoration",
         "marker": {
          "color": "#FF97FF",
          "symbol": "circle"
         },
         "mode": "markers",
         "name": "Adoration",
         "orientation": "v",
         "showlegend": true,
         "type": "scatter",
         "x": {
          "bdata": "AAAAAAAANkAAAAAAAAA2QA==",
          "dtype": "f8"
         },
         "xaxis": "x",
         "y": {
          "bdata": "AAAAAACARkAAAAAAAIBGQA==",
          "dtype": "f8"
         },
         "yaxis": "y"
        },
        {
         "hovertemplate": "Sentiment=Anticipation<br>Retweets=%{x}<br>Likes=%{y}<extra></extra>",
         "legendgroup": "Anticipation",
         "marker": {
          "color": "#FECB52",
          "symbol": "circle"
         },
         "mode": "markers",
         "name": "Anticipation",
         "orientation": "v",
         "showlegend": true,
         "type": "scatter",
         "x": {
          "bdata": "AAAAAAAANEAAAAAAAAA0QAAAAAAAAERA",
          "dtype": "f8"
         },
         "xaxis": "x",
         "y": {
          "bdata": "AAAAAAAAREAAAAAAAABEQAAAAAAAAFRA",
          "dtype": "f8"
         },
         "yaxis": "y"
        },
        {
         "hovertemplate": "Sentiment=Bitter<br>Retweets=%{x}<br>Likes=%{y}<extra></extra>",
         "legendgroup": "Bitter",
         "marker": {
          "color": "#636efa",
          "symbol": "circle"
         },
         "mode": "markers",
         "name": "Bitter",
         "orientation": "v",
         "showlegend": true,
         "type": "scatter",
         "x": {
          "bdata": "AAAAAAAAMkAAAAAAAAAyQAAAAAAAAC5A",
          "dtype": "f8"
         },
         "xaxis": "x",
         "y": {
          "bdata": "AAAAAACAQUAAAAAAAIBBQAAAAAAAAD5A",
          "dtype": "f8"
         },
         "yaxis": "y"
        },
        {
         "hovertemplate": "Sentiment=Calmness<br>Retweets=%{x}<br>Likes=%{y}<extra></extra>",
         "legendgroup": "Calmness",
         "marker": {
          "color": "#EF553B",
          "symbol": "circle"
         },
         "mode": "markers",
         "name": "Calmness",
         "orientation": "v",
         "showlegend": true,
         "type": "scatter",
         "x": {
          "bdata": "AAAAAAAALkAAAAAAAAAuQAAAAAAAAC5AAAAAAAAAMkA=",
          "dtype": "f8"
         },
         "xaxis": "x",
         "y": {
          "bdata": "AAAAAAAAPkAAAAAAAAA+QAAAAAAAAD5AAAAAAACAQUA=",
          "dtype": "f8"
         },
         "yaxis": "y"
        },
        {
         "hovertemplate": "Sentiment=Confusion<br>Retweets=%{x}<br>Likes=%{y}<extra></extra>",
         "legendgroup": "Confusion",
         "marker": {
          "color": "#00cc96",
          "symbol": "circle"
         },
         "mode": "markers",
         "name": "Confusion",
         "orientation": "v",
         "showlegend": true,
         "type": "scatter",
         "x": {
          "bdata": "AAAAAAAAOUAAAAAAAAA5QAAAAAAAAD5AAAAAAAAAJEAAAAAAAAAuQAAAAAAAACxAAAAAAAAALEAAAAAAAAAsQA==",
          "dtype": "f8"
         },
         "xaxis": "x",
         "y": {
          "bdata": "AAAAAAAASUAAAAAAAABJQAAAAAAAAE5AAAAAAAAANEAAAAAAAAA+QAAAAAAAADxAAAAAAAAAPEAAAAAAAAA8QA==",
          "dtype": "f8"
         },
         "yaxis": "y"
        },
        {
         "hovertemplate": "Sentiment=Excitement<br>Retweets=%{x}<br>Likes=%{y}<extra></extra>",
         "legendgroup": "Excitement",
         "marker": {
          "color": "#ab63fa",
          "symbol": "circle"
         },
         "mode": "markers",
         "name": "Excitement",
         "orientation": "v",
         "showlegend": true,
         "type": "scatter",
         "x": {
          "bdata": "AAAAAAAANkAAAAAAAAA2QAAAAAAAADJAAAAAAAAAOUAAAAAAAAA+QAAAAAAAAD5AAAAAAAAANkAAAAAAAAA+QAAAAAAAADZAAAAAAACAQUAAAAAAAABEQAAAAAAAAD5AAAAAAAAALkAAAAAAAAA2QAAAAAAAADRAAAAAAAAAMkAAAAAAAIBBQAAAAAAAAD5AAAAAAAAAPEAAAAAAAAA5QAAAAAAAAD5AAAAAAAAAOUAAAAAAAAAyQAAAAAAAAD5AAAAAAAAAPkAAAAAAAAA5QAAAAAAAgEFAAAAAAAAAPEAAAAAAAAAyQAAAAAAAADZAAAAAAAAANEAAAAAAAAA6QAAAAAAAADhAAAAAAAAAN0AAAAAAAAA7QAAAAAAAADRAAAAAAAAAN0A=",
          "dtype": "f8"
         },
         "xaxis": "x",
         "y": {
          "bdata": "AAAAAACARkAAAAAAAIBGQAAAAAAAgEFAAAAAAAAASUAAAAAAAABOQAAAAAAAAE5AAAAAAACARkAAAAAAAABOQAAAAAAAgEZAAAAAAACAUUAAAAAAAABUQAAAAAAAAE5AAAAAAAAAPkAAAAAAAIBGQAAAAAAAAERAAAAAAACAQUAAAAAAAIBRQAAAAAAAAE5AAAAAAACAS0AAAAAAAABJQAAAAAAAAE5AAAAAAAAASUAAAAAAAIBBQAAAAAAAAE5AAAAAAAAATkAAAAAAAABJQAAAAAAAgFFAAAAAAACAS0AAAAAAAIBBQAAAAAAAAERAAAAAAAAAQ0AAAAAAAABIQAAAAAAAAEVAAAAAAAAARkAAAAAAAABKQAAAAAAAgENAAAAAAAAARUA=",
          "dtype": "f8"
         },
         "yaxis": "y"
        },
        {
         "hovertemplate": "Sentiment=Kind<br>Retweets=%{x}<br>Likes=%{y}<extra></extra>",
         "legendgroup": "Kind",
         "marker": {
          "color": "#FFA15A",
          "symbol": "circle"
         },
         "mode": "markers",
         "name": "Kind",
         "orientation": "v",
         "showlegend": true,
         "type": "scatter",
         "x": {
          "bdata": "AAAAAAAANEAAAAAAAAA0QAAAAAAAADZA",
          "dtype": "f8"
         },
         "xaxis": "x",
         "y": {
          "bdata": "AAAAAAAAREAAAAAAAABEQAAAAAAAgEZA",
          "dtype": "f8"
         },
         "yaxis": "y"
        },
        {
         "hovertemplate": "Sentiment=Pride<br>Retweets=%{x}<br>Likes=%{y}<extra></extra>",
         "legendgroup": "Pride",
         "marker": {
          "color": "#19d3f3",
          "symbol": "circle"
         },
         "mode": "markers",
         "name": "Pride",
         "orientation": "v",
         "showlegend": true,
         "type": "scatter",
         "x": {
          "bdata": "AAAAAAAAPkAAAAAAAAA+QAAAAAAAAChAAAAAAAAAPEAAAAAAAAAyQAAAAAAAADZAAAAAAAAAOUA=",
          "dtype": "f8"
         },
         "xaxis": "x",
         "y": {
          "bdata": "AAAAAAAATkAAAAAAAABOQAAAAAAAADlAAAAAAACAS0AAAAAAAIBBQAAAAAAAgEZAAAAAAAAASUA=",
          "dtype": "f8"
         },
         "yaxis": "y"
        },
        {
         "hovertemplate": "Sentiment=Shame<br>Retweets=%{x}<br>Likes=%{y}<extra></extra>",
         "legendgroup": "Shame",
         "marker": {
          "color": "#FF6692",
          "symbol": "circle"
         },
         "mode": "markers",
         "name": "Shame",
         "orientation": "v",
         "showlegend": true,
         "type": "scatter",
         "x": {
          "bdata": "AAAAAAAALkAAAAAAAAAuQAAAAAAAAC5A",
          "dtype": "f8"
         },
         "xaxis": "x",
         "y": {
          "bdata": "AAAAAAAAPkAAAAAAAAA+QAAAAAAAAD5A",
          "dtype": "f8"
         },
         "yaxis": "y"
        },
        {
         "hovertemplate": "Sentiment=Elation<br>Retweets=%{x}<br>Likes=%{y}<extra></extra>",
         "legendgroup": "Elation",
         "marker": {
          "color": "#B6E880",
          "symbol": "circle"
         },
         "mode": "markers",
         "name": "Elation",
         "orientation": "v",
         "showlegend": true,
         "type": "scatter",
         "x": {
          "bdata": "AAAAAAAANEAAAAAAAAA5QAAAAAAAADlAAAAAAAAANEAAAAAAAAA5QAAAAAAAADlAAAAAAAAAREA=",
          "dtype": "f8"
         },
         "xaxis": "x",
         "y": {
          "bdata": "AAAAAAAAREAAAAAAAABJQAAAAAAAAElAAAAAAAAAREAAAAAAAABJQAAAAAAAAElAAAAAAAAAVEA=",
          "dtype": "f8"
         },
         "yaxis": "y"
        },
        {
         "hovertemplate": "Sentiment=Euphoria<br>Retweets=%{x}<br>Likes=%{y}<extra></extra>",
         "legendgroup": "Euphoria",
         "marker": {
          "color": "#FF97FF",
          "symbol": "circle"
         },
         "mode": "markers",
         "name": "Euphoria",
         "orientation": "v",
         "showlegend": true,
         "type": "scatter",
         "x": {
          "bdata": "AAAAAAAALkAAAAAAAAAuQAAAAAAAAC5AAAAAAAAALkAAAAAAAAA0QAAAAAAAADRAAAAAAACAQUA=",
          "dtype": "f8"
         },
         "xaxis": "x",
         "y": {
          "bdata": "AAAAAAAAPkAAAAAAAAA+QAAAAAAAAD5AAAAAAAAAPkAAAAAAAABEQAAAAAAAAERAAAAAAACAUUA=",
          "dtype": "f8"
         },
         "yaxis": "y"
        },
        {
         "hovertemplate": "Sentiment=Contentment<br>Retweets=%{x}<br>Likes=%{y}<extra></extra>",
         "legendgroup": "Contentment",
         "marker": {
          "color": "#FECB52",
          "symbol": "circle"
         },
         "mode": "markers",
         "name": "Contentment",
         "orientation": "v",
         "showlegend": true,
         "type": "scatter",
         "x": {
          "bdata": "AAAAAAAAOUAAAAAAAAA+QAAAAAAAADlAAAAAAAAAPkAAAAAAAAAyQAAAAAAAADRAAAAAAAAANEAAAAAAAAA5QAAAAAAAADxAAAAAAAAAOUAAAAAAAIBBQAAAAAAAADlAAAAAAAAAPEAAAAAAAAAyQAAAAAAAADlAAAAAAAAAPEAAAAAAAAA0QAAAAAAAgEFAAAAAAAAAPkA=",
          "dtype": "f8"
         },
         "xaxis": "x",
         "y": {
          "bdata": "AAAAAAAASUAAAAAAAABOQAAAAAAAAElAAAAAAAAATkAAAAAAAABCQAAAAAAAAERAAAAAAAAAREAAAAAAAABJQAAAAAAAgEtAAAAAAAAASUAAAAAAAIBRQAAAAAAAAElAAAAAAACAS0AAAAAAAIBBQAAAAAAAAElAAAAAAACAS0AAAAAAAABEQAAAAAAAgFFAAAAAAAAATkA=",
          "dtype": "f8"
         },
         "yaxis": "y"
        },
        {
         "hovertemplate": "Sentiment=Serenity<br>Retweets=%{x}<br>Likes=%{y}<extra></extra>",
         "legendgroup": "Serenity",
         "marker": {
          "color": "#636efa",
          "symbol": "circle"
         },
         "mode": "markers",
         "name": "Serenity",
         "orientation": "v",
         "showlegend": true,
         "type": "scatter",
         "x": {
          "bdata": "AAAAAAAAMkAAAAAAAAA2QAAAAAAAADJAAAAAAAAANkAAAAAAAAAoQAAAAAAAADlAAAAAAAAAOUAAAAAAAAA5QAAAAAAAADlAAAAAAAAAKkAAAAAAAAA2QAAAAAAAADxAAAAAAAAANkAAAAAAAAA2QAAAAAAAADJA",
          "dtype": "f8"
         },
         "xaxis": "x",
         "y": {
          "bdata": "AAAAAACAQUAAAAAAAIBGQAAAAAAAgEFAAAAAAACARkAAAAAAAAA5QAAAAAAAAElAAAAAAAAASUAAAAAAAABJQAAAAAAAAElAAAAAAAAAOkAAAAAAAIBGQAAAAAAAgEtAAAAAAACARkAAAAAAAIBGQAAAAAAAgEFA",
          "dtype": "f8"
         },
         "yaxis": "y"
        },
        {
         "hovertemplate": "Sentiment=Gratitude<br>Retweets=%{x}<br>Likes=%{y}<extra></extra>",
         "legendgroup": "Gratitude",
         "marker": {
          "color": "#EF553B",
          "symbol": "circle"
         },
         "mode": "markers",
         "name": "Gratitude",
         "orientation": "v",
         "showlegend": true,
         "type": "scatter",
         "x": {
          "bdata": "AAAAAAAAPkAAAAAAAAAuQAAAAAAAAD5AAAAAAAAALkAAAAAAAIBBQAAAAAAAADZAAAAAAAAANkAAAAAAAAA2QAAAAAAAADJAAAAAAAAANkAAAAAAAAA8QAAAAAAAADJAAAAAAAAAPEAAAAAAAIBBQAAAAAAAADxAAAAAAAAANkAAAAAAAAA+QAAAAAAAADZA",
          "dtype": "f8"
         },
         "xaxis": "x",
         "y": {
          "bdata": "AAAAAAAATkAAAAAAAAA+QAAAAAAAAE5AAAAAAAAAPkAAAAAAAIBRQAAAAAAAgEZAAAAAAACARkAAAAAAAIBGQAAAAAAAgEFAAAAAAACARkAAAAAAAIBLQAAAAAAAgEFAAAAAAACAS0AAAAAAAIBRQAAAAAAAgEtAAAAAAACARkAAAAAAAABOQAAAAAAAgEZA",
          "dtype": "f8"
         },
         "yaxis": "y"
        },
        {
         "hovertemplate": "Sentiment=Hope<br>Retweets=%{x}<br>Likes=%{y}<extra></extra>",
         "legendgroup": "Hope",
         "marker": {
          "color": "#00cc96",
          "symbol": "circle"
         },
         "mode": "markers",
         "name": "Hope",
         "orientation": "v",
         "showlegend": true,
         "type": "scatter",
         "x": {
          "bdata": "AAAAAAAANkAAAAAAAAAyQAAAAAAAADZAAAAAAAAAMkAAAAAAAAA+QA==",
          "dtype": "f8"
         },
         "xaxis": "x",
         "y": {
          "bdata": "AAAAAACARkAAAAAAAIBBQAAAAAAAgEZAAAAAAACAQUAAAAAAAABOQA==",
          "dtype": "f8"
         },
         "yaxis": "y"
        },
        {
         "hovertemplate": "Sentiment=Empowerment<br>Retweets=%{x}<br>Likes=%{y}<extra></extra>",
         "legendgroup": "Empowerment",
         "marker": {
          "color": "#ab63fa",
          "symbol": "circle"
         },
         "mode": "markers",
         "name": "Empowerment",
         "orientation": "v",
         "showlegend": true,
         "type": "scatter",
         "x": {
          "bdata": "AAAAAAAALkAAAAAAAAA5QAAAAAAAAC5AAAAAAAAAOUAAAAAAAIBBQA==",
          "dtype": "f8"
         },
         "xaxis": "x",
         "y": {
          "bdata": "AAAAAAAAPkAAAAAAAABJQAAAAAAAAD5AAAAAAAAASUAAAAAAAIBRQA==",
          "dtype": "f8"
         },
         "yaxis": "y"
        },
        {
         "hovertemplate": "Sentiment=Compassion<br>Retweets=%{x}<br>Likes=%{y}<extra></extra>",
         "legendgroup": "Compassion",
         "marker": {
          "color": "#FFA15A",
          "symbol": "circle"
         },
         "mode": "markers",
         "name": "Compassion",
         "orientation": "v",
         "showlegend": true,
         "type": "scatter",
         "x": {
          "bdata": "AAAAAAAAMkAAAAAAAAAyQAAAAAAAADJAAAAAAAAAMkA=",
          "dtype": "f8"
         },
         "xaxis": "x",
         "y": {
          "bdata": "AAAAAACAQUAAAAAAAIBBQAAAAAAAgEFAAAAAAACAQUA=",
          "dtype": "f8"
         },
         "yaxis": "y"
        },
        {
         "hovertemplate": "Sentiment=Tenderness<br>Retweets=%{x}<br>Likes=%{y}<extra></extra>",
         "legendgroup": "Tenderness",
         "marker": {
          "color": "#19d3f3",
          "symbol": "circle"
         },
         "mode": "markers",
         "name": "Tenderness",
         "orientation": "v",
         "showlegend": true,
         "type": "scatter",
         "x": {
          "bdata": "AAAAAAAAOUAAAAAAAAA5QAAAAAAAADlAAAAAAAAAOUA=",
          "dtype": "f8"
         },
         "xaxis": "x",
         "y": {
          "bdata": "AAAAAAAASUAAAAAAAABJQAAAAAAAAElAAAAAAAAASUA=",
          "dtype": "f8"
         },
         "yaxis": "y"
        },
        {
         "hovertemplate": "Sentiment=Arousal<br>Retweets=%{x}<br>Likes=%{y}<extra></extra>",
         "legendgroup": "Arousal",
         "marker": {
          "color": "#FF6692",
          "symbol": "circle"
         },
         "mode": "markers",
         "name": "Arousal",
         "orientation": "v",
         "showlegend": true,
         "type": "scatter",
         "x": {
          "bdata": "AAAAAAAANEAAAAAAAAA0QAAAAAAAADRAAAAAAAAANEA=",
          "dtype": "f8"
         },
         "xaxis": "x",
         "y": {
          "bdata": "AAAAAAAAREAAAAAAAABEQAAAAAAAAERAAAAAAAAAREA=",
          "dtype": "f8"
         },
         "yaxis": "y"
        },
        {
         "hovertemplate": "Sentiment=Enthusiasm<br>Retweets=%{x}<br>Likes=%{y}<extra></extra>",
         "legendgroup": "Enthusiasm",
         "marker": {
          "color": "#B6E880",
          "symbol": "circle"
         },
         "mode": "markers",
         "name": "Enthusiasm",
         "orientation": "v",
         "showlegend": true,
         "type": "scatter",
         "x": {
          "bdata": "AAAAAAAALkAAAAAAAAAuQAAAAAAAAC5AAAAAAAAALkAAAAAAAAA+QAAAAAAAAD5AAAAAAAAAREA=",
          "dtype": "f8"
         },
         "xaxis": "x",
         "y": {
          "bdata": "AAAAAAAAPkAAAAAAAAA+QAAAAAAAAD5AAAAAAAAAPkAAAAAAAABOQAAAAAAAAE5AAAAAAAAAVEA=",
          "dtype": "f8"
         },
         "yaxis": "y"
        },
        {
         "hovertemplate": "Sentiment=Fulfillment<br>Retweets=%{x}<br>Likes=%{y}<extra></extra>",
         "legendgroup": "Fulfillment",
         "marker": {
          "color": "#FF97FF",
          "symbol": "circle"
         },
         "mode": "markers",
         "name": "Fulfillment",
         "orientation": "v",
         "showlegend": true,
         "type": "scatter",
         "x": {
          "bdata": "AAAAAAAANkAAAAAAAAA2QAAAAAAAADZAAAAAAAAANkA=",
          "dtype": "f8"
         },
         "xaxis": "x",
         "y": {
          "bdata": "AAAAAACARkAAAAAAAIBGQAAAAAAAgEZAAAAAAACARkA=",
          "dtype": "f8"
         },
         "yaxis": "y"
        },
        {
         "hovertemplate": "Sentiment=Reverence<br>Retweets=%{x}<br>Likes=%{y}<extra></extra>",
         "legendgroup": "Reverence",
         "marker": {
          "color": "#FECB52",
          "symbol": "circle"
         },
         "mode": "markers",
         "name": "Reverence",
         "orientation": "v",
         "showlegend": true,
         "type": "scatter",
         "x": {
          "bdata": "AAAAAAAAMkAAAAAAAAAyQAAAAAAAADJAAAAAAAAAMkA=",
          "dtype": "f8"
         },
         "xaxis": "x",
         "y": {
          "bdata": "AAAAAACAQUAAAAAAAIBBQAAAAAAAgEFAAAAAAACAQUA=",
          "dtype": "f8"
         },
         "yaxis": "y"
        },
        {
         "hovertemplate": "Sentiment=Despair<br>Retweets=%{x}<br>Likes=%{y}<extra></extra>",
         "legendgroup": "Despair",
         "marker": {
          "color": "#636efa",
          "symbol": "circle"
         },
         "mode": "markers",
         "name": "Despair",
         "orientation": "v",
         "showlegend": true,
         "type": "scatter",
         "x": {
          "bdata": "AAAAAAAAFEAAAAAAAAAkQAAAAAAAACRAAAAAAAAAIEAAAAAAAAAgQAAAAAAAADxAAAAAAAAAREAAAAAAAAA8QAAAAAAAADJAAAAAAAAANEAAAAAAAAA2QA==",
          "dtype": "f8"
         },
         "xaxis": "x",
         "y": {
          "bdata": "AAAAAAAAJEAAAAAAAAA0QAAAAAAAADRAAAAAAAAAMEAAAAAAAAAwQAAAAAAAgEtAAAAAAAAAVEAAAAAAAIBLQAAAAAAAgEFAAAAAAAAAREAAAAAAAIBGQA==",
          "dtype": "f8"
         },
         "yaxis": "y"
        },
        {
         "hovertemplate": "Sentiment=Grief<br>Retweets=%{x}<br>Likes=%{y}<extra></extra>",
         "legendgroup": "Grief",
         "marker": {
          "color": "#EF553B",
          "symbol": "circle"
         },
         "mode": "markers",
         "name": "Grief",
         "orientation": "v",
         "showlegend": true,
         "type": "scatter",
         "x": {
          "bdata": "AAAAAAAAIEAAAAAAAAAoQAAAAAAAAChAAAAAAAAANkAAAAAAAAA8QAAAAAAAADJAAAAAAAAAPkAAAAAAAAA5QAAAAAAAADZA",
          "dtype": "f8"
         },
         "xaxis": "x",
         "y": {
          "bdata": "AAAAAAAALkAAAAAAAAA5QAAAAAAAADlAAAAAAACARkAAAAAAAIBLQAAAAAAAgEFAAAAAAAAATkAAAAAAAABJQAAAAAAAgEZA",
          "dtype": "f8"
         },
         "yaxis": "y"
        },
        {
         "hovertemplate": "Sentiment=Loneliness<br>Retweets=%{x}<br>Likes=%{y}<extra></extra>",
         "legendgroup": "Loneliness",
         "marker": {
          "color": "#00cc96",
          "symbol": "circle"
         },
         "mode": "markers",
         "name": "Loneliness",
         "orientation": "v",
         "showlegend": true,
         "type": "scatter",
         "x": {
          "bdata": "AAAAAAAAJEAAAAAAAAAuQAAAAAAAAC5AAAAAAAAALkAAAAAAAAAyQAAAAAAAADJAAAAAAAAAMkAAAAAAAAAyQAAAAAAAADZA",
          "dtype": "f8"
         },
         "xaxis": "x",
         "y": {
          "bdata": "AAAAAAAANEAAAAAAAAA+QAAAAAAAAD5AAAAAAAAAPkAAAAAAAABCQAAAAAAAAEJAAAAAAAAAQkAAAAAAAIBBQAAAAAAAgEZA",
          "dtype": "f8"
         },
         "yaxis": "y"
        },
        {
         "hovertemplate": "Sentiment=Jealousy<br>Retweets=%{x}<br>Likes=%{y}<extra></extra>",
         "legendgroup": "Jealousy",
         "marker": {
          "color": "#ab63fa",
          "symbol": "circle"
         },
         "mode": "markers",
         "name": "Jealousy",
         "orientation": "v",
         "showlegend": true,
         "type": "scatter",
         "x": {
          "bdata": "AAAAAAAAKEAAAAAAAAAgQAAAAAAAACBA",
          "dtype": "f8"
         },
         "xaxis": "x",
         "y": {
          "bdata": "AAAAAAAAOUAAAAAAAAAuQAAAAAAAAC5A",
          "dtype": "f8"
         },
         "yaxis": "y"
        },
        {
         "hovertemplate": "Sentiment=Resentment<br>Retweets=%{x}<br>Likes=%{y}<extra></extra>",
         "legendgroup": "Resentment",
         "marker": {
          "color": "#FFA15A",
          "symbol": "circle"
         },
         "mode": "markers",
         "name": "Resentment",
         "orientation": "v",
         "showlegend": true,
         "type": "scatter",
         "x": {
          "bdata": "AAAAAAAAHEAAAAAAAAAkQAAAAAAAACRA",
          "dtype": "f8"
         },
         "xaxis": "x",
         "y": {
          "bdata": "AAAAAAAALkAAAAAAAAA0QAAAAAAAADRA",
          "dtype": "f8"
         },
         "yaxis": "y"
        },
        {
         "hovertemplate": "Sentiment=Frustration<br>Retweets=%{x}<br>Likes=%{y}<extra></extra>",
         "legendgroup": "Frustration",
         "marker": {
          "color": "#19d3f3",
          "symbol": "circle"
         },
         "mode": "markers",
         "name": "Frustration",
         "orientation": "v",
         "showlegend": true,
         "type": "scatter",
         "x": {
          "bdata": "AAAAAAAAJEAAAAAAAAAoQAAAAAAAAChAAAAAAACAQUAAAAAAAAA0QAAAAAAAADxA",
          "dtype": "f8"
         },
         "xaxis": "x",
         "y": {
          "bdata": "AAAAAAAANEAAAAAAAAA5QAAAAAAAADlAAAAAAACAUUAAAAAAAABEQAAAAAAAgEtA",
          "dtype": "f8"
         },
         "yaxis": "y"
        },
        {
         "hovertemplate": "Sentiment=Boredom<br>Retweets=%{x}<br>Likes=%{y}<extra></extra>",
         "legendgroup": "Boredom",
         "marker": {
          "color": "#FF6692",
          "symbol": "circle"
         },
         "mode": "markers",
         "name": "Boredom",
         "orientation": "v",
         "showlegend": true,
         "type": "scatter",
         "x": {
          "bdata": "AAAAAAAAIEAAAAAAAAAcQAAAAAAAABxAAAAAAAAAMkA=",
          "dtype": "f8"
         },
         "xaxis": "x",
         "y": {
          "bdata": "AAAAAAAALkAAAAAAAAAuQAAAAAAAAC5AAAAAAACAQUA=",
          "dtype": "f8"
         },
         "yaxis": "y"
        },
        {
         "hovertemplate": "Sentiment=Anxiety<br>Retweets=%{x}<br>Likes=%{y}<extra></extra>",
         "legendgroup": "Anxiety",
         "marker": {
          "color": "#B6E880",
          "symbol": "circle"
         },
         "mode": "markers",
         "name": "Anxiety",
         "orientation": "v",
         "showlegend": true,
         "type": "scatter",
         "x": {
          "bdata": "AAAAAAAAKEAAAAAAAAAkQA==",
          "dtype": "f8"
         },
         "xaxis": "x",
         "y": {
          "bdata": "AAAAAAAAOUAAAAAAAAA0QA==",
          "dtype": "f8"
         },
         "yaxis": "y"
        },
        {
         "hovertemplate": "Sentiment=Intimidation<br>Retweets=%{x}<br>Likes=%{y}<extra></extra>",
         "legendgroup": "Intimidation",
         "marker": {
          "color": "#FF97FF",
          "symbol": "circle"
         },
         "mode": "markers",
         "name": "Intimidation",
         "orientation": "v",
         "showlegend": true,
         "type": "scatter",
         "x": {
          "bdata": "AAAAAAAALkAAAAAAAAAuQA==",
          "dtype": "f8"
         },
         "xaxis": "x",
         "y": {
          "bdata": "AAAAAAAAPkAAAAAAAAA+QA==",
          "dtype": "f8"
         },
         "yaxis": "y"
        },
        {
         "hovertemplate": "Sentiment=Helplessness<br>Retweets=%{x}<br>Likes=%{y}<extra></extra>",
         "legendgroup": "Helplessness",
         "marker": {
          "color": "#FECB52",
          "symbol": "circle"
         },
         "mode": "markers",
         "name": "Helplessness",
         "orientation": "v",
         "showlegend": true,
         "type": "scatter",
         "x": {
          "bdata": "AAAAAAAAIEAAAAAAAAAgQA==",
          "dtype": "f8"
         },
         "xaxis": "x",
         "y": {
          "bdata": "AAAAAAAALkAAAAAAAAAuQA==",
          "dtype": "f8"
         },
         "yaxis": "y"
        },
        {
         "hovertemplate": "Sentiment=Envy<br>Retweets=%{x}<br>Likes=%{y}<extra></extra>",
         "legendgroup": "Envy",
         "marker": {
          "color": "#636efa",
          "symbol": "circle"
         },
         "mode": "markers",
         "name": "Envy",
         "orientation": "v",
         "showlegend": true,
         "type": "scatter",
         "x": {
          "bdata": "AAAAAAAAJEAAAAAAAAAkQA==",
          "dtype": "f8"
         },
         "xaxis": "x",
         "y": {
          "bdata": "AAAAAAAANEAAAAAAAAA0QA==",
          "dtype": "f8"
         },
         "yaxis": "y"
        },
        {
         "hovertemplate": "Sentiment=Regret<br>Retweets=%{x}<br>Likes=%{y}<extra></extra>",
         "legendgroup": "Regret",
         "marker": {
          "color": "#EF553B",
          "symbol": "circle"
         },
         "mode": "markers",
         "name": "Regret",
         "orientation": "v",
         "showlegend": true,
         "type": "scatter",
         "x": {
          "bdata": "AAAAAAAAKEAAAAAAAAAoQAAAAAAAADJAAAAAAAAAOUAAAAAAAAAyQAAAAAAAADJA",
          "dtype": "f8"
         },
         "xaxis": "x",
         "y": {
          "bdata": "AAAAAAAAOUAAAAAAAAA5QAAAAAAAgEFAAAAAAAAASUAAAAAAAIBBQAAAAAAAgEFA",
          "dtype": "f8"
         },
         "yaxis": "y"
        },
        {
         "hovertemplate": "Sentiment=Curiosity<br>Retweets=%{x}<br>Likes=%{y}<extra></extra>",
         "legendgroup": "Curiosity",
         "marker": {
          "color": "#00cc96",
          "symbol": "circle"
         },
         "mode": "markers",
         "name": "Curiosity",
         "orientation": "v",
         "showlegend": true,
         "type": "scatter",
         "x": {
          "bdata": "AAAAAAAALkAAAAAAAAA0QAAAAAAAADZAAAAAAAAANkAAAAAAAAA2QAAAAAAAADFAAAAAAAAAMkAAAAAAAAAyQAAAAAAAADJAAAAAAAAANkAAAAAAAAA0QAAAAAAAAD5AAAAAAAAANkAAAAAAAAA+QAAAAAAAAD5AAAAAAAAAMkA=",
          "dtype": "f8"
         },
         "xaxis": "x",
         "y": {
          "bdata": "AAAAAAAAPkAAAAAAAABEQAAAAAAAgEZAAAAAAACARkAAAAAAAABGQAAAAAAAAEFAAAAAAACAQUAAAAAAAIBBQAAAAAAAgEFAAAAAAACARkAAAAAAAABEQAAAAAAAAE5AAAAAAACARkAAAAAAAABOQAAAAAAAAE5AAAAAAACAQUA=",
          "dtype": "f8"
         },
         "yaxis": "y"
        },
        {
         "hovertemplate": "Sentiment=Indifference<br>Retweets=%{x}<br>Likes=%{y}<extra></extra>",
         "legendgroup": "Indifference",
         "marker": {
          "color": "#ab63fa",
          "symbol": "circle"
         },
         "mode": "markers",
         "name": "Indifference",
         "orientation": "v",
         "showlegend": true,
         "type": "scatter",
         "x": {
          "bdata": "AAAAAAAAHEAAAAAAAAAkQAAAAAAAACJAAAAAAAAAIkAAAAAAAAAiQAAAAAAAADRA",
          "dtype": "f8"
         },
         "xaxis": "x",
         "y": {
          "bdata": "AAAAAAAALkAAAAAAAAA0QAAAAAAAADJAAAAAAAAAMkAAAAAAAAAyQAAAAAAAAERA",
          "dtype": "f8"
         },
         "yaxis": "y"
        },
        {
         "hovertemplate": "Sentiment=Numbness<br>Retweets=%{x}<br>Likes=%{y}<extra></extra>",
         "legendgroup": "Numbness",
         "marker": {
          "color": "#FFA15A",
          "symbol": "circle"
         },
         "mode": "markers",
         "name": "Numbness",
         "orientation": "v",
         "showlegend": true,
         "type": "scatter",
         "x": {
          "bdata": "AAAAAAAAIEAAAAAAAAAgQAAAAAAAACRAAAAAAAAAJkAAAAAAAAAkQAAAAAAAACRA",
          "dtype": "f8"
         },
         "xaxis": "x",
         "y": {
          "bdata": "AAAAAAAALkAAAAAAAAAuQAAAAAAAADRAAAAAAAAANkAAAAAAAAA0QAAAAAAAADRA",
          "dtype": "f8"
         },
         "yaxis": "y"
        },
        {
         "hovertemplate": "Sentiment=Melancholy<br>Retweets=%{x}<br>Likes=%{y}<extra></extra>",
         "legendgroup": "Melancholy",
         "marker": {
          "color": "#19d3f3",
          "symbol": "circle"
         },
         "mode": "markers",
         "name": "Melancholy",
         "orientation": "v",
         "showlegend": true,
         "type": "scatter",
         "x": {
          "bdata": "AAAAAAAAKEAAAAAAAAAoQAAAAAAAACpAAAAAAAAAKkAAAAAAAAAqQAAAAAAAADJA",
          "dtype": "f8"
         },
         "xaxis": "x",
         "y": {
          "bdata": "AAAAAAAAOUAAAAAAAAA5QAAAAAAAADpAAAAAAAAAOkAAAAAAAAA6QAAAAAAAgEFA",
          "dtype": "f8"
         },
         "yaxis": "y"
        },
        {
         "hovertemplate": "Sentiment=Nostalgia<br>Retweets=%{x}<br>Likes=%{y}<extra></extra>",
         "legendgroup": "Nostalgia",
         "marker": {
          "color": "#FF6692",
          "symbol": "circle"
         },
         "mode": "markers",
         "name": "Nostalgia",
         "orientation": "v",
         "showlegend": true,
         "type": "scatter",
         "x": {
          "bdata": "AAAAAAAAJEAAAAAAAAAkQAAAAAAAAChAAAAAAAAAKEAAAAAAAAAoQAAAAAAAADZAAAAAAAAANEAAAAAAAAA5QAAAAAAAADJAAAAAAAAANkAAAAAAAIBBQA==",
          "dtype": "f8"
         },
         "xaxis": "x",
         "y": {
          "bdata": "AAAAAAAANEAAAAAAAAA0QAAAAAAAADlAAAAAAAAAOUAAAAAAAAA5QAAAAAAAgEZAAAAAAAAAREAAAAAAAABJQAAAAAAAgEFAAAAAAACARkAAAAAAAIBRQA==",
          "dtype": "f8"
         },
         "yaxis": "y"
        },
        {
         "hovertemplate": "Sentiment=Ambivalence<br>Retweets=%{x}<br>Likes=%{y}<extra></extra>",
         "legendgroup": "Ambivalence",
         "marker": {
          "color": "#B6E880",
          "symbol": "circle"
         },
         "mode": "markers",
         "name": "Ambivalence",
         "orientation": "v",
         "showlegend": true,
         "type": "scatter",
         "x": {
          "bdata": "AAAAAAAAKEAAAAAAAAAoQAAAAAAAAC5AAAAAAAAALkAAAAAAAAAuQAAAAAAAACxA",
          "dtype": "f8"
         },
         "xaxis": "x",
         "y": {
          "bdata": "AAAAAAAAOUAAAAAAAAA5QAAAAAAAAD5AAAAAAAAAPkAAAAAAAAA+QAAAAAAAADxA",
          "dtype": "f8"
         },
         "yaxis": "y"
        },
        {
         "hovertemplate": "Sentiment=Determination<br>Retweets=%{x}<br>Likes=%{y}<extra></extra>",
         "legendgroup": "Determination",
         "marker": {
          "color": "#FF97FF",
          "symbol": "circle"
         },
         "mode": "markers",
         "name": "Determination",
         "orientation": "v",
         "showlegend": true,
         "type": "scatter",
         "x": {
          "bdata": "AAAAAAAAJEAAAAAAAAAyQAAAAAAAADRAAAAAAAAANEAAAAAAAAA0QAAAAAAAAC5AAAAAAACAQUA=",
          "dtype": "f8"
         },
         "xaxis": "x",
         "y": {
          "bdata": "AAAAAAAANEAAAAAAAIBBQAAAAAAAAERAAAAAAAAAREAAAAAAAABEQAAAAAAAAD5AAAAAAACAUUA=",
          "dtype": "f8"
         },
         "yaxis": "y"
        },
        {
         "hovertemplate": "Sentiment=Zest<br>Retweets=%{x}<br>Likes=%{y}<extra></extra>",
         "legendgroup": "Zest",
         "marker": {
          "color": "#FECB52",
          "symbol": "circle"
         },
         "mode": "markers",
         "name": "Zest",
         "orientation": "v",
         "showlegend": true,
         "type": "scatter",
         "x": {
          "bdata": "AAAAAAAALkAAAAAAAAAwQA==",
          "dtype": "f8"
         },
         "xaxis": "x",
         "y": {
          "bdata": "AAAAAAAAPkAAAAAAAABAQA==",
          "dtype": "f8"
         },
         "yaxis": "y"
        },
        {
         "hovertemplate": "Sentiment=Hopeful<br>Retweets=%{x}<br>Likes=%{y}<extra></extra>",
         "legendgroup": "Hopeful",
         "marker": {
          "color": "#636efa",
          "symbol": "circle"
         },
         "mode": "markers",
         "name": "Hopeful",
         "orientation": "v",
         "showlegend": true,
         "type": "scatter",
         "x": {
          "bdata": "AAAAAAAAKEAAAAAAAAAoQAAAAAAAACxAAAAAAAAALkAAAAAAAAAxQAAAAAAAACxAAAAAAAAALkAAAAAAAAAxQAAAAAAAACxA",
          "dtype": "f8"
         },
         "xaxis": "x",
         "y": {
          "bdata": "AAAAAAAAOEAAAAAAAAA4QAAAAAAAADxAAAAAAAAAPkAAAAAAAABBQAAAAAAAADxAAAAAAAAAPkAAAAAAAABBQAAAAAAAADxA",
          "dtype": "f8"
         },
         "yaxis": "y"
        },
        {
         "hovertemplate": "Sentiment=Proud<br>Retweets=%{x}<br>Likes=%{y}<extra></extra>",
         "legendgroup": "Proud",
         "marker": {
          "color": "#EF553B",
          "symbol": "circle"
         },
         "mode": "markers",
         "name": "Proud",
         "orientation": "v",
         "showlegend": true,
         "type": "scatter",
         "x": {
          "bdata": "AAAAAAAAOUAAAAAAAAA3QAAAAAAAADdAAAAAAAAAN0A=",
          "dtype": "f8"
         },
         "xaxis": "x",
         "y": {
          "bdata": "AAAAAAAASUAAAAAAAABHQAAAAAAAAEdAAAAAAAAAR0A=",
          "dtype": "f8"
         },
         "yaxis": "y"
        },
        {
         "hovertemplate": "Sentiment=Grateful<br>Retweets=%{x}<br>Likes=%{y}<extra></extra>",
         "legendgroup": "Grateful",
         "marker": {
          "color": "#00cc96",
          "symbol": "circle"
         },
         "mode": "markers",
         "name": "Grateful",
         "orientation": "v",
         "showlegend": true,
         "type": "scatter",
         "x": {
          "bdata": "AAAAAAAANEAAAAAAAAAzQAAAAAAAADNAAAAAAAAAM0A=",
          "dtype": "f8"
         },
         "xaxis": "x",
         "y": {
          "bdata": "AAAAAAAAREAAAAAAAABDQAAAAAAAAENAAAAAAAAAQ0A=",
          "dtype": "f8"
         },
         "yaxis": "y"
        },
        {
         "hovertemplate": "Sentiment=Empathetic<br>Retweets=%{x}<br>Likes=%{y}<extra></extra>",
         "legendgroup": "Empathetic",
         "marker": {
          "color": "#ab63fa",
          "symbol": "circle"
         },
         "mode": "markers",
         "name": "Empathetic",
         "orientation": "v",
         "showlegend": true,
         "type": "scatter",
         "x": {
          "bdata": "AAAAAAAALkAAAAAAAAAwQAAAAAAAADBA",
          "dtype": "f8"
         },
         "xaxis": "x",
         "y": {
          "bdata": "AAAAAAAAPkAAAAAAAABAQAAAAAAAAEBA",
          "dtype": "f8"
         },
         "yaxis": "y"
        },
        {
         "hovertemplate": "Sentiment=Compassionate<br>Retweets=%{x}<br>Likes=%{y}<extra></extra>",
         "legendgroup": "Compassionate",
         "marker": {
          "color": "#FFA15A",
          "symbol": "circle"
         },
         "mode": "markers",
         "name": "Compassionate",
         "orientation": "v",
         "showlegend": true,
         "type": "scatter",
         "x": {
          "bdata": "AAAAAAAAMkAAAAAAAAA1QAAAAAAAADVAAAAAAAAANUA=",
          "dtype": "f8"
         },
         "xaxis": "x",
         "y": {
          "bdata": "AAAAAAAAQkAAAAAAAABFQAAAAAAAAEVAAAAAAAAARUA=",
          "dtype": "f8"
         },
         "yaxis": "y"
        },
        {
         "hovertemplate": "Sentiment=Playful<br>Retweets=%{x}<br>Likes=%{y}<extra></extra>",
         "legendgroup": "Playful",
         "marker": {
          "color": "#19d3f3",
          "symbol": "circle"
         },
         "mode": "markers",
         "name": "Playful",
         "orientation": "v",
         "showlegend": true,
         "type": "scatter",
         "x": {
          "bdata": "AAAAAAAANkAAAAAAAAA4QAAAAAAAADlAAAAAAAAAOEAAAAAAAAA5QAAAAAAAADhA",
          "dtype": "f8"
         },
         "xaxis": "x",
         "y": {
          "bdata": "AAAAAAAARkAAAAAAAABIQAAAAAAAAElAAAAAAAAASEAAAAAAAABJQAAAAAAAAEhA",
          "dtype": "f8"
         },
         "yaxis": "y"
        },
        {
         "hovertemplate": "Sentiment=Free-spirited<br>Retweets=%{x}<br>Likes=%{y}<extra></extra>",
         "legendgroup": "Free-spirited",
         "marker": {
          "color": "#FF6692",
          "symbol": "circle"
         },
         "mode": "markers",
         "name": "Free-spirited",
         "orientation": "v",
         "showlegend": true,
         "type": "scatter",
         "x": {
          "bdata": "AAAAAAAANEAAAAAAAAA2QAAAAAAAADZA",
          "dtype": "f8"
         },
         "xaxis": "x",
         "y": {
          "bdata": "AAAAAAAAREAAAAAAAABGQAAAAAAAAEZA",
          "dtype": "f8"
         },
         "yaxis": "y"
        },
        {
         "hovertemplate": "Sentiment=Inspired<br>Retweets=%{x}<br>Likes=%{y}<extra></extra>",
         "legendgroup": "Inspired",
         "marker": {
          "color": "#B6E880",
          "symbol": "circle"
         },
         "mode": "markers",
         "name": "Inspired",
         "orientation": "v",
         "showlegend": true,
         "type": "scatter",
         "x": {
          "bdata": "AAAAAAAALkAAAAAAAAAyQAAAAAAAACxAAAAAAAAAMkAAAAAAAAAsQA==",
          "dtype": "f8"
         },
         "xaxis": "x",
         "y": {
          "bdata": "AAAAAAAAPkAAAAAAAABCQAAAAAAAADxAAAAAAAAAQkAAAAAAAAA8QA==",
          "dtype": "f8"
         },
         "yaxis": "y"
        },
        {
         "hovertemplate": "Sentiment=Confident<br>Retweets=%{x}<br>Likes=%{y}<extra></extra>",
         "legendgroup": "Confident",
         "marker": {
          "color": "#FF97FF",
          "symbol": "circle"
         },
         "mode": "markers",
         "name": "Confident",
         "orientation": "v",
         "showlegend": true,
         "type": "scatter",
         "x": {
          "bdata": "AAAAAAAAOUAAAAAAAAA3QAAAAAAAADdA",
          "dtype": "f8"
         },
         "xaxis": "x",
         "y": {
          "bdata": "AAAAAAAASUAAAAAAAABHQAAAAAAAAEdA",
          "dtype": "f8"
         },
         "yaxis": "y"
        },
        {
         "hovertemplate": "Sentiment=Bitterness<br>Retweets=%{x}<br>Likes=%{y}<extra></extra>",
         "legendgroup": "Bitterness",
         "marker": {
          "color": "#FECB52",
          "symbol": "circle"
         },
         "mode": "markers",
         "name": "Bitterness",
         "orientation": "v",
         "showlegend": true,
         "type": "scatter",
         "x": {
          "bdata": "AAAAAAAAKEAAAAAAAAAkQAAAAAAAAC5AAAAAAAAAOUAAAAAAAAAuQA==",
          "dtype": "f8"
         },
         "xaxis": "x",
         "y": {
          "bdata": "AAAAAAAAOEAAAAAAAAA0QAAAAAAAAD5AAAAAAAAASUAAAAAAAAA+QA==",
          "dtype": "f8"
         },
         "yaxis": "y"
        },
        {
         "hovertemplate": "Sentiment=Yearning<br>Retweets=%{x}<br>Likes=%{y}<extra></extra>",
         "legendgroup": "Yearning",
         "marker": {
          "color": "#636efa",
          "symbol": "circle"
         },
         "mode": "markers",
         "name": "Yearning",
         "orientation": "v",
         "showlegend": true,
         "type": "scatter",
         "x": {
          "bdata": "AAAAAAAAJEAAAAAAAAAkQA==",
          "dtype": "f8"
         },
         "xaxis": "x",
         "y": {
          "bdata": "AAAAAAAANEAAAAAAAAA0QA==",
          "dtype": "f8"
         },
         "yaxis": "y"
        },
        {
         "hovertemplate": "Sentiment=Fearful<br>Retweets=%{x}<br>Likes=%{y}<extra></extra>",
         "legendgroup": "Fearful",
         "marker": {
          "color": "#EF553B",
          "symbol": "circle"
         },
         "mode": "markers",
         "name": "Fearful",
         "orientation": "v",
         "showlegend": true,
         "type": "scatter",
         "x": {
          "bdata": "AAAAAAAAMkAAAAAAAAAqQAAAAAAAADJA",
          "dtype": "f8"
         },
         "xaxis": "x",
         "y": {
          "bdata": "AAAAAAAAQkAAAAAAAAA6QAAAAAAAAEJA",
          "dtype": "f8"
         },
         "yaxis": "y"
        },
        {
         "hovertemplate": "Sentiment=Apprehensive<br>Retweets=%{x}<br>Likes=%{y}<extra></extra>",
         "legendgroup": "Apprehensive",
         "marker": {
          "color": "#00cc96",
          "symbol": "circle"
         },
         "mode": "markers",
         "name": "Apprehensive",
         "orientation": "v",
         "showlegend": true,
         "type": "scatter",
         "x": {
          "bdata": "AAAAAAAALEAAAAAAAAAsQA==",
          "dtype": "f8"
         },
         "xaxis": "x",
         "y": {
          "bdata": "AAAAAAAAPEAAAAAAAAA8QA==",
          "dtype": "f8"
         },
         "yaxis": "y"
        },
        {
         "hovertemplate": "Sentiment=Overwhelmed<br>Retweets=%{x}<br>Likes=%{y}<extra></extra>",
         "legendgroup": "Overwhelmed",
         "marker": {
          "color": "#ab63fa",
          "symbol": "circle"
         },
         "mode": "markers",
         "name": "Overwhelmed",
         "orientation": "v",
         "showlegend": true,
         "type": "scatter",
         "x": {
          "bdata": "AAAAAAAANkAAAAAAAAA0QAAAAAAAADZAAAAAAAAAOUA=",
          "dtype": "f8"
         },
         "xaxis": "x",
         "y": {
          "bdata": "AAAAAAAARkAAAAAAAABEQAAAAAAAAEZAAAAAAAAASUA=",
          "dtype": "f8"
         },
         "yaxis": "y"
        },
        {
         "hovertemplate": "Sentiment=Jealous<br>Retweets=%{x}<br>Likes=%{y}<extra></extra>",
         "legendgroup": "Jealous",
         "marker": {
          "color": "#FFA15A",
          "symbol": "circle"
         },
         "mode": "markers",
         "name": "Jealous",
         "orientation": "v",
         "showlegend": true,
         "type": "scatter",
         "x": {
          "bdata": "AAAAAAAAMEAAAAAAAAAwQAAAAAAAADBA",
          "dtype": "f8"
         },
         "xaxis": "x",
         "y": {
          "bdata": "AAAAAAAAQEAAAAAAAABAQAAAAAAAAEBA",
          "dtype": "f8"
         },
         "yaxis": "y"
        },
        {
         "hovertemplate": "Sentiment=Devastated<br>Retweets=%{x}<br>Likes=%{y}<extra></extra>",
         "legendgroup": "Devastated",
         "marker": {
          "color": "#19d3f3",
          "symbol": "circle"
         },
         "mode": "markers",
         "name": "Devastated",
         "orientation": "v",
         "showlegend": true,
         "type": "scatter",
         "x": {
          "bdata": "AAAAAAAAOUAAAAAAAAA5QAAAAAAAADlA",
          "dtype": "f8"
         },
         "xaxis": "x",
         "y": {
          "bdata": "AAAAAAAASUAAAAAAAABJQAAAAAAAAElA",
          "dtype": "f8"
         },
         "yaxis": "y"
        },
        {
         "hovertemplate": "Sentiment=Frustrated<br>Retweets=%{x}<br>Likes=%{y}<extra></extra>",
         "legendgroup": "Frustrated",
         "marker": {
          "color": "#FF6692",
          "symbol": "circle"
         },
         "mode": "markers",
         "name": "Frustrated",
         "orientation": "v",
         "showlegend": true,
         "type": "scatter",
         "x": {
          "bdata": "AAAAAAAAKEAAAAAAAAAuQAAAAAAAACxAAAAAAAAALEAAAAAAAAAuQA==",
          "dtype": "f8"
         },
         "xaxis": "x",
         "y": {
          "bdata": "AAAAAAAAOEAAAAAAAAA+QAAAAAAAADxAAAAAAAAAPEAAAAAAAAA+QA==",
          "dtype": "f8"
         },
         "yaxis": "y"
        },
        {
         "hovertemplate": "Sentiment=Envious<br>Retweets=%{x}<br>Likes=%{y}<extra></extra>",
         "legendgroup": "Envious",
         "marker": {
          "color": "#B6E880",
          "symbol": "circle"
         },
         "mode": "markers",
         "name": "Envious",
         "orientation": "v",
         "showlegend": true,
         "type": "scatter",
         "x": {
          "bdata": "AAAAAAAANEAAAAAAAAA0QAAAAAAAADRA",
          "dtype": "f8"
         },
         "xaxis": "x",
         "y": {
          "bdata": "AAAAAAAAREAAAAAAAABEQAAAAAAAAERA",
          "dtype": "f8"
         },
         "yaxis": "y"
        },
        {
         "hovertemplate": "Sentiment=Dismissive<br>Retweets=%{x}<br>Likes=%{y}<extra></extra>",
         "legendgroup": "Dismissive",
         "marker": {
          "color": "#FF97FF",
          "symbol": "circle"
         },
         "mode": "markers",
         "name": "Dismissive",
         "orientation": "v",
         "showlegend": true,
         "type": "scatter",
         "x": {
          "bdata": "AAAAAAAALEAAAAAAAAAoQAAAAAAAAChA",
          "dtype": "f8"
         },
         "xaxis": "x",
         "y": {
          "bdata": "AAAAAAAAPEAAAAAAAAA4QAAAAAAAADhA",
          "dtype": "f8"
         },
         "yaxis": "y"
        },
        {
         "hovertemplate": "Sentiment=Thrill<br>Retweets=%{x}<br>Likes=%{y}<extra></extra>",
         "legendgroup": "Thrill",
         "marker": {
          "color": "#FECB52",
          "symbol": "circle"
         },
         "mode": "markers",
         "name": "Thrill",
         "orientation": "v",
         "showlegend": true,
         "type": "scatter",
         "x": {
          "bdata": "AAAAAAAAREAAAAAAAAA2QAAAAAAAgEFAAAAAAAAAPEA=",
          "dtype": "f8"
         },
         "xaxis": "x",
         "y": {
          "bdata": "AAAAAAAAVEAAAAAAAIBGQAAAAAAAgFFAAAAAAACAS0A=",
          "dtype": "f8"
         },
         "yaxis": "y"
        },
        {
         "hovertemplate": "Sentiment=Bittersweet<br>Retweets=%{x}<br>Likes=%{y}<extra></extra>",
         "legendgroup": "Bittersweet",
         "marker": {
          "color": "#636efa",
          "symbol": "circle"
         },
         "mode": "markers",
         "name": "Bittersweet",
         "orientation": "v",
         "showlegend": true,
         "type": "scatter",
         "x": {
          "bdata": "AAAAAAAANEA=",
          "dtype": "f8"
         },
         "xaxis": "x",
         "y": {
          "bdata": "AAAAAAAAREA=",
          "dtype": "f8"
         },
         "yaxis": "y"
        },
        {
         "hovertemplate": "Sentiment=Overjoyed<br>Retweets=%{x}<br>Likes=%{y}<extra></extra>",
         "legendgroup": "Overjoyed",
         "marker": {
          "color": "#EF553B",
          "symbol": "circle"
         },
         "mode": "markers",
         "name": "Overjoyed",
         "orientation": "v",
         "showlegend": true,
         "type": "scatter",
         "x": {
          "bdata": "AAAAAAAAMkA=",
          "dtype": "f8"
         },
         "xaxis": "x",
         "y": {
          "bdata": "AAAAAACAQUA=",
          "dtype": "f8"
         },
         "yaxis": "y"
        },
        {
         "hovertemplate": "Sentiment=Inspiration<br>Retweets=%{x}<br>Likes=%{y}<extra></extra>",
         "legendgroup": "Inspiration",
         "marker": {
          "color": "#00cc96",
          "symbol": "circle"
         },
         "mode": "markers",
         "name": "Inspiration",
         "orientation": "v",
         "showlegend": true,
         "type": "scatter",
         "x": {
          "bdata": "AAAAAAAAPkAAAAAAAAA8QAAAAAAAADxAAAAAAAAAMkAAAAAAAAA2QAAAAAAAgEFA",
          "dtype": "f8"
         },
         "xaxis": "x",
         "y": {
          "bdata": "AAAAAAAATkAAAAAAAIBLQAAAAAAAgEtAAAAAAACAQUAAAAAAAIBGQAAAAAAAgFFA",
          "dtype": "f8"
         },
         "yaxis": "y"
        },
        {
         "hovertemplate": "Sentiment=Motivation<br>Retweets=%{x}<br>Likes=%{y}<extra></extra>",
         "legendgroup": "Motivation",
         "marker": {
          "color": "#ab63fa",
          "symbol": "circle"
         },
         "mode": "markers",
         "name": "Motivation",
         "orientation": "v",
         "showlegend": true,
         "type": "scatter",
         "x": {
          "bdata": "AAAAAAAAREA=",
          "dtype": "f8"
         },
         "xaxis": "x",
         "y": {
          "bdata": "AAAAAAAAVEA=",
          "dtype": "f8"
         },
         "yaxis": "y"
        },
        {
         "hovertemplate": "Sentiment=Contemplation<br>Retweets=%{x}<br>Likes=%{y}<extra></extra>",
         "legendgroup": "Contemplation",
         "marker": {
          "color": "#FFA15A",
          "symbol": "circle"
         },
         "mode": "markers",
         "name": "Contemplation",
         "orientation": "v",
         "showlegend": true,
         "type": "scatter",
         "x": {
          "bdata": "AAAAAAAAPEAAAAAAAAA8QA==",
          "dtype": "f8"
         },
         "xaxis": "x",
         "y": {
          "bdata": "AAAAAACAS0AAAAAAAIBLQA==",
          "dtype": "f8"
         },
         "yaxis": "y"
        },
        {
         "hovertemplate": "Sentiment=JoyfulReunion<br>Retweets=%{x}<br>Likes=%{y}<extra></extra>",
         "legendgroup": "JoyfulReunion",
         "marker": {
          "color": "#19d3f3",
          "symbol": "circle"
         },
         "mode": "markers",
         "name": "JoyfulReunion",
         "orientation": "v",
         "showlegend": true,
         "type": "scatter",
         "x": {
          "bdata": "AAAAAAAANEA=",
          "dtype": "f8"
         },
         "xaxis": "x",
         "y": {
          "bdata": "AAAAAAAAREA=",
          "dtype": "f8"
         },
         "yaxis": "y"
        },
        {
         "hovertemplate": "Sentiment=Satisfaction<br>Retweets=%{x}<br>Likes=%{y}<extra></extra>",
         "legendgroup": "Satisfaction",
         "marker": {
          "color": "#FF6692",
          "symbol": "circle"
         },
         "mode": "markers",
         "name": "Satisfaction",
         "orientation": "v",
         "showlegend": true,
         "type": "scatter",
         "x": {
          "bdata": "AAAAAAAAOUAAAAAAAAA2QAAAAAAAADxA",
          "dtype": "f8"
         },
         "xaxis": "x",
         "y": {
          "bdata": "AAAAAAAASUAAAAAAAIBGQAAAAAAAgEtA",
          "dtype": "f8"
         },
         "yaxis": "y"
        },
        {
         "hovertemplate": "Sentiment=Blessed<br>Retweets=%{x}<br>Likes=%{y}<extra></extra>",
         "legendgroup": "Blessed",
         "marker": {
          "color": "#B6E880",
          "symbol": "circle"
         },
         "mode": "markers",
         "name": "Blessed",
         "orientation": "v",
         "showlegend": true,
         "type": "scatter",
         "x": {
          "bdata": "AAAAAAAAMkA=",
          "dtype": "f8"
         },
         "xaxis": "x",
         "y": {
          "bdata": "AAAAAACAQUA=",
          "dtype": "f8"
         },
         "yaxis": "y"
        },
        {
         "hovertemplate": "Sentiment=Reflection<br>Retweets=%{x}<br>Likes=%{y}<extra></extra>",
         "legendgroup": "Reflection",
         "marker": {
          "color": "#FF97FF",
          "symbol": "circle"
         },
         "mode": "markers",
         "name": "Reflection",
         "orientation": "v",
         "showlegend": true,
         "type": "scatter",
         "x": {
          "bdata": "AAAAAACAQUAAAAAAAAAyQAAAAAAAADxAAAAAAAAAPkA=",
          "dtype": "f8"
         },
         "xaxis": "x",
         "y": {
          "bdata": "AAAAAACAUUAAAAAAAIBBQAAAAAAAgEtAAAAAAAAATkA=",
          "dtype": "f8"
         },
         "yaxis": "y"
        },
        {
         "hovertemplate": "Sentiment=Appreciation<br>Retweets=%{x}<br>Likes=%{y}<extra></extra>",
         "legendgroup": "Appreciation",
         "marker": {
          "color": "#FECB52",
          "symbol": "circle"
         },
         "mode": "markers",
         "name": "Appreciation",
         "orientation": "v",
         "showlegend": true,
         "type": "scatter",
         "x": {
          "bdata": "AAAAAAAAPEA=",
          "dtype": "f8"
         },
         "xaxis": "x",
         "y": {
          "bdata": "AAAAAACAS0A=",
          "dtype": "f8"
         },
         "yaxis": "y"
        },
        {
         "hovertemplate": "Sentiment=Confidence<br>Retweets=%{x}<br>Likes=%{y}<extra></extra>",
         "legendgroup": "Confidence",
         "marker": {
          "color": "#636efa",
          "symbol": "circle"
         },
         "mode": "markers",
         "name": "Confidence",
         "orientation": "v",
         "showlegend": true,
         "type": "scatter",
         "x": {
          "bdata": "AAAAAAAALkA=",
          "dtype": "f8"
         },
         "xaxis": "x",
         "y": {
          "bdata": "AAAAAAAAPkA=",
          "dtype": "f8"
         },
         "yaxis": "y"
        },
        {
         "hovertemplate": "Sentiment=Accomplishment<br>Retweets=%{x}<br>Likes=%{y}<extra></extra>",
         "legendgroup": "Accomplishment",
         "marker": {
          "color": "#EF553B",
          "symbol": "circle"
         },
         "mode": "markers",
         "name": "Accomplishment",
         "orientation": "v",
         "showlegend": true,
         "type": "scatter",
         "x": {
          "bdata": "AAAAAAAANkAAAAAAAAA8QAAAAAAAADxA",
          "dtype": "f8"
         },
         "xaxis": "x",
         "y": {
          "bdata": "AAAAAACARkAAAAAAAIBLQAAAAAAAgEtA",
          "dtype": "f8"
         },
         "yaxis": "y"
        },
        {
         "hovertemplate": "Sentiment=Wonderment<br>Retweets=%{x}<br>Likes=%{y}<extra></extra>",
         "legendgroup": "Wonderment",
         "marker": {
          "color": "#00cc96",
          "symbol": "circle"
         },
         "mode": "markers",
         "name": "Wonderment",
         "orientation": "v",
         "showlegend": true,
         "type": "scatter",
         "x": {
          "bdata": "AAAAAACAQUA=",
          "dtype": "f8"
         },
         "xaxis": "x",
         "y": {
          "bdata": "AAAAAACAUUA=",
          "dtype": "f8"
         },
         "yaxis": "y"
        },
        {
         "hovertemplate": "Sentiment=Optimism<br>Retweets=%{x}<br>Likes=%{y}<extra></extra>",
         "legendgroup": "Optimism",
         "marker": {
          "color": "#ab63fa",
          "symbol": "circle"
         },
         "mode": "markers",
         "name": "Optimism",
         "orientation": "v",
         "showlegend": true,
         "type": "scatter",
         "x": {
          "bdata": "AAAAAAAANEA=",
          "dtype": "f8"
         },
         "xaxis": "x",
         "y": {
          "bdata": "AAAAAAAAREA=",
          "dtype": "f8"
         },
         "yaxis": "y"
        },
        {
         "hovertemplate": "Sentiment=Enchantment<br>Retweets=%{x}<br>Likes=%{y}<extra></extra>",
         "legendgroup": "Enchantment",
         "marker": {
          "color": "#FFA15A",
          "symbol": "circle"
         },
         "mode": "markers",
         "name": "Enchantment",
         "orientation": "v",
         "showlegend": true,
         "type": "scatter",
         "x": {
          "bdata": "AAAAAAAAOUAAAAAAAAA5QAAAAAAAAD5AAAAAAAAAPkA=",
          "dtype": "f8"
         },
         "xaxis": "x",
         "y": {
          "bdata": "AAAAAAAASUAAAAAAAABJQAAAAAAAAE5AAAAAAAAATkA=",
          "dtype": "f8"
         },
         "yaxis": "y"
        },
        {
         "hovertemplate": "Sentiment=Intrigue<br>Retweets=%{x}<br>Likes=%{y}<extra></extra>",
         "legendgroup": "Intrigue",
         "marker": {
          "color": "#19d3f3",
          "symbol": "circle"
         },
         "mode": "markers",
         "name": "Intrigue",
         "orientation": "v",
         "showlegend": true,
         "type": "scatter",
         "x": {
          "bdata": "AAAAAAAAMkA=",
          "dtype": "f8"
         },
         "xaxis": "x",
         "y": {
          "bdata": "AAAAAACAQUA=",
          "dtype": "f8"
         },
         "yaxis": "y"
        },
        {
         "hovertemplate": "Sentiment=PlayfulJoy<br>Retweets=%{x}<br>Likes=%{y}<extra></extra>",
         "legendgroup": "PlayfulJoy",
         "marker": {
          "color": "#FF6692",
          "symbol": "circle"
         },
         "mode": "markers",
         "name": "PlayfulJoy",
         "orientation": "v",
         "showlegend": true,
         "type": "scatter",
         "x": {
          "bdata": "AAAAAAAANkA=",
          "dtype": "f8"
         },
         "xaxis": "x",
         "y": {
          "bdata": "AAAAAACARkA=",
          "dtype": "f8"
         },
         "yaxis": "y"
        },
        {
         "hovertemplate": "Sentiment=Mindfulness<br>Retweets=%{x}<br>Likes=%{y}<extra></extra>",
         "legendgroup": "Mindfulness",
         "marker": {
          "color": "#B6E880",
          "symbol": "circle"
         },
         "mode": "markers",
         "name": "Mindfulness",
         "orientation": "v",
         "showlegend": true,
         "type": "scatter",
         "x": {
          "bdata": "AAAAAACAQUA=",
          "dtype": "f8"
         },
         "xaxis": "x",
         "y": {
          "bdata": "AAAAAACAUUA=",
          "dtype": "f8"
         },
         "yaxis": "y"
        },
        {
         "hovertemplate": "Sentiment=DreamChaser<br>Retweets=%{x}<br>Likes=%{y}<extra></extra>",
         "legendgroup": "DreamChaser",
         "marker": {
          "color": "#FF97FF",
          "symbol": "circle"
         },
         "mode": "markers",
         "name": "DreamChaser",
         "orientation": "v",
         "showlegend": true,
         "type": "scatter",
         "x": {
          "bdata": "AAAAAAAAPkA=",
          "dtype": "f8"
         },
         "xaxis": "x",
         "y": {
          "bdata": "AAAAAAAATkA=",
          "dtype": "f8"
         },
         "yaxis": "y"
        },
        {
         "hovertemplate": "Sentiment=Elegance<br>Retweets=%{x}<br>Likes=%{y}<extra></extra>",
         "legendgroup": "Elegance",
         "marker": {
          "color": "#FECB52",
          "symbol": "circle"
         },
         "mode": "markers",
         "name": "Elegance",
         "orientation": "v",
         "showlegend": true,
         "type": "scatter",
         "x": {
          "bdata": "AAAAAAAAPEA=",
          "dtype": "f8"
         },
         "xaxis": "x",
         "y": {
          "bdata": "AAAAAACAS0A=",
          "dtype": "f8"
         },
         "yaxis": "y"
        },
        {
         "hovertemplate": "Sentiment=Whimsy<br>Retweets=%{x}<br>Likes=%{y}<extra></extra>",
         "legendgroup": "Whimsy",
         "marker": {
          "color": "#636efa",
          "symbol": "circle"
         },
         "mode": "markers",
         "name": "Whimsy",
         "orientation": "v",
         "showlegend": true,
         "type": "scatter",
         "x": {
          "bdata": "AAAAAAAANEAAAAAAAAA0QA==",
          "dtype": "f8"
         },
         "xaxis": "x",
         "y": {
          "bdata": "AAAAAAAAREAAAAAAAABEQA==",
          "dtype": "f8"
         },
         "yaxis": "y"
        },
        {
         "hovertemplate": "Sentiment=Pensive<br>Retweets=%{x}<br>Likes=%{y}<extra></extra>",
         "legendgroup": "Pensive",
         "marker": {
          "color": "#EF553B",
          "symbol": "circle"
         },
         "mode": "markers",
         "name": "Pensive",
         "orientation": "v",
         "showlegend": true,
         "type": "scatter",
         "x": {
          "bdata": "AAAAAAAAMkA=",
          "dtype": "f8"
         },
         "xaxis": "x",
         "y": {
          "bdata": "AAAAAACAQUA=",
          "dtype": "f8"
         },
         "yaxis": "y"
        },
        {
         "hovertemplate": "Sentiment=Harmony<br>Retweets=%{x}<br>Likes=%{y}<extra></extra>",
         "legendgroup": "Harmony",
         "marker": {
          "color": "#00cc96",
          "symbol": "circle"
         },
         "mode": "markers",
         "name": "Harmony",
         "orientation": "v",
         "showlegend": true,
         "type": "scatter",
         "x": {
          "bdata": "AAAAAACAQUAAAAAAAIBBQAAAAAAAADJA",
          "dtype": "f8"
         },
         "xaxis": "x",
         "y": {
          "bdata": "AAAAAACAUUAAAAAAAIBRQAAAAAAAgEFA",
          "dtype": "f8"
         },
         "yaxis": "y"
        },
        {
         "hovertemplate": "Sentiment=Creativity<br>Retweets=%{x}<br>Likes=%{y}<extra></extra>",
         "legendgroup": "Creativity",
         "marker": {
          "color": "#ab63fa",
          "symbol": "circle"
         },
         "mode": "markers",
         "name": "Creativity",
         "orientation": "v",
         "showlegend": true,
         "type": "scatter",
         "x": {
          "bdata": "AAAAAAAALkAAAAAAAIBBQAAAAAAAADZA",
          "dtype": "f8"
         },
         "xaxis": "x",
         "y": {
          "bdata": "AAAAAAAAPkAAAAAAAIBRQAAAAAAAgEZA",
          "dtype": "f8"
         },
         "yaxis": "y"
        },
        {
         "hovertemplate": "Sentiment=Radiance<br>Retweets=%{x}<br>Likes=%{y}<extra></extra>",
         "legendgroup": "Radiance",
         "marker": {
          "color": "#FFA15A",
          "symbol": "circle"
         },
         "mode": "markers",
         "name": "Radiance",
         "orientation": "v",
         "showlegend": true,
         "type": "scatter",
         "x": {
          "bdata": "AAAAAAAAOUAAAAAAAAA5QA==",
          "dtype": "f8"
         },
         "xaxis": "x",
         "y": {
          "bdata": "AAAAAAAASUAAAAAAAABJQA==",
          "dtype": "f8"
         },
         "yaxis": "y"
        },
        {
         "hovertemplate": "Sentiment=Wonder<br>Retweets=%{x}<br>Likes=%{y}<extra></extra>",
         "legendgroup": "Wonder",
         "marker": {
          "color": "#19d3f3",
          "symbol": "circle"
         },
         "mode": "markers",
         "name": "Wonder",
         "orientation": "v",
         "showlegend": true,
         "type": "scatter",
         "x": {
          "bdata": "AAAAAAAAREAAAAAAAABEQAAAAAAAAD5A",
          "dtype": "f8"
         },
         "xaxis": "x",
         "y": {
          "bdata": "AAAAAAAAVEAAAAAAAABUQAAAAAAAAE5A",
          "dtype": "f8"
         },
         "yaxis": "y"
        },
        {
         "hovertemplate": "Sentiment=Rejuvenation<br>Retweets=%{x}<br>Likes=%{y}<extra></extra>",
         "legendgroup": "Rejuvenation",
         "marker": {
          "color": "#FF6692",
          "symbol": "circle"
         },
         "mode": "markers",
         "name": "Rejuvenation",
         "orientation": "v",
         "showlegend": true,
         "type": "scatter",
         "x": {
          "bdata": "AAAAAAAAMkAAAAAAAAAyQA==",
          "dtype": "f8"
         },
         "xaxis": "x",
         "y": {
          "bdata": "AAAAAACAQUAAAAAAAIBBQA==",
          "dtype": "f8"
         },
         "yaxis": "y"
        },
        {
         "hovertemplate": "Sentiment=Coziness<br>Retweets=%{x}<br>Likes=%{y}<extra></extra>",
         "legendgroup": "Coziness",
         "marker": {
          "color": "#B6E880",
          "symbol": "circle"
         },
         "mode": "markers",
         "name": "Coziness",
         "orientation": "v",
         "showlegend": true,
         "type": "scatter",
         "x": {
          "bdata": "AAAAAAAAPkAAAAAAAAA+QA==",
          "dtype": "f8"
         },
         "xaxis": "x",
         "y": {
          "bdata": "AAAAAAAATkAAAAAAAABOQA==",
          "dtype": "f8"
         },
         "yaxis": "y"
        },
        {
         "hovertemplate": "Sentiment=Adventure<br>Retweets=%{x}<br>Likes=%{y}<extra></extra>",
         "legendgroup": "Adventure",
         "marker": {
          "color": "#FF97FF",
          "symbol": "circle"
         },
         "mode": "markers",
         "name": "Adventure",
         "orientation": "v",
         "showlegend": true,
         "type": "scatter",
         "x": {
          "bdata": "AAAAAACAQUAAAAAAAAA2QAAAAAAAgEFA",
          "dtype": "f8"
         },
         "xaxis": "x",
         "y": {
          "bdata": "AAAAAACAUUAAAAAAAIBGQAAAAAAAgFFA",
          "dtype": "f8"
         },
         "yaxis": "y"
        },
        {
         "hovertemplate": "Sentiment=Melodic<br>Retweets=%{x}<br>Likes=%{y}<extra></extra>",
         "legendgroup": "Melodic",
         "marker": {
          "color": "#FECB52",
          "symbol": "circle"
         },
         "mode": "markers",
         "name": "Melodic",
         "orientation": "v",
         "showlegend": true,
         "type": "scatter",
         "x": {
          "bdata": "AAAAAAAAMkA=",
          "dtype": "f8"
         },
         "xaxis": "x",
         "y": {
          "bdata": "AAAAAACAQUA=",
          "dtype": "f8"
         },
         "yaxis": "y"
        },
        {
         "hovertemplate": "Sentiment=FestiveJoy<br>Retweets=%{x}<br>Likes=%{y}<extra></extra>",
         "legendgroup": "FestiveJoy",
         "marker": {
          "color": "#636efa",
          "symbol": "circle"
         },
         "mode": "markers",
         "name": "FestiveJoy",
         "orientation": "v",
         "showlegend": true,
         "type": "scatter",
         "x": {
          "bdata": "AAAAAAAANkA=",
          "dtype": "f8"
         },
         "xaxis": "x",
         "y": {
          "bdata": "AAAAAACARkA=",
          "dtype": "f8"
         },
         "yaxis": "y"
        },
        {
         "hovertemplate": "Sentiment=InnerJourney<br>Retweets=%{x}<br>Likes=%{y}<extra></extra>",
         "legendgroup": "InnerJourney",
         "marker": {
          "color": "#EF553B",
          "symbol": "circle"
         },
         "mode": "markers",
         "name": "InnerJourney",
         "orientation": "v",
         "showlegend": true,
         "type": "scatter",
         "x": {
          "bdata": "AAAAAACAQUA=",
          "dtype": "f8"
         },
         "xaxis": "x",
         "y": {
          "bdata": "AAAAAACAUUA=",
          "dtype": "f8"
         },
         "yaxis": "y"
        },
        {
         "hovertemplate": "Sentiment=Freedom<br>Retweets=%{x}<br>Likes=%{y}<extra></extra>",
         "legendgroup": "Freedom",
         "marker": {
          "color": "#00cc96",
          "symbol": "circle"
         },
         "mode": "markers",
         "name": "Freedom",
         "orientation": "v",
         "showlegend": true,
         "type": "scatter",
         "x": {
          "bdata": "AAAAAAAAPkA=",
          "dtype": "f8"
         },
         "xaxis": "x",
         "y": {
          "bdata": "AAAAAAAATkA=",
          "dtype": "f8"
         },
         "yaxis": "y"
        },
        {
         "hovertemplate": "Sentiment=Dazzle<br>Retweets=%{x}<br>Likes=%{y}<extra></extra>",
         "legendgroup": "Dazzle",
         "marker": {
          "color": "#ab63fa",
          "symbol": "circle"
         },
         "mode": "markers",
         "name": "Dazzle",
         "orientation": "v",
         "showlegend": true,
         "type": "scatter",
         "x": {
          "bdata": "AAAAAAAAPEA=",
          "dtype": "f8"
         },
         "xaxis": "x",
         "y": {
          "bdata": "AAAAAACAS0A=",
          "dtype": "f8"
         },
         "yaxis": "y"
        },
        {
         "hovertemplate": "Sentiment=Adrenaline<br>Retweets=%{x}<br>Likes=%{y}<extra></extra>",
         "legendgroup": "Adrenaline",
         "marker": {
          "color": "#FFA15A",
          "symbol": "circle"
         },
         "mode": "markers",
         "name": "Adrenaline",
         "orientation": "v",
         "showlegend": true,
         "type": "scatter",
         "x": {
          "bdata": "AAAAAAAANkA=",
          "dtype": "f8"
         },
         "xaxis": "x",
         "y": {
          "bdata": "AAAAAACARkA=",
          "dtype": "f8"
         },
         "yaxis": "y"
        },
        {
         "hovertemplate": "Sentiment=ArtisticBurst<br>Retweets=%{x}<br>Likes=%{y}<extra></extra>",
         "legendgroup": "ArtisticBurst",
         "marker": {
          "color": "#19d3f3",
          "symbol": "circle"
         },
         "mode": "markers",
         "name": "ArtisticBurst",
         "orientation": "v",
         "showlegend": true,
         "type": "scatter",
         "x": {
          "bdata": "AAAAAAAALkA=",
          "dtype": "f8"
         },
         "xaxis": "x",
         "y": {
          "bdata": "AAAAAAAAPkA=",
          "dtype": "f8"
         },
         "yaxis": "y"
        },
        {
         "hovertemplate": "Sentiment=CulinaryOdyssey<br>Retweets=%{x}<br>Likes=%{y}<extra></extra>",
         "legendgroup": "CulinaryOdyssey",
         "marker": {
          "color": "#FF6692",
          "symbol": "circle"
         },
         "mode": "markers",
         "name": "CulinaryOdyssey",
         "orientation": "v",
         "showlegend": true,
         "type": "scatter",
         "x": {
          "bdata": "AAAAAACAQUA=",
          "dtype": "f8"
         },
         "xaxis": "x",
         "y": {
          "bdata": "AAAAAACAUUA=",
          "dtype": "f8"
         },
         "yaxis": "y"
        },
        {
         "hovertemplate": "Sentiment=Resilience<br>Retweets=%{x}<br>Likes=%{y}<extra></extra>",
         "legendgroup": "Resilience",
         "marker": {
          "color": "#B6E880",
          "symbol": "circle"
         },
         "mode": "markers",
         "name": "Resilience",
         "orientation": "v",
         "showlegend": true,
         "type": "scatter",
         "x": {
          "bdata": "AAAAAACAQUAAAAAAAIBBQA==",
          "dtype": "f8"
         },
         "xaxis": "x",
         "y": {
          "bdata": "AAAAAACAUUAAAAAAAIBRQA==",
          "dtype": "f8"
         },
         "yaxis": "y"
        },
        {
         "hovertemplate": "Sentiment=Immersion<br>Retweets=%{x}<br>Likes=%{y}<extra></extra>",
         "legendgroup": "Immersion",
         "marker": {
          "color": "#FF97FF",
          "symbol": "circle"
         },
         "mode": "markers",
         "name": "Immersion",
         "orientation": "v",
         "showlegend": true,
         "type": "scatter",
         "x": {
          "bdata": "AAAAAAAANEA=",
          "dtype": "f8"
         },
         "xaxis": "x",
         "y": {
          "bdata": "AAAAAAAAREA=",
          "dtype": "f8"
         },
         "yaxis": "y"
        },
        {
         "hovertemplate": "Sentiment=Spark<br>Retweets=%{x}<br>Likes=%{y}<extra></extra>",
         "legendgroup": "Spark",
         "marker": {
          "color": "#FECB52",
          "symbol": "circle"
         },
         "mode": "markers",
         "name": "Spark",
         "orientation": "v",
         "showlegend": true,
         "type": "scatter",
         "x": {
          "bdata": "AAAAAAAAPkA=",
          "dtype": "f8"
         },
         "xaxis": "x",
         "y": {
          "bdata": "AAAAAAAATkA=",
          "dtype": "f8"
         },
         "yaxis": "y"
        },
        {
         "hovertemplate": "Sentiment=Marvel<br>Retweets=%{x}<br>Likes=%{y}<extra></extra>",
         "legendgroup": "Marvel",
         "marker": {
          "color": "#636efa",
          "symbol": "circle"
         },
         "mode": "markers",
         "name": "Marvel",
         "orientation": "v",
         "showlegend": true,
         "type": "scatter",
         "x": {
          "bdata": "AAAAAAAANkA=",
          "dtype": "f8"
         },
         "xaxis": "x",
         "y": {
          "bdata": "AAAAAACARkA=",
          "dtype": "f8"
         },
         "yaxis": "y"
        },
        {
         "hovertemplate": "Sentiment=Heartbreak<br>Retweets=%{x}<br>Likes=%{y}<extra></extra>",
         "legendgroup": "Heartbreak",
         "marker": {
          "color": "#EF553B",
          "symbol": "circle"
         },
         "mode": "markers",
         "name": "Heartbreak",
         "orientation": "v",
         "showlegend": true,
         "type": "scatter",
         "x": {
          "bdata": "AAAAAAAALkAAAAAAAAA2QAAAAAAAADZA",
          "dtype": "f8"
         },
         "xaxis": "x",
         "y": {
          "bdata": "AAAAAAAAPkAAAAAAAIBGQAAAAAAAgEZA",
          "dtype": "f8"
         },
         "yaxis": "y"
        },
        {
         "hovertemplate": "Sentiment=Betrayal<br>Retweets=%{x}<br>Likes=%{y}<extra></extra>",
         "legendgroup": "Betrayal",
         "marker": {
          "color": "#00cc96",
          "symbol": "circle"
         },
         "mode": "markers",
         "name": "Betrayal",
         "orientation": "v",
         "showlegend": true,
         "type": "scatter",
         "x": {
          "bdata": "AAAAAAAANkAAAAAAAAA5QAAAAAAAAC5AAAAAAAAAOUAAAAAAAAAuQA==",
          "dtype": "f8"
         },
         "xaxis": "x",
         "y": {
          "bdata": "AAAAAACARkAAAAAAAABJQAAAAAAAAD5AAAAAAAAASUAAAAAAAAA+QA==",
          "dtype": "f8"
         },
         "yaxis": "y"
        },
        {
         "hovertemplate": "Sentiment=Suffering<br>Retweets=%{x}<br>Likes=%{y}<extra></extra>",
         "legendgroup": "Suffering",
         "marker": {
          "color": "#ab63fa",
          "symbol": "circle"
         },
         "mode": "markers",
         "name": "Suffering",
         "orientation": "v",
         "showlegend": true,
         "type": "scatter",
         "x": {
          "bdata": "AAAAAAAAOUA=",
          "dtype": "f8"
         },
         "xaxis": "x",
         "y": {
          "bdata": "AAAAAAAASUA=",
          "dtype": "f8"
         },
         "yaxis": "y"
        },
        {
         "hovertemplate": "Sentiment=EmotionalStorm<br>Retweets=%{x}<br>Likes=%{y}<extra></extra>",
         "legendgroup": "EmotionalStorm",
         "marker": {
          "color": "#FFA15A",
          "symbol": "circle"
         },
         "mode": "markers",
         "name": "EmotionalStorm",
         "orientation": "v",
         "showlegend": true,
         "type": "scatter",
         "x": {
          "bdata": "AAAAAAAAPkA=",
          "dtype": "f8"
         },
         "xaxis": "x",
         "y": {
          "bdata": "AAAAAAAATkA=",
          "dtype": "f8"
         },
         "yaxis": "y"
        },
        {
         "hovertemplate": "Sentiment=Isolation<br>Retweets=%{x}<br>Likes=%{y}<extra></extra>",
         "legendgroup": "Isolation",
         "marker": {
          "color": "#19d3f3",
          "symbol": "circle"
         },
         "mode": "markers",
         "name": "Isolation",
         "orientation": "v",
         "showlegend": true,
         "type": "scatter",
         "x": {
          "bdata": "AAAAAACAQUAAAAAAAAA+QA==",
          "dtype": "f8"
         },
         "xaxis": "x",
         "y": {
          "bdata": "AAAAAACAUUAAAAAAAABOQA==",
          "dtype": "f8"
         },
         "yaxis": "y"
        },
        {
         "hovertemplate": "Sentiment=Disappointment<br>Retweets=%{x}<br>Likes=%{y}<extra></extra>",
         "legendgroup": "Disappointment",
         "marker": {
          "color": "#FF6692",
          "symbol": "circle"
         },
         "mode": "markers",
         "name": "Disappointment",
         "orientation": "v",
         "showlegend": true,
         "type": "scatter",
         "x": {
          "bdata": "AAAAAAAANEAAAAAAAABEQA==",
          "dtype": "f8"
         },
         "xaxis": "x",
         "y": {
          "bdata": "AAAAAAAAREAAAAAAAABUQA==",
          "dtype": "f8"
         },
         "yaxis": "y"
        },
        {
         "hovertemplate": "Sentiment=LostLove<br>Retweets=%{x}<br>Likes=%{y}<extra></extra>",
         "legendgroup": "LostLove",
         "marker": {
          "color": "#B6E880",
          "symbol": "circle"
         },
         "mode": "markers",
         "name": "LostLove",
         "orientation": "v",
         "showlegend": true,
         "type": "scatter",
         "x": {
          "bdata": "AAAAAAAANkA=",
          "dtype": "f8"
         },
         "xaxis": "x",
         "y": {
          "bdata": "AAAAAACARkA=",
          "dtype": "f8"
         },
         "yaxis": "y"
        },
        {
         "hovertemplate": "Sentiment=Exhaustion<br>Retweets=%{x}<br>Likes=%{y}<extra></extra>",
         "legendgroup": "Exhaustion",
         "marker": {
          "color": "#FF97FF",
          "symbol": "circle"
         },
         "mode": "markers",
         "name": "Exhaustion",
         "orientation": "v",
         "showlegend": true,
         "type": "scatter",
         "x": {
          "bdata": "AAAAAACAQUA=",
          "dtype": "f8"
         },
         "xaxis": "x",
         "y": {
          "bdata": "AAAAAACAUUA=",
          "dtype": "f8"
         },
         "yaxis": "y"
        },
        {
         "hovertemplate": "Sentiment=Sorrow<br>Retweets=%{x}<br>Likes=%{y}<extra></extra>",
         "legendgroup": "Sorrow",
         "marker": {
          "color": "#FECB52",
          "symbol": "circle"
         },
         "mode": "markers",
         "name": "Sorrow",
         "orientation": "v",
         "showlegend": true,
         "type": "scatter",
         "x": {
          "bdata": "AAAAAAAAMkAAAAAAAAA2QA==",
          "dtype": "f8"
         },
         "xaxis": "x",
         "y": {
          "bdata": "AAAAAACAQUAAAAAAAIBGQA==",
          "dtype": "f8"
         },
         "yaxis": "y"
        },
        {
         "hovertemplate": "Sentiment=Darkness<br>Retweets=%{x}<br>Likes=%{y}<extra></extra>",
         "legendgroup": "Darkness",
         "marker": {
          "color": "#636efa",
          "symbol": "circle"
         },
         "mode": "markers",
         "name": "Darkness",
         "orientation": "v",
         "showlegend": true,
         "type": "scatter",
         "x": {
          "bdata": "AAAAAAAAPEA=",
          "dtype": "f8"
         },
         "xaxis": "x",
         "y": {
          "bdata": "AAAAAACAS0A=",
          "dtype": "f8"
         },
         "yaxis": "y"
        },
        {
         "hovertemplate": "Sentiment=Desperation<br>Retweets=%{x}<br>Likes=%{y}<extra></extra>",
         "legendgroup": "Desperation",
         "marker": {
          "color": "#EF553B",
          "symbol": "circle"
         },
         "mode": "markers",
         "name": "Desperation",
         "orientation": "v",
         "showlegend": true,
         "type": "scatter",
         "x": {
          "bdata": "AAAAAAAANkA=",
          "dtype": "f8"
         },
         "xaxis": "x",
         "y": {
          "bdata": "AAAAAACARkA=",
          "dtype": "f8"
         },
         "yaxis": "y"
        },
        {
         "hovertemplate": "Sentiment=Ruins<br>Retweets=%{x}<br>Likes=%{y}<extra></extra>",
         "legendgroup": "Ruins",
         "marker": {
          "color": "#00cc96",
          "symbol": "circle"
         },
         "mode": "markers",
         "name": "Ruins",
         "orientation": "v",
         "showlegend": true,
         "type": "scatter",
         "x": {
          "bdata": "AAAAAAAANEA=",
          "dtype": "f8"
         },
         "xaxis": "x",
         "y": {
          "bdata": "AAAAAAAAREA=",
          "dtype": "f8"
         },
         "yaxis": "y"
        },
        {
         "hovertemplate": "Sentiment=Desolation<br>Retweets=%{x}<br>Likes=%{y}<extra></extra>",
         "legendgroup": "Desolation",
         "marker": {
          "color": "#ab63fa",
          "symbol": "circle"
         },
         "mode": "markers",
         "name": "Desolation",
         "orientation": "v",
         "showlegend": true,
         "type": "scatter",
         "x": {
          "bdata": "AAAAAAAANEAAAAAAAAA8QAAAAAAAADRAAAAAAAAAPEA=",
          "dtype": "f8"
         },
         "xaxis": "x",
         "y": {
          "bdata": "AAAAAAAAREAAAAAAAIBLQAAAAAAAAERAAAAAAACAS0A=",
          "dtype": "f8"
         },
         "yaxis": "y"
        },
        {
         "hovertemplate": "Sentiment=Loss<br>Retweets=%{x}<br>Likes=%{y}<extra></extra>",
         "legendgroup": "Loss",
         "marker": {
          "color": "#FFA15A",
          "symbol": "circle"
         },
         "mode": "markers",
         "name": "Loss",
         "orientation": "v",
         "showlegend": true,
         "type": "scatter",
         "x": {
          "bdata": "AAAAAAAAPEAAAAAAAAA2QA==",
          "dtype": "f8"
         },
         "xaxis": "x",
         "y": {
          "bdata": "AAAAAACAS0AAAAAAAIBGQA==",
          "dtype": "f8"
         },
         "yaxis": "y"
        },
        {
         "hovertemplate": "Sentiment=Heartache<br>Retweets=%{x}<br>Likes=%{y}<extra></extra>",
         "legendgroup": "Heartache",
         "marker": {
          "color": "#19d3f3",
          "symbol": "circle"
         },
         "mode": "markers",
         "name": "Heartache",
         "orientation": "v",
         "showlegend": true,
         "type": "scatter",
         "x": {
          "bdata": "AAAAAAAAPkA=",
          "dtype": "f8"
         },
         "xaxis": "x",
         "y": {
          "bdata": "AAAAAAAATkA=",
          "dtype": "f8"
         },
         "yaxis": "y"
        },
        {
         "hovertemplate": "Sentiment=Solitude<br>Retweets=%{x}<br>Likes=%{y}<extra></extra>",
         "legendgroup": "Solitude",
         "marker": {
          "color": "#FF6692",
          "symbol": "circle"
         },
         "mode": "markers",
         "name": "Solitude",
         "orientation": "v",
         "showlegend": true,
         "type": "scatter",
         "x": {
          "bdata": "AAAAAAAAPkA=",
          "dtype": "f8"
         },
         "xaxis": "x",
         "y": {
          "bdata": "AAAAAAAATkA=",
          "dtype": "f8"
         },
         "yaxis": "y"
        },
        {
         "hovertemplate": "Sentiment=Positivity<br>Retweets=%{x}<br>Likes=%{y}<extra></extra>",
         "legendgroup": "Positivity",
         "marker": {
          "color": "#B6E880",
          "symbol": "circle"
         },
         "mode": "markers",
         "name": "Positivity",
         "orientation": "v",
         "showlegend": true,
         "type": "scatter",
         "x": {
          "bdata": "AAAAAAAAMkA=",
          "dtype": "f8"
         },
         "xaxis": "x",
         "y": {
          "bdata": "AAAAAACAQUA=",
          "dtype": "f8"
         },
         "yaxis": "y"
        },
        {
         "hovertemplate": "Sentiment=Kindness<br>Retweets=%{x}<br>Likes=%{y}<extra></extra>",
         "legendgroup": "Kindness",
         "marker": {
          "color": "#FF97FF",
          "symbol": "circle"
         },
         "mode": "markers",
         "name": "Kindness",
         "orientation": "v",
         "showlegend": true,
         "type": "scatter",
         "x": {
          "bdata": "AAAAAAAAOUA=",
          "dtype": "f8"
         },
         "xaxis": "x",
         "y": {
          "bdata": "AAAAAAAASUA=",
          "dtype": "f8"
         },
         "yaxis": "y"
        },
        {
         "hovertemplate": "Sentiment=Friendship<br>Retweets=%{x}<br>Likes=%{y}<extra></extra>",
         "legendgroup": "Friendship",
         "marker": {
          "color": "#FECB52",
          "symbol": "circle"
         },
         "mode": "markers",
         "name": "Friendship",
         "orientation": "v",
         "showlegend": true,
         "type": "scatter",
         "x": {
          "bdata": "AAAAAAAAPkA=",
          "dtype": "f8"
         },
         "xaxis": "x",
         "y": {
          "bdata": "AAAAAAAATkA=",
          "dtype": "f8"
         },
         "yaxis": "y"
        },
        {
         "hovertemplate": "Sentiment=Success<br>Retweets=%{x}<br>Likes=%{y}<extra></extra>",
         "legendgroup": "Success",
         "marker": {
          "color": "#636efa",
          "symbol": "circle"
         },
         "mode": "markers",
         "name": "Success",
         "orientation": "v",
         "showlegend": true,
         "type": "scatter",
         "x": {
          "bdata": "AAAAAAAANkA=",
          "dtype": "f8"
         },
         "xaxis": "x",
         "y": {
          "bdata": "AAAAAACARkA=",
          "dtype": "f8"
         },
         "yaxis": "y"
        },
        {
         "hovertemplate": "Sentiment=Exploration<br>Retweets=%{x}<br>Likes=%{y}<extra></extra>",
         "legendgroup": "Exploration",
         "marker": {
          "color": "#EF553B",
          "symbol": "circle"
         },
         "mode": "markers",
         "name": "Exploration",
         "orientation": "v",
         "showlegend": true,
         "type": "scatter",
         "x": {
          "bdata": "AAAAAAAAMkAAAAAAAAA0QA==",
          "dtype": "f8"
         },
         "xaxis": "x",
         "y": {
          "bdata": "AAAAAACAQUAAAAAAAABEQA==",
          "dtype": "f8"
         },
         "yaxis": "y"
        },
        {
         "hovertemplate": "Sentiment=Amazement<br>Retweets=%{x}<br>Likes=%{y}<extra></extra>",
         "legendgroup": "Amazement",
         "marker": {
          "color": "#00cc96",
          "symbol": "circle"
         },
         "mode": "markers",
         "name": "Amazement",
         "orientation": "v",
         "showlegend": true,
         "type": "scatter",
         "x": {
          "bdata": "AAAAAAAAPkA=",
          "dtype": "f8"
         },
         "xaxis": "x",
         "y": {
          "bdata": "AAAAAAAATkA=",
          "dtype": "f8"
         },
         "yaxis": "y"
        },
        {
         "hovertemplate": "Sentiment=Romance<br>Retweets=%{x}<br>Likes=%{y}<extra></extra>",
         "legendgroup": "Romance",
         "marker": {
          "color": "#ab63fa",
          "symbol": "circle"
         },
         "mode": "markers",
         "name": "Romance",
         "orientation": "v",
         "showlegend": true,
         "type": "scatter",
         "x": {
          "bdata": "AAAAAAAANEA=",
          "dtype": "f8"
         },
         "xaxis": "x",
         "y": {
          "bdata": "AAAAAAAAREA=",
          "dtype": "f8"
         },
         "yaxis": "y"
        },
        {
         "hovertemplate": "Sentiment=Captivation<br>Retweets=%{x}<br>Likes=%{y}<extra></extra>",
         "legendgroup": "Captivation",
         "marker": {
          "color": "#FFA15A",
          "symbol": "circle"
         },
         "mode": "markers",
         "name": "Captivation",
         "orientation": "v",
         "showlegend": true,
         "type": "scatter",
         "x": {
          "bdata": "AAAAAAAAOUAAAAAAAAA8QA==",
          "dtype": "f8"
         },
         "xaxis": "x",
         "y": {
          "bdata": "AAAAAAAASUAAAAAAAIBLQA==",
          "dtype": "f8"
         },
         "yaxis": "y"
        },
        {
         "hovertemplate": "Sentiment=Tranquility<br>Retweets=%{x}<br>Likes=%{y}<extra></extra>",
         "legendgroup": "Tranquility",
         "marker": {
          "color": "#19d3f3",
          "symbol": "circle"
         },
         "mode": "markers",
         "name": "Tranquility",
         "orientation": "v",
         "showlegend": true,
         "type": "scatter",
         "x": {
          "bdata": "AAAAAAAAOUAAAAAAAABEQA==",
          "dtype": "f8"
         },
         "xaxis": "x",
         "y": {
          "bdata": "AAAAAAAASUAAAAAAAABUQA==",
          "dtype": "f8"
         },
         "yaxis": "y"
        },
        {
         "hovertemplate": "Sentiment=Grandeur<br>Retweets=%{x}<br>Likes=%{y}<extra></extra>",
         "legendgroup": "Grandeur",
         "marker": {
          "color": "#FF6692",
          "symbol": "circle"
         },
         "mode": "markers",
         "name": "Grandeur",
         "orientation": "v",
         "showlegend": true,
         "type": "scatter",
         "x": {
          "bdata": "AAAAAAAANkA=",
          "dtype": "f8"
         },
         "xaxis": "x",
         "y": {
          "bdata": "AAAAAACARkA=",
          "dtype": "f8"
         },
         "yaxis": "y"
        },
        {
         "hovertemplate": "Sentiment=Emotion<br>Retweets=%{x}<br>Likes=%{y}<extra></extra>",
         "legendgroup": "Emotion",
         "marker": {
          "color": "#B6E880",
          "symbol": "circle"
         },
         "mode": "markers",
         "name": "Emotion",
         "orientation": "v",
         "showlegend": true,
         "type": "scatter",
         "x": {
          "bdata": "AAAAAAAAREAAAAAAAAA+QA==",
          "dtype": "f8"
         },
         "xaxis": "x",
         "y": {
          "bdata": "AAAAAAAAVEAAAAAAAABOQA==",
          "dtype": "f8"
         },
         "yaxis": "y"
        },
        {
         "hovertemplate": "Sentiment=Energy<br>Retweets=%{x}<br>Likes=%{y}<extra></extra>",
         "legendgroup": "Energy",
         "marker": {
          "color": "#FF97FF",
          "symbol": "circle"
         },
         "mode": "markers",
         "name": "Energy",
         "orientation": "v",
         "showlegend": true,
         "type": "scatter",
         "x": {
          "bdata": "AAAAAACAQUA=",
          "dtype": "f8"
         },
         "xaxis": "x",
         "y": {
          "bdata": "AAAAAACAUUA=",
          "dtype": "f8"
         },
         "yaxis": "y"
        },
        {
         "hovertemplate": "Sentiment=Celebration<br>Retweets=%{x}<br>Likes=%{y}<extra></extra>",
         "legendgroup": "Celebration",
         "marker": {
          "color": "#FECB52",
          "symbol": "circle"
         },
         "mode": "markers",
         "name": "Celebration",
         "orientation": "v",
         "showlegend": true,
         "type": "scatter",
         "x": {
          "bdata": "AAAAAAAAOUA=",
          "dtype": "f8"
         },
         "xaxis": "x",
         "y": {
          "bdata": "AAAAAAAASUA=",
          "dtype": "f8"
         },
         "yaxis": "y"
        },
        {
         "hovertemplate": "Sentiment=Charm<br>Retweets=%{x}<br>Likes=%{y}<extra></extra>",
         "legendgroup": "Charm",
         "marker": {
          "color": "#636efa",
          "symbol": "circle"
         },
         "mode": "markers",
         "name": "Charm",
         "orientation": "v",
         "showlegend": true,
         "type": "scatter",
         "x": {
          "bdata": "AAAAAAAANkA=",
          "dtype": "f8"
         },
         "xaxis": "x",
         "y": {
          "bdata": "AAAAAACARkA=",
          "dtype": "f8"
         },
         "yaxis": "y"
        },
        {
         "hovertemplate": "Sentiment=Ecstasy<br>Retweets=%{x}<br>Likes=%{y}<extra></extra>",
         "legendgroup": "Ecstasy",
         "marker": {
          "color": "#EF553B",
          "symbol": "circle"
         },
         "mode": "markers",
         "name": "Ecstasy",
         "orientation": "v",
         "showlegend": true,
         "type": "scatter",
         "x": {
          "bdata": "AAAAAACAQUA=",
          "dtype": "f8"
         },
         "xaxis": "x",
         "y": {
          "bdata": "AAAAAACAUUA=",
          "dtype": "f8"
         },
         "yaxis": "y"
        },
        {
         "hovertemplate": "Sentiment=Colorful<br>Retweets=%{x}<br>Likes=%{y}<extra></extra>",
         "legendgroup": "Colorful",
         "marker": {
          "color": "#00cc96",
          "symbol": "circle"
         },
         "mode": "markers",
         "name": "Colorful",
         "orientation": "v",
         "showlegend": true,
         "type": "scatter",
         "x": {
          "bdata": "AAAAAAAANkA=",
          "dtype": "f8"
         },
         "xaxis": "x",
         "y": {
          "bdata": "AAAAAACARkA=",
          "dtype": "f8"
         },
         "yaxis": "y"
        },
        {
         "hovertemplate": "Sentiment=Hypnotic<br>Retweets=%{x}<br>Likes=%{y}<extra></extra>",
         "legendgroup": "Hypnotic",
         "marker": {
          "color": "#ab63fa",
          "symbol": "circle"
         },
         "mode": "markers",
         "name": "Hypnotic",
         "orientation": "v",
         "showlegend": true,
         "type": "scatter",
         "x": {
          "bdata": "AAAAAAAAPEA=",
          "dtype": "f8"
         },
         "xaxis": "x",
         "y": {
          "bdata": "AAAAAACAS0A=",
          "dtype": "f8"
         },
         "yaxis": "y"
        },
        {
         "hovertemplate": "Sentiment=Connection<br>Retweets=%{x}<br>Likes=%{y}<extra></extra>",
         "legendgroup": "Connection",
         "marker": {
          "color": "#FFA15A",
          "symbol": "circle"
         },
         "mode": "markers",
         "name": "Connection",
         "orientation": "v",
         "showlegend": true,
         "type": "scatter",
         "x": {
          "bdata": "AAAAAAAAOUA=",
          "dtype": "f8"
         },
         "xaxis": "x",
         "y": {
          "bdata": "AAAAAAAASUA=",
          "dtype": "f8"
         },
         "yaxis": "y"
        },
        {
         "hovertemplate": "Sentiment=Iconic<br>Retweets=%{x}<br>Likes=%{y}<extra></extra>",
         "legendgroup": "Iconic",
         "marker": {
          "color": "#19d3f3",
          "symbol": "circle"
         },
         "mode": "markers",
         "name": "Iconic",
         "orientation": "v",
         "showlegend": true,
         "type": "scatter",
         "x": {
          "bdata": "AAAAAAAANkA=",
          "dtype": "f8"
         },
         "xaxis": "x",
         "y": {
          "bdata": "AAAAAACARkA=",
          "dtype": "f8"
         },
         "yaxis": "y"
        },
        {
         "hovertemplate": "Sentiment=Journey<br>Retweets=%{x}<br>Likes=%{y}<extra></extra>",
         "legendgroup": "Journey",
         "marker": {
          "color": "#FF6692",
          "symbol": "circle"
         },
         "mode": "markers",
         "name": "Journey",
         "orientation": "v",
         "showlegend": true,
         "type": "scatter",
         "x": {
          "bdata": "AAAAAAAAPkA=",
          "dtype": "f8"
         },
         "xaxis": "x",
         "y": {
          "bdata": "AAAAAAAATkA=",
          "dtype": "f8"
         },
         "yaxis": "y"
        },
        {
         "hovertemplate": "Sentiment=Engagement<br>Retweets=%{x}<br>Likes=%{y}<extra></extra>",
         "legendgroup": "Engagement",
         "marker": {
          "color": "#B6E880",
          "symbol": "circle"
         },
         "mode": "markers",
         "name": "Engagement",
         "orientation": "v",
         "showlegend": true,
         "type": "scatter",
         "x": {
          "bdata": "AAAAAAAAPkA=",
          "dtype": "f8"
         },
         "xaxis": "x",
         "y": {
          "bdata": "AAAAAAAATkA=",
          "dtype": "f8"
         },
         "yaxis": "y"
        },
        {
         "hovertemplate": "Sentiment=Touched<br>Retweets=%{x}<br>Likes=%{y}<extra></extra>",
         "legendgroup": "Touched",
         "marker": {
          "color": "#FF97FF",
          "symbol": "circle"
         },
         "mode": "markers",
         "name": "Touched",
         "orientation": "v",
         "showlegend": true,
         "type": "scatter",
         "x": {
          "bdata": "AAAAAAAAPEA=",
          "dtype": "f8"
         },
         "xaxis": "x",
         "y": {
          "bdata": "AAAAAACAS0A=",
          "dtype": "f8"
         },
         "yaxis": "y"
        },
        {
         "hovertemplate": "Sentiment=Suspense<br>Retweets=%{x}<br>Likes=%{y}<extra></extra>",
         "legendgroup": "Suspense",
         "marker": {
          "color": "#FECB52",
          "symbol": "circle"
         },
         "mode": "markers",
         "name": "Suspense",
         "orientation": "v",
         "showlegend": true,
         "type": "scatter",
         "x": {
          "bdata": "AAAAAACAQUA=",
          "dtype": "f8"
         },
         "xaxis": "x",
         "y": {
          "bdata": "AAAAAACAUUA=",
          "dtype": "f8"
         },
         "yaxis": "y"
        },
        {
         "hovertemplate": "Sentiment=Triumph<br>Retweets=%{x}<br>Likes=%{y}<extra></extra>",
         "legendgroup": "Triumph",
         "marker": {
          "color": "#636efa",
          "symbol": "circle"
         },
         "mode": "markers",
         "name": "Triumph",
         "orientation": "v",
         "showlegend": true,
         "type": "scatter",
         "x": {
          "bdata": "AAAAAAAAMkA=",
          "dtype": "f8"
         },
         "xaxis": "x",
         "y": {
          "bdata": "AAAAAACAQUA=",
          "dtype": "f8"
         },
         "yaxis": "y"
        },
        {
         "hovertemplate": "Sentiment=Heartwarming<br>Retweets=%{x}<br>Likes=%{y}<extra></extra>",
         "legendgroup": "Heartwarming",
         "marker": {
          "color": "#EF553B",
          "symbol": "circle"
         },
         "mode": "markers",
         "name": "Heartwarming",
         "orientation": "v",
         "showlegend": true,
         "type": "scatter",
         "x": {
          "bdata": "AAAAAAAANkA=",
          "dtype": "f8"
         },
         "xaxis": "x",
         "y": {
          "bdata": "AAAAAACARkA=",
          "dtype": "f8"
         },
         "yaxis": "y"
        },
        {
         "hovertemplate": "Sentiment=Obstacle<br>Retweets=%{x}<br>Likes=%{y}<extra></extra>",
         "legendgroup": "Obstacle",
         "marker": {
          "color": "#00cc96",
          "symbol": "circle"
         },
         "mode": "markers",
         "name": "Obstacle",
         "orientation": "v",
         "showlegend": true,
         "type": "scatter",
         "x": {
          "bdata": "AAAAAAAANkA=",
          "dtype": "f8"
         },
         "xaxis": "x",
         "y": {
          "bdata": "AAAAAACARkA=",
          "dtype": "f8"
         },
         "yaxis": "y"
        },
        {
         "hovertemplate": "Sentiment=Sympathy<br>Retweets=%{x}<br>Likes=%{y}<extra></extra>",
         "legendgroup": "Sympathy",
         "marker": {
          "color": "#ab63fa",
          "symbol": "circle"
         },
         "mode": "markers",
         "name": "Sympathy",
         "orientation": "v",
         "showlegend": true,
         "type": "scatter",
         "x": {
          "bdata": "AAAAAAAAPEA=",
          "dtype": "f8"
         },
         "xaxis": "x",
         "y": {
          "bdata": "AAAAAACAS0A=",
          "dtype": "f8"
         },
         "yaxis": "y"
        },
        {
         "hovertemplate": "Sentiment=Pressure<br>Retweets=%{x}<br>Likes=%{y}<extra></extra>",
         "legendgroup": "Pressure",
         "marker": {
          "color": "#FFA15A",
          "symbol": "circle"
         },
         "mode": "markers",
         "name": "Pressure",
         "orientation": "v",
         "showlegend": true,
         "type": "scatter",
         "x": {
          "bdata": "AAAAAAAAMkA=",
          "dtype": "f8"
         },
         "xaxis": "x",
         "y": {
          "bdata": "AAAAAACAQUA=",
          "dtype": "f8"
         },
         "yaxis": "y"
        },
        {
         "hovertemplate": "Sentiment=Renewed Effort<br>Retweets=%{x}<br>Likes=%{y}<extra></extra>",
         "legendgroup": "Renewed Effort",
         "marker": {
          "color": "#19d3f3",
          "symbol": "circle"
         },
         "mode": "markers",
         "name": "Renewed Effort",
         "orientation": "v",
         "showlegend": true,
         "type": "scatter",
         "x": {
          "bdata": "AAAAAAAANkA=",
          "dtype": "f8"
         },
         "xaxis": "x",
         "y": {
          "bdata": "AAAAAACARkA=",
          "dtype": "f8"
         },
         "yaxis": "y"
        },
        {
         "hovertemplate": "Sentiment=Miscalculation<br>Retweets=%{x}<br>Likes=%{y}<extra></extra>",
         "legendgroup": "Miscalculation",
         "marker": {
          "color": "#FF6692",
          "symbol": "circle"
         },
         "mode": "markers",
         "name": "Miscalculation",
         "orientation": "v",
         "showlegend": true,
         "type": "scatter",
         "x": {
          "bdata": "AAAAAAAAPEA=",
          "dtype": "f8"
         },
         "xaxis": "x",
         "y": {
          "bdata": "AAAAAACAS0A=",
          "dtype": "f8"
         },
         "yaxis": "y"
        },
        {
         "hovertemplate": "Sentiment=Challenge<br>Retweets=%{x}<br>Likes=%{y}<extra></extra>",
         "legendgroup": "Challenge",
         "marker": {
          "color": "#B6E880",
          "symbol": "circle"
         },
         "mode": "markers",
         "name": "Challenge",
         "orientation": "v",
         "showlegend": true,
         "type": "scatter",
         "x": {
          "bdata": "AAAAAACAQUA=",
          "dtype": "f8"
         },
         "xaxis": "x",
         "y": {
          "bdata": "AAAAAACAUUA=",
          "dtype": "f8"
         },
         "yaxis": "y"
        },
        {
         "hovertemplate": "Sentiment=Solace<br>Retweets=%{x}<br>Likes=%{y}<extra></extra>",
         "legendgroup": "Solace",
         "marker": {
          "color": "#FF97FF",
          "symbol": "circle"
         },
         "mode": "markers",
         "name": "Solace",
         "orientation": "v",
         "showlegend": true,
         "type": "scatter",
         "x": {
          "bdata": "AAAAAAAAPkA=",
          "dtype": "f8"
         },
         "xaxis": "x",
         "y": {
          "bdata": "AAAAAAAATkA=",
          "dtype": "f8"
         },
         "yaxis": "y"
        },
        {
         "hovertemplate": "Sentiment=Breakthrough<br>Retweets=%{x}<br>Likes=%{y}<extra></extra>",
         "legendgroup": "Breakthrough",
         "marker": {
          "color": "#FECB52",
          "symbol": "circle"
         },
         "mode": "markers",
         "name": "Breakthrough",
         "orientation": "v",
         "showlegend": true,
         "type": "scatter",
         "x": {
          "bdata": "AAAAAAAAPEA=",
          "dtype": "f8"
         },
         "xaxis": "x",
         "y": {
          "bdata": "AAAAAACAS0A=",
          "dtype": "f8"
         },
         "yaxis": "y"
        },
        {
         "hovertemplate": "Sentiment=Joy in Baking<br>Retweets=%{x}<br>Likes=%{y}<extra></extra>",
         "legendgroup": "Joy in Baking",
         "marker": {
          "color": "#636efa",
          "symbol": "circle"
         },
         "mode": "markers",
         "name": "Joy in Baking",
         "orientation": "v",
         "showlegend": true,
         "type": "scatter",
         "x": {
          "bdata": "AAAAAAAANkA=",
          "dtype": "f8"
         },
         "xaxis": "x",
         "y": {
          "bdata": "AAAAAACARkA=",
          "dtype": "f8"
         },
         "yaxis": "y"
        },
        {
         "hovertemplate": "Sentiment=Envisioning History<br>Retweets=%{x}<br>Likes=%{y}<extra></extra>",
         "legendgroup": "Envisioning History",
         "marker": {
          "color": "#EF553B",
          "symbol": "circle"
         },
         "mode": "markers",
         "name": "Envisioning History",
         "orientation": "v",
         "showlegend": true,
         "type": "scatter",
         "x": {
          "bdata": "AAAAAAAAPEA=",
          "dtype": "f8"
         },
         "xaxis": "x",
         "y": {
          "bdata": "AAAAAACAS0A=",
          "dtype": "f8"
         },
         "yaxis": "y"
        },
        {
         "hovertemplate": "Sentiment=Imagination<br>Retweets=%{x}<br>Likes=%{y}<extra></extra>",
         "legendgroup": "Imagination",
         "marker": {
          "color": "#00cc96",
          "symbol": "circle"
         },
         "mode": "markers",
         "name": "Imagination",
         "orientation": "v",
         "showlegend": true,
         "type": "scatter",
         "x": {
          "bdata": "AAAAAACAQUA=",
          "dtype": "f8"
         },
         "xaxis": "x",
         "y": {
          "bdata": "AAAAAACAUUA=",
          "dtype": "f8"
         },
         "yaxis": "y"
        },
        {
         "hovertemplate": "Sentiment=Vibrancy<br>Retweets=%{x}<br>Likes=%{y}<extra></extra>",
         "legendgroup": "Vibrancy",
         "marker": {
          "color": "#ab63fa",
          "symbol": "circle"
         },
         "mode": "markers",
         "name": "Vibrancy",
         "orientation": "v",
         "showlegend": true,
         "type": "scatter",
         "x": {
          "bdata": "AAAAAAAANkA=",
          "dtype": "f8"
         },
         "xaxis": "x",
         "y": {
          "bdata": "AAAAAACARkA=",
          "dtype": "f8"
         },
         "yaxis": "y"
        },
        {
         "hovertemplate": "Sentiment=Mesmerizing<br>Retweets=%{x}<br>Likes=%{y}<extra></extra>",
         "legendgroup": "Mesmerizing",
         "marker": {
          "color": "#FFA15A",
          "symbol": "circle"
         },
         "mode": "markers",
         "name": "Mesmerizing",
         "orientation": "v",
         "showlegend": true,
         "type": "scatter",
         "x": {
          "bdata": "AAAAAAAAREA=",
          "dtype": "f8"
         },
         "xaxis": "x",
         "y": {
          "bdata": "AAAAAAAAVEA=",
          "dtype": "f8"
         },
         "yaxis": "y"
        },
        {
         "hovertemplate": "Sentiment=Culinary Adventure<br>Retweets=%{x}<br>Likes=%{y}<extra></extra>",
         "legendgroup": "Culinary Adventure",
         "marker": {
          "color": "#19d3f3",
          "symbol": "circle"
         },
         "mode": "markers",
         "name": "Culinary Adventure",
         "orientation": "v",
         "showlegend": true,
         "type": "scatter",
         "x": {
          "bdata": "AAAAAACAQUA=",
          "dtype": "f8"
         },
         "xaxis": "x",
         "y": {
          "bdata": "AAAAAACAUUA=",
          "dtype": "f8"
         },
         "yaxis": "y"
        },
        {
         "hovertemplate": "Sentiment=Winter Magic<br>Retweets=%{x}<br>Likes=%{y}<extra></extra>",
         "legendgroup": "Winter Magic",
         "marker": {
          "color": "#FF6692",
          "symbol": "circle"
         },
         "mode": "markers",
         "name": "Winter Magic",
         "orientation": "v",
         "showlegend": true,
         "type": "scatter",
         "x": {
          "bdata": "AAAAAAAAPkA=",
          "dtype": "f8"
         },
         "xaxis": "x",
         "y": {
          "bdata": "AAAAAAAATkA=",
          "dtype": "f8"
         },
         "yaxis": "y"
        },
        {
         "hovertemplate": "Sentiment=Thrilling Journey<br>Retweets=%{x}<br>Likes=%{y}<extra></extra>",
         "legendgroup": "Thrilling Journey",
         "marker": {
          "color": "#B6E880",
          "symbol": "circle"
         },
         "mode": "markers",
         "name": "Thrilling Journey",
         "orientation": "v",
         "showlegend": true,
         "type": "scatter",
         "x": {
          "bdata": "AAAAAAAANkA=",
          "dtype": "f8"
         },
         "xaxis": "x",
         "y": {
          "bdata": "AAAAAACARkA=",
          "dtype": "f8"
         },
         "yaxis": "y"
        },
        {
         "hovertemplate": "Sentiment=Nature's Beauty<br>Retweets=%{x}<br>Likes=%{y}<extra></extra>",
         "legendgroup": "Nature's Beauty",
         "marker": {
          "color": "#FF97FF",
          "symbol": "circle"
         },
         "mode": "markers",
         "name": "Nature's Beauty",
         "orientation": "v",
         "showlegend": true,
         "type": "scatter",
         "x": {
          "bdata": "AAAAAAAAPEA=",
          "dtype": "f8"
         },
         "xaxis": "x",
         "y": {
          "bdata": "AAAAAACAS0A=",
          "dtype": "f8"
         },
         "yaxis": "y"
        },
        {
         "hovertemplate": "Sentiment=Celestial Wonder<br>Retweets=%{x}<br>Likes=%{y}<extra></extra>",
         "legendgroup": "Celestial Wonder",
         "marker": {
          "color": "#FECB52",
          "symbol": "circle"
         },
         "mode": "markers",
         "name": "Celestial Wonder",
         "orientation": "v",
         "showlegend": true,
         "type": "scatter",
         "x": {
          "bdata": "AAAAAAAAMkA=",
          "dtype": "f8"
         },
         "xaxis": "x",
         "y": {
          "bdata": "AAAAAACAQUA=",
          "dtype": "f8"
         },
         "yaxis": "y"
        },
        {
         "hovertemplate": "Sentiment=Creative Inspiration<br>Retweets=%{x}<br>Likes=%{y}<extra></extra>",
         "legendgroup": "Creative Inspiration",
         "marker": {
          "color": "#636efa",
          "symbol": "circle"
         },
         "mode": "markers",
         "name": "Creative Inspiration",
         "orientation": "v",
         "showlegend": true,
         "type": "scatter",
         "x": {
          "bdata": "AAAAAAAANkA=",
          "dtype": "f8"
         },
         "xaxis": "x",
         "y": {
          "bdata": "AAAAAACARkA=",
          "dtype": "f8"
         },
         "yaxis": "y"
        },
        {
         "hovertemplate": "Sentiment=Runway Creativity<br>Retweets=%{x}<br>Likes=%{y}<extra></extra>",
         "legendgroup": "Runway Creativity",
         "marker": {
          "color": "#EF553B",
          "symbol": "circle"
         },
         "mode": "markers",
         "name": "Runway Creativity",
         "orientation": "v",
         "showlegend": true,
         "type": "scatter",
         "x": {
          "bdata": "AAAAAAAAPEA=",
          "dtype": "f8"
         },
         "xaxis": "x",
         "y": {
          "bdata": "AAAAAACAS0A=",
          "dtype": "f8"
         },
         "yaxis": "y"
        },
        {
         "hovertemplate": "Sentiment=Ocean's Freedom<br>Retweets=%{x}<br>Likes=%{y}<extra></extra>",
         "legendgroup": "Ocean's Freedom",
         "marker": {
          "color": "#00cc96",
          "symbol": "circle"
         },
         "mode": "markers",
         "name": "Ocean's Freedom",
         "orientation": "v",
         "showlegend": true,
         "type": "scatter",
         "x": {
          "bdata": "AAAAAAAANkA=",
          "dtype": "f8"
         },
         "xaxis": "x",
         "y": {
          "bdata": "AAAAAACARkA=",
          "dtype": "f8"
         },
         "yaxis": "y"
        },
        {
         "hovertemplate": "Sentiment=Whispers of the Past<br>Retweets=%{x}<br>Likes=%{y}<extra></extra>",
         "legendgroup": "Whispers of the Past",
         "marker": {
          "color": "#ab63fa",
          "symbol": "circle"
         },
         "mode": "markers",
         "name": "Whispers of the Past",
         "orientation": "v",
         "showlegend": true,
         "type": "scatter",
         "x": {
          "bdata": "AAAAAACAQUA=",
          "dtype": "f8"
         },
         "xaxis": "x",
         "y": {
          "bdata": "AAAAAACAUUA=",
          "dtype": "f8"
         },
         "yaxis": "y"
        },
        {
         "hovertemplate": "Sentiment=Relief<br>Retweets=%{x}<br>Likes=%{y}<extra></extra>",
         "legendgroup": "Relief",
         "marker": {
          "color": "#FFA15A",
          "symbol": "circle"
         },
         "mode": "markers",
         "name": "Relief",
         "orientation": "v",
         "showlegend": true,
         "type": "scatter",
         "x": {
          "bdata": "AAAAAAAANEA=",
          "dtype": "f8"
         },
         "xaxis": "x",
         "y": {
          "bdata": "AAAAAAAAREA=",
          "dtype": "f8"
         },
         "yaxis": "y"
        },
        {
         "hovertemplate": "Sentiment=Embarrassed<br>Retweets=%{x}<br>Likes=%{y}<extra></extra>",
         "legendgroup": "Embarrassed",
         "marker": {
          "color": "#19d3f3",
          "symbol": "circle"
         },
         "mode": "markers",
         "name": "Embarrassed",
         "orientation": "v",
         "showlegend": true,
         "type": "scatter",
         "x": {
          "bdata": "AAAAAAAANkAAAAAAAAA5QAAAAAAAADZAAAAAAAAAPkAAAAAAAAAyQAAAAAAAADZAAAAAAAAAMUAAAAAAAAAwQA==",
          "dtype": "f8"
         },
         "xaxis": "x",
         "y": {
          "bdata": "AAAAAACARkAAAAAAAABJQAAAAAAAgEZAAAAAAAAATkAAAAAAAIBBQAAAAAAAgEZAAAAAAACAQEAAAAAAAABAQA==",
          "dtype": "f8"
         },
         "yaxis": "y"
        },
        {
         "hovertemplate": "Sentiment=Mischievous<br>Retweets=%{x}<br>Likes=%{y}<extra></extra>",
         "legendgroup": "Mischievous",
         "marker": {
          "color": "#FF6692",
          "symbol": "circle"
         },
         "mode": "markers",
         "name": "Mischievous",
         "orientation": "v",
         "showlegend": true,
         "type": "scatter",
         "x": {
          "bdata": "AAAAAAAAPkAAAAAAAAA8QA==",
          "dtype": "f8"
         },
         "xaxis": "x",
         "y": {
          "bdata": "AAAAAAAATkAAAAAAAIBLQA==",
          "dtype": "f8"
         },
         "yaxis": "y"
        },
        {
         "hovertemplate": "Sentiment=Sad<br>Retweets=%{x}<br>Likes=%{y}<extra></extra>",
         "legendgroup": "Sad",
         "marker": {
          "color": "#B6E880",
          "symbol": "circle"
         },
         "mode": "markers",
         "name": "Sad",
         "orientation": "v",
         "showlegend": true,
         "type": "scatter",
         "x": {
          "bdata": "AAAAAAAALkAAAAAAAAAxQAAAAAAAADZAAAAAAAAAMEAAAAAAAAA0QAAAAAAAADVAAAAAAAAAM0AAAAAAAAA1QAAAAAAAADRA",
          "dtype": "f8"
         },
         "xaxis": "x",
         "y": {
          "bdata": "AAAAAAAAPEAAAAAAAABBQAAAAAAAAEZAAAAAAAAAP0AAAAAAAIBDQAAAAAAAAEVAAAAAAACAQkAAAAAAAIBEQAAAAAAAgENA",
          "dtype": "f8"
         },
         "yaxis": "y"
        },
        {
         "hovertemplate": "Sentiment=Hate<br>Retweets=%{x}<br>Likes=%{y}<extra></extra>",
         "legendgroup": "Hate",
         "marker": {
          "color": "#FF97FF",
          "symbol": "circle"
         },
         "mode": "markers",
         "name": "Hate",
         "orientation": "v",
         "showlegend": true,
         "type": "scatter",
         "x": {
          "bdata": "AAAAAAAAMkAAAAAAAAA1QAAAAAAAACxAAAAAAAAAN0AAAAAAAAAwQAAAAAAAADhA",
          "dtype": "f8"
         },
         "xaxis": "x",
         "y": {
          "bdata": "AAAAAAAAQkAAAAAAAIBEQAAAAAAAADtAAAAAAAAAR0AAAAAAAABAQAAAAAAAAEhA",
          "dtype": "f8"
         },
         "yaxis": "y"
        },
        {
         "hovertemplate": "Sentiment=Bad<br>Retweets=%{x}<br>Likes=%{y}<extra></extra>",
         "legendgroup": "Bad",
         "marker": {
          "color": "#FECB52",
          "symbol": "circle"
         },
         "mode": "markers",
         "name": "Bad",
         "orientation": "v",
         "showlegend": true,
         "type": "scatter",
         "x": {
          "bdata": "AAAAAAAANEAAAAAAAAAzQAAAAAAAADJAAAAAAAAAOUAAAAAAAAAyQAAAAAAAADZA",
          "dtype": "f8"
         },
         "xaxis": "x",
         "y": {
          "bdata": "AAAAAAAAREAAAAAAAABDQAAAAAAAgEFAAAAAAAAASUAAAAAAAABCQAAAAAAAgEVA",
          "dtype": "f8"
         },
         "yaxis": "y"
        },
        {
         "hovertemplate": "Sentiment=Happy<br>Retweets=%{x}<br>Likes=%{y}<extra></extra>",
         "legendgroup": "Happy",
         "marker": {
          "color": "#636efa",
          "symbol": "circle"
         },
         "mode": "markers",
         "name": "Happy",
         "orientation": "v",
         "showlegend": true,
         "type": "scatter",
         "x": {
          "bdata": "AAAAAAAAO0AAAAAAAAA4QAAAAAAAADNAAAAAAAAANUAAAAAAAAA6QAAAAAAAADdAAAAAAAAANkAAAAAAAAA3QAAAAAAAADpAAAAAAAAANEAAAAAAAAA5QAAAAAAAADZAAAAAAAAANUAAAAAAAAA4QA==",
          "dtype": "f8"
         },
         "xaxis": "x",
         "y": {
          "bdata": "AAAAAAAASkAAAAAAAABIQAAAAAAAAENAAAAAAAAARUAAAAAAAABJQAAAAAAAgEZAAAAAAACARUAAAAAAAABGQAAAAAAAgElAAAAAAACAQ0AAAAAAAABIQAAAAAAAAEVAAAAAAACARUAAAAAAAIBHQA==",
          "dtype": "f8"
         },
         "yaxis": "y"
        }
       ],
       "layout": {
        "legend": {
         "title": {
          "text": "Sentiment"
         },
         "tracegroupgap": 0
        },
        "margin": {
         "t": 60
        },
        "template": {
         "data": {
          "bar": [
           {
            "error_x": {
             "color": "#2a3f5f"
            },
            "error_y": {
             "color": "#2a3f5f"
            },
            "marker": {
             "line": {
              "color": "#E5ECF6",
              "width": 0.5
             },
             "pattern": {
              "fillmode": "overlay",
              "size": 10,
              "solidity": 0.2
             }
            },
            "type": "bar"
           }
          ],
          "barpolar": [
           {
            "marker": {
             "line": {
              "color": "#E5ECF6",
              "width": 0.5
             },
             "pattern": {
              "fillmode": "overlay",
              "size": 10,
              "solidity": 0.2
             }
            },
            "type": "barpolar"
           }
          ],
          "carpet": [
           {
            "aaxis": {
             "endlinecolor": "#2a3f5f",
             "gridcolor": "white",
             "linecolor": "white",
             "minorgridcolor": "white",
             "startlinecolor": "#2a3f5f"
            },
            "baxis": {
             "endlinecolor": "#2a3f5f",
             "gridcolor": "white",
             "linecolor": "white",
             "minorgridcolor": "white",
             "startlinecolor": "#2a3f5f"
            },
            "type": "carpet"
           }
          ],
          "choropleth": [
           {
            "colorbar": {
             "outlinewidth": 0,
             "ticks": ""
            },
            "type": "choropleth"
           }
          ],
          "contour": [
           {
            "colorbar": {
             "outlinewidth": 0,
             "ticks": ""
            },
            "colorscale": [
             [
              0,
              "#0d0887"
             ],
             [
              0.1111111111111111,
              "#46039f"
             ],
             [
              0.2222222222222222,
              "#7201a8"
             ],
             [
              0.3333333333333333,
              "#9c179e"
             ],
             [
              0.4444444444444444,
              "#bd3786"
             ],
             [
              0.5555555555555556,
              "#d8576b"
             ],
             [
              0.6666666666666666,
              "#ed7953"
             ],
             [
              0.7777777777777778,
              "#fb9f3a"
             ],
             [
              0.8888888888888888,
              "#fdca26"
             ],
             [
              1,
              "#f0f921"
             ]
            ],
            "type": "contour"
           }
          ],
          "contourcarpet": [
           {
            "colorbar": {
             "outlinewidth": 0,
             "ticks": ""
            },
            "type": "contourcarpet"
           }
          ],
          "heatmap": [
           {
            "colorbar": {
             "outlinewidth": 0,
             "ticks": ""
            },
            "colorscale": [
             [
              0,
              "#0d0887"
             ],
             [
              0.1111111111111111,
              "#46039f"
             ],
             [
              0.2222222222222222,
              "#7201a8"
             ],
             [
              0.3333333333333333,
              "#9c179e"
             ],
             [
              0.4444444444444444,
              "#bd3786"
             ],
             [
              0.5555555555555556,
              "#d8576b"
             ],
             [
              0.6666666666666666,
              "#ed7953"
             ],
             [
              0.7777777777777778,
              "#fb9f3a"
             ],
             [
              0.8888888888888888,
              "#fdca26"
             ],
             [
              1,
              "#f0f921"
             ]
            ],
            "type": "heatmap"
           }
          ],
          "histogram": [
           {
            "marker": {
             "pattern": {
              "fillmode": "overlay",
              "size": 10,
              "solidity": 0.2
             }
            },
            "type": "histogram"
           }
          ],
          "histogram2d": [
           {
            "colorbar": {
             "outlinewidth": 0,
             "ticks": ""
            },
            "colorscale": [
             [
              0,
              "#0d0887"
             ],
             [
              0.1111111111111111,
              "#46039f"
             ],
             [
              0.2222222222222222,
              "#7201a8"
             ],
             [
              0.3333333333333333,
              "#9c179e"
             ],
             [
              0.4444444444444444,
              "#bd3786"
             ],
             [
              0.5555555555555556,
              "#d8576b"
             ],
             [
              0.6666666666666666,
              "#ed7953"
             ],
             [
              0.7777777777777778,
              "#fb9f3a"
             ],
             [
              0.8888888888888888,
              "#fdca26"
             ],
             [
              1,
              "#f0f921"
             ]
            ],
            "type": "histogram2d"
           }
          ],
          "histogram2dcontour": [
           {
            "colorbar": {
             "outlinewidth": 0,
             "ticks": ""
            },
            "colorscale": [
             [
              0,
              "#0d0887"
             ],
             [
              0.1111111111111111,
              "#46039f"
             ],
             [
              0.2222222222222222,
              "#7201a8"
             ],
             [
              0.3333333333333333,
              "#9c179e"
             ],
             [
              0.4444444444444444,
              "#bd3786"
             ],
             [
              0.5555555555555556,
              "#d8576b"
             ],
             [
              0.6666666666666666,
              "#ed7953"
             ],
             [
              0.7777777777777778,
              "#fb9f3a"
             ],
             [
              0.8888888888888888,
              "#fdca26"
             ],
             [
              1,
              "#f0f921"
             ]
            ],
            "type": "histogram2dcontour"
           }
          ],
          "mesh3d": [
           {
            "colorbar": {
             "outlinewidth": 0,
             "ticks": ""
            },
            "type": "mesh3d"
           }
          ],
          "parcoords": [
           {
            "line": {
             "colorbar": {
              "outlinewidth": 0,
              "ticks": ""
             }
            },
            "type": "parcoords"
           }
          ],
          "pie": [
           {
            "automargin": true,
            "type": "pie"
           }
          ],
          "scatter": [
           {
            "fillpattern": {
             "fillmode": "overlay",
             "size": 10,
             "solidity": 0.2
            },
            "type": "scatter"
           }
          ],
          "scatter3d": [
           {
            "line": {
             "colorbar": {
              "outlinewidth": 0,
              "ticks": ""
             }
            },
            "marker": {
             "colorbar": {
              "outlinewidth": 0,
              "ticks": ""
             }
            },
            "type": "scatter3d"
           }
          ],
          "scattercarpet": [
           {
            "marker": {
             "colorbar": {
              "outlinewidth": 0,
              "ticks": ""
             }
            },
            "type": "scattercarpet"
           }
          ],
          "scattergeo": [
           {
            "marker": {
             "colorbar": {
              "outlinewidth": 0,
              "ticks": ""
             }
            },
            "type": "scattergeo"
           }
          ],
          "scattergl": [
           {
            "marker": {
             "colorbar": {
              "outlinewidth": 0,
              "ticks": ""
             }
            },
            "type": "scattergl"
           }
          ],
          "scattermap": [
           {
            "marker": {
             "colorbar": {
              "outlinewidth": 0,
              "ticks": ""
             }
            },
            "type": "scattermap"
           }
          ],
          "scattermapbox": [
           {
            "marker": {
             "colorbar": {
              "outlinewidth": 0,
              "ticks": ""
             }
            },
            "type": "scattermapbox"
           }
          ],
          "scatterpolar": [
           {
            "marker": {
             "colorbar": {
              "outlinewidth": 0,
              "ticks": ""
             }
            },
            "type": "scatterpolar"
           }
          ],
          "scatterpolargl": [
           {
            "marker": {
             "colorbar": {
              "outlinewidth": 0,
              "ticks": ""
             }
            },
            "type": "scatterpolargl"
           }
          ],
          "scatterternary": [
           {
            "marker": {
             "colorbar": {
              "outlinewidth": 0,
              "ticks": ""
             }
            },
            "type": "scatterternary"
           }
          ],
          "surface": [
           {
            "colorbar": {
             "outlinewidth": 0,
             "ticks": ""
            },
            "colorscale": [
             [
              0,
              "#0d0887"
             ],
             [
              0.1111111111111111,
              "#46039f"
             ],
             [
              0.2222222222222222,
              "#7201a8"
             ],
             [
              0.3333333333333333,
              "#9c179e"
             ],
             [
              0.4444444444444444,
              "#bd3786"
             ],
             [
              0.5555555555555556,
              "#d8576b"
             ],
             [
              0.6666666666666666,
              "#ed7953"
             ],
             [
              0.7777777777777778,
              "#fb9f3a"
             ],
             [
              0.8888888888888888,
              "#fdca26"
             ],
             [
              1,
              "#f0f921"
             ]
            ],
            "type": "surface"
           }
          ],
          "table": [
           {
            "cells": {
             "fill": {
              "color": "#EBF0F8"
             },
             "line": {
              "color": "white"
             }
            },
            "header": {
             "fill": {
              "color": "#C8D4E3"
             },
             "line": {
              "color": "white"
             }
            },
            "type": "table"
           }
          ]
         },
         "layout": {
          "annotationdefaults": {
           "arrowcolor": "#2a3f5f",
           "arrowhead": 0,
           "arrowwidth": 1
          },
          "autotypenumbers": "strict",
          "coloraxis": {
           "colorbar": {
            "outlinewidth": 0,
            "ticks": ""
           }
          },
          "colorscale": {
           "diverging": [
            [
             0,
             "#8e0152"
            ],
            [
             0.1,
             "#c51b7d"
            ],
            [
             0.2,
             "#de77ae"
            ],
            [
             0.3,
             "#f1b6da"
            ],
            [
             0.4,
             "#fde0ef"
            ],
            [
             0.5,
             "#f7f7f7"
            ],
            [
             0.6,
             "#e6f5d0"
            ],
            [
             0.7,
             "#b8e186"
            ],
            [
             0.8,
             "#7fbc41"
            ],
            [
             0.9,
             "#4d9221"
            ],
            [
             1,
             "#276419"
            ]
           ],
           "sequential": [
            [
             0,
             "#0d0887"
            ],
            [
             0.1111111111111111,
             "#46039f"
            ],
            [
             0.2222222222222222,
             "#7201a8"
            ],
            [
             0.3333333333333333,
             "#9c179e"
            ],
            [
             0.4444444444444444,
             "#bd3786"
            ],
            [
             0.5555555555555556,
             "#d8576b"
            ],
            [
             0.6666666666666666,
             "#ed7953"
            ],
            [
             0.7777777777777778,
             "#fb9f3a"
            ],
            [
             0.8888888888888888,
             "#fdca26"
            ],
            [
             1,
             "#f0f921"
            ]
           ],
           "sequentialminus": [
            [
             0,
             "#0d0887"
            ],
            [
             0.1111111111111111,
             "#46039f"
            ],
            [
             0.2222222222222222,
             "#7201a8"
            ],
            [
             0.3333333333333333,
             "#9c179e"
            ],
            [
             0.4444444444444444,
             "#bd3786"
            ],
            [
             0.5555555555555556,
             "#d8576b"
            ],
            [
             0.6666666666666666,
             "#ed7953"
            ],
            [
             0.7777777777777778,
             "#fb9f3a"
            ],
            [
             0.8888888888888888,
             "#fdca26"
            ],
            [
             1,
             "#f0f921"
            ]
           ]
          },
          "colorway": [
           "#636efa",
           "#EF553B",
           "#00cc96",
           "#ab63fa",
           "#FFA15A",
           "#19d3f3",
           "#FF6692",
           "#B6E880",
           "#FF97FF",
           "#FECB52"
          ],
          "font": {
           "color": "#2a3f5f"
          },
          "geo": {
           "bgcolor": "white",
           "lakecolor": "white",
           "landcolor": "#E5ECF6",
           "showlakes": true,
           "showland": true,
           "subunitcolor": "white"
          },
          "hoverlabel": {
           "align": "left"
          },
          "hovermode": "closest",
          "mapbox": {
           "style": "light"
          },
          "paper_bgcolor": "white",
          "plot_bgcolor": "#E5ECF6",
          "polar": {
           "angularaxis": {
            "gridcolor": "white",
            "linecolor": "white",
            "ticks": ""
           },
           "bgcolor": "#E5ECF6",
           "radialaxis": {
            "gridcolor": "white",
            "linecolor": "white",
            "ticks": ""
           }
          },
          "scene": {
           "xaxis": {
            "backgroundcolor": "#E5ECF6",
            "gridcolor": "white",
            "gridwidth": 2,
            "linecolor": "white",
            "showbackground": true,
            "ticks": "",
            "zerolinecolor": "white"
           },
           "yaxis": {
            "backgroundcolor": "#E5ECF6",
            "gridcolor": "white",
            "gridwidth": 2,
            "linecolor": "white",
            "showbackground": true,
            "ticks": "",
            "zerolinecolor": "white"
           },
           "zaxis": {
            "backgroundcolor": "#E5ECF6",
            "gridcolor": "white",
            "gridwidth": 2,
            "linecolor": "white",
            "showbackground": true,
            "ticks": "",
            "zerolinecolor": "white"
           }
          },
          "shapedefaults": {
           "line": {
            "color": "#2a3f5f"
           }
          },
          "ternary": {
           "aaxis": {
            "gridcolor": "white",
            "linecolor": "white",
            "ticks": ""
           },
           "baxis": {
            "gridcolor": "white",
            "linecolor": "white",
            "ticks": ""
           },
           "bgcolor": "#E5ECF6",
           "caxis": {
            "gridcolor": "white",
            "linecolor": "white",
            "ticks": ""
           }
          },
          "title": {
           "x": 0.05
          },
          "xaxis": {
           "automargin": true,
           "gridcolor": "white",
           "linecolor": "white",
           "ticks": "",
           "title": {
            "standoff": 15
           },
           "zerolinecolor": "white",
           "zerolinewidth": 2
          },
          "yaxis": {
           "automargin": true,
           "gridcolor": "white",
           "linecolor": "white",
           "ticks": "",
           "title": {
            "standoff": 15
           },
           "zerolinecolor": "white",
           "zerolinewidth": 2
          }
         }
        },
        "xaxis": {
         "anchor": "y",
         "domain": [
          0,
          1
         ],
         "title": {
          "text": "Retweets"
         }
        },
        "yaxis": {
         "anchor": "x",
         "domain": [
          0,
          1
         ],
         "title": {
          "text": "Likes"
         }
        }
       }
      }
     },
     "metadata": {},
     "output_type": "display_data"
    }
   ],
   "source": [
    "px.scatter(sentiment,x=\"Retweets\", y=\"Likes\", color=\"Sentiment\")"
   ]
  },
  {
   "cell_type": "code",
   "execution_count": 107,
   "id": "f2adde92",
   "metadata": {},
   "outputs": [],
   "source": [
    "sentiment['Sentiment'] = sentiment['Sentiment'].replace(('Negative', 'Anger', 'Fear', 'Sadness', 'Disgust', \n",
    "                                                         'Disappointed','Bitter', 'Shame', 'Despair', 'Grief', 'Loneliness', 'Jealousy',\n",
    "                                                         'Resentment', 'Frustration', 'Boredom', 'Anxiety', 'Intimidation',\n",
    "                                                         'Helplessness', 'Envy', 'Regret', 'Bitterness', 'Fearful',\n",
    "                                                         'Apprehensive', 'Overwhelmed', 'Jealous', 'Devastated',\n",
    "                                                         'Frustrated', 'Envious', 'Dismissive', 'Heartbreak', 'Betrayal',\n",
    "                                                         'Suffering', 'EmotionalStorm', 'Isolation', 'Disappointment',\n",
    "                                                         'LostLove', 'Exhaustion', 'Sorrow', 'Darkness', 'Desperation',\n",
    "                                                         'Ruins', 'Desolation', 'Loss', 'Heartache', 'Solitude',\n",
    "                                                         'Obstacle', 'Sympathy', 'Pressure', 'Miscalculation', 'Challenge',\n",
    "                                                         'Embarrassed', 'Sad', 'Hate', 'Bad', 'Indifference', 'Numbness', 'Melancholy',\n",
    "                                                         'Zest', 'Yearning', 'Mischievous', 'Whispers of the Past'), 'Negative')"
   ]
  },
  {
   "cell_type": "code",
   "execution_count": 108,
   "id": "ff1bcd44",
   "metadata": {},
   "outputs": [],
   "source": [
    "sentiment['Sentiment'] = sentiment['Sentiment'].replace(('Positive', 'Happiness', 'Joy', 'Love', 'Amusement', 'Enjoyment',\n",
    "    'Admiration', 'Affection', 'Awe', 'Surprise', 'Acceptance',\n",
    "    'Adoration', 'Anticipation', 'Calmness', 'Excitement', 'Kind',\n",
    "    'Pride', 'Elation', 'Euphoria', 'Contentment', 'Serenity',\n",
    "    'Gratitude', 'Hope', 'Empowerment', 'Compassion', 'Tenderness',\n",
    "    'Arousal', 'Enthusiasm', 'Fulfillment', 'Reverence', 'Hopeful',\n",
    "    'Proud', 'Grateful', 'Empathetic', 'Compassionate', 'Playful',\n",
    "    'Free-spirited', 'Inspired', 'Confident', 'Thrill', 'Bittersweet',\n",
    "    'Overjoyed', 'Inspiration', 'Motivation', 'JoyfulReunion',\n",
    "    'Satisfaction', 'Blessed', 'Reflection', 'Appreciation',\n",
    "    'Confidence', 'Accomplishment', 'Wonderment', 'Optimism',\n",
    "    'Enchantment', 'Intrigue', 'PlayfulJoy', 'Mindfulness',\n",
    "    'DreamChaser', 'Elegance', 'Whimsy', 'Harmony', 'Creativity',\n",
    "    'Radiance', 'Wonder', 'Rejuvenation', 'Coziness', 'Adventure',\n",
    "    'Melodic', 'FestiveJoy', 'InnerJourney', 'Freedom', 'Dazzle',\n",
    "    'Adrenaline', 'ArtisticBurst', 'CulinaryOdyssey', 'Resilience',\n",
    "    'Immersion', 'Spark', 'Marvel', 'Positivity', 'Kindness',\n",
    "    'Friendship', 'Success', 'Exploration', 'Amazement', 'Romance',\n",
    "    'Captivation', 'Tranquility', 'Grandeur', 'Celebration', 'Charm',\n",
    "    'Ecstasy', 'Colorful', 'Hypnotic', 'Connection', 'Iconic',\n",
    "    'Journey', 'Engagement', 'Touched', 'Triumph', 'Heartwarming',\n",
    "    'Solace', 'Breakthrough', 'Joy in Baking', 'Envisioning History',\n",
    "    'Imagination', 'Vibrancy', 'Mesmerizing', 'Culinary Adventure',\n",
    "    'Winter Magic', 'Thrilling Journey', \"Nature's Beauty\",\n",
    "    'Celestial Wonder', 'Creative Inspiration', 'Runway Creativity',\n",
    "    \"Ocean's Freedom\", 'Whispers of the Past', 'Relief', \n",
    "    'Nostalgia', 'Determination','Happy', 'Renewed Effort',\n",
    "    'Energy', 'Engagement'), 'Positive')\n"
   ]
  },
  {
   "cell_type": "code",
   "execution_count": 109,
   "id": "9276fb4a",
   "metadata": {},
   "outputs": [],
   "source": [
    "sentiment['Sentiment'] = sentiment['Sentiment'].replace(('Neutral', 'Confusion', 'Curiosity', 'Contemplation', 'Reflection',\n",
    "    'Pensive', 'Emotion', 'Expression',\n",
    "    'Journey', 'DreamChaser', 'InnerJourney', 'Envisioning History',\n",
    "    'Imagination', 'Creative Inspiration', 'Suspense', 'Ambivalence',\n",
    "    'Mystery'), 'Neutral')\n"
   ]
  },
  {
   "cell_type": "code",
   "execution_count": 110,
   "id": "089afc01",
   "metadata": {},
   "outputs": [
    {
     "name": "stdout",
     "output_type": "stream",
     "text": [
      "['Positive' 'Negative' 'Neutral']\n",
      "Sentiment\n",
      "Negative    201\n",
      "Neutral      54\n",
      "Positive    477\n",
      "dtype: int64\n"
     ]
    }
   ],
   "source": [
    "print(sentiment['Sentiment'].unique())\n",
    "print(sentiment.groupby('Sentiment').size())"
   ]
  },
  {
   "cell_type": "code",
   "execution_count": 111,
   "id": "a4f24902",
   "metadata": {},
   "outputs": [],
   "source": [
    "#Creating a new dataset to be used in the future (exported)\n",
    "sentiment.to_csv('sentiment_dataset_categorized.csv', index=False)"
   ]
  },
  {
   "cell_type": "code",
   "execution_count": 112,
   "id": "0f6b3edf",
   "metadata": {},
   "outputs": [
    {
     "name": "stderr",
     "output_type": "stream",
     "text": [
      "C:\\Users\\bhoom\\AppData\\Local\\Temp\\ipykernel_87792\\4031244618.py:5: FutureWarning:\n",
      "\n",
      "Downcasting behavior in `replace` is deprecated and will be removed in a future version. To retain the old behavior, explicitly call `result.infer_objects(copy=False)`. To opt-in to the future behavior, set `pd.set_option('future.no_silent_downcasting', True)`\n",
      "\n"
     ]
    }
   ],
   "source": [
    "#new numeric dataset\n",
    "num_sentiment = sentiment.copy()\n",
    "num_sentiment['Sentiment'] = num_sentiment['Sentiment'].replace('Neutral', 0)\n",
    "num_sentiment['Sentiment'] = num_sentiment['Sentiment'].replace('Positive', 1)\n",
    "num_sentiment['Sentiment'] = num_sentiment['Sentiment'].replace('Negative', -1)\n",
    "num_sentiment.drop(columns=['Text', 'Timestamp', 'User','Hashtags','Country','Platform'], inplace=True)"
   ]
  },
  {
   "cell_type": "markdown",
   "id": "da9c47d2",
   "metadata": {},
   "source": [
    "#### Preliminary Plots"
   ]
  },
  {
   "cell_type": "code",
   "execution_count": 113,
   "id": "d3570094",
   "metadata": {},
   "outputs": [
    {
     "data": {
      "application/vnd.plotly.v1+json": {
       "config": {
        "plotlyServerURL": "https://plot.ly"
       },
       "data": [
        {
         "hovertemplate": "Sentiment=Positive<br>Likes=%{x}<br>Retweets=%{y}<extra></extra>",
         "legendgroup": "Positive",
         "marker": {
          "color": "#636efa",
          "line": {
           "color": "DarkSlateGrey",
           "width": 2
          },
          "size": 12,
          "symbol": "circle"
         },
         "mode": "markers",
         "name": "Positive",
         "orientation": "v",
         "showlegend": true,
         "type": "scatter",
         "x": {
          "bdata": "AAAAAAAAPkAAAAAAAABEQAAAAAAAAC5AAAAAAAAASUAAAAAAAAA0QAAAAAAAAD5AAAAAAACARkAAAAAAAAA5QAAAAAAAgEtAAAAAAAAAREAAAAAAAAA+QAAAAAAAgEFAAAAAAACARkAAAAAAAAA+QAAAAAAAAE5AAAAAAAAAREAAAAAAAAA5QAAAAAAAAD5AAAAAAAAASUAAAAAAAAA+QAAAAAAAgEZAAAAAAAAAOUAAAAAAAIBBQAAAAAAAAD5AAAAAAAAATkAAAAAAAABJQAAAAAAAAD5AAAAAAACARkAAAAAAAIBBQAAAAAAAAD5AAAAAAAAAOUAAAAAAAABOQAAAAAAAAElAAAAAAAAAPkAAAAAAAIBGQAAAAAAAgEFAAAAAAAAAPkAAAAAAAAA5QAAAAAAAgEtAAAAAAAAAPkAAAAAAAABEQAAAAAAAAD5AAAAAAACARkAAAAAAAIBBQAAAAAAAAE5AAAAAAACARkAAAAAAAAA+QAAAAAAAgEFAAAAAAAAASUAAAAAAAABEQAAAAAAAAD5AAAAAAACARkAAAAAAAABJQAAAAAAAAD5AAAAAAACARkAAAAAAAABEQAAAAAAAAD5AAAAAAACARkAAAAAAAABEQAAAAAAAAE5AAAAAAAAATkAAAAAAAIBGQAAAAAAAAD5AAAAAAACAQUAAAAAAAABJQAAAAAAAAERAAAAAAAAAPkAAAAAAAIBGQAAAAAAAAElAAAAAAAAAPkAAAAAAAIBGQAAAAAAAAERAAAAAAAAAPkAAAAAAAIBGQAAAAAAAAERAAAAAAAAATkAAAAAAAIBGQAAAAAAAgEFAAAAAAAAAPkAAAAAAAABJQAAAAAAAgEZAAAAAAAAAOUAAAAAAAABEQAAAAAAAAD5AAAAAAAAASUAAAAAAAIBBQAAAAAAAAE5AAAAAAACARkAAAAAAAAA+QAAAAAAAgEFAAAAAAAAASUAAAAAAAABEQAAAAAAAAD5AAAAAAACARkAAAAAAAIBBQAAAAAAAAElAAAAAAAAAPkAAAAAAAABOQAAAAAAAgEZAAAAAAAAAPkAAAAAAAIBBQAAAAAAAAElAAAAAAACAQUAAAAAAAABJQAAAAAAAAERAAAAAAAAAPkAAAAAAAIBGQAAAAAAAgEFAAAAAAAAASUAAAAAAAABEQAAAAAAAAD5AAAAAAAAASUAAAAAAAIBBQAAAAAAAAE5AAAAAAACARkAAAAAAAAA+QAAAAAAAgEFAAAAAAAAASUAAAAAAAABEQAAAAAAAAD5AAAAAAACARkAAAAAAAIBBQAAAAAAAAElAAAAAAAAAPkAAAAAAAABOQAAAAAAAgEZAAAAAAAAAPkAAAAAAAIBBQAAAAAAAAElAAAAAAACAQUAAAAAAAABJQAAAAAAAAERAAAAAAAAAPkAAAAAAAIBGQAAAAAAAgEFAAAAAAAAASUAAAAAAAAA0QAAAAAAAAD5AAAAAAAAANEAAAAAAAAA5QAAAAAAAADRAAAAAAAAAPkAAAAAAAIBBQAAAAAAAAElAAAAAAAAAOUAAAAAAAABCQAAAAAAAAERAAAAAAAAASUAAAAAAAAA5QAAAAAAAAEJAAAAAAAAAREAAAAAAAABJQAAAAAAAADlAAAAAAAAAQkAAAAAAAABEQAAAAAAAAElAAAAAAAAAQkAAAAAAAAA4QAAAAAAAAElAAAAAAAAAREAAAAAAAAA+QAAAAAAAAEJAAAAAAAAARkAAAAAAAABEQAAAAAAAAD5AAAAAAAAAOEAAAAAAAABJQAAAAAAAADpAAAAAAAAAQ0AAAAAAAABFQAAAAAAAAEdAAAAAAAAAPEAAAAAAAABIQAAAAAAAAEJAAAAAAAAAREAAAAAAAABAQAAAAAAAAEZAAAAAAAAAQ0AAAAAAAABHQAAAAAAAAD5AAAAAAAAASUAAAAAAAAA8QAAAAAAAAEFAAAAAAAAARUAAAAAAAABHQAAAAAAAADxAAAAAAAAASEAAAAAAAABCQAAAAAAAAERAAAAAAAAAQEAAAAAAAABGQAAAAAAAAENAAAAAAAAAR0AAAAAAAAA+QAAAAAAAAElAAAAAAAAAPEAAAAAAAABBQAAAAAAAAEVAAAAAAAAAR0AAAAAAAAA8QAAAAAAAAEhAAAAAAACAS0AAAAAAAAA+QAAAAAAAgEZAAAAAAAAAVEAAAAAAAIBBQAAAAAAAAE5AAAAAAACAUUAAAAAAAABEQAAAAAAAAElAAAAAAACAQUAAAAAAAABOQAAAAAAAAFRAAAAAAACARkAAAAAAAIBRQAAAAAAAAD5AAAAAAAAAREAAAAAAAABOQAAAAAAAAElAAAAAAACAQUAAAAAAAIBGQAAAAAAAAFRAAAAAAACAUUAAAAAAAABEQAAAAAAAgEtAAAAAAAAAPkAAAAAAAABJQAAAAAAAAE5AAAAAAACAQUAAAAAAAIBGQAAAAAAAgFFAAAAAAAAAREAAAAAAAIBLQAAAAAAAAD5AAAAAAAAAVEAAAAAAAABJQAAAAAAAgEFAAAAAAACARkAAAAAAAIBRQAAAAAAAAE5AAAAAAACAS0AAAAAAAABEQAAAAAAAgEZAAAAAAACAUUAAAAAAAAA+QAAAAAAAAElAAAAAAAAAVEAAAAAAAIBBQAAAAAAAgEtAAAAAAAAATkAAAAAAAIBGQAAAAAAAgFFAAAAAAAAAREAAAAAAAIBBQAAAAAAAAElAAAAAAACAQUAAAAAAAIBGQAAAAAAAgFFAAAAAAAAATkAAAAAAAIBLQAAAAAAAAERAAAAAAACAQUAAAAAAAIBGQAAAAAAAgFFAAAAAAAAAPkAAAAAAAABJQAAAAAAAAFRAAAAAAACAQUAAAAAAAIBLQAAAAAAAAE5AAAAAAACARkAAAAAAAIBRQAAAAAAAAERAAAAAAACAQUAAAAAAAIBGQAAAAAAAgEtAAAAAAACAUUAAAAAAAABEQAAAAAAAAElAAAAAAAAATkAAAAAAAIBBQAAAAAAAgEZAAAAAAACAS0AAAAAAAIBRQAAAAAAAgEFAAAAAAAAAVEAAAAAAAIBRQAAAAAAAAElAAAAAAAAATkAAAAAAAIBGQAAAAAAAgEtAAAAAAACAQUAAAAAAAABEQAAAAAAAAElAAAAAAAAATkAAAAAAAIBRQAAAAAAAAFRAAAAAAAAATkAAAAAAAABJQAAAAAAAgEtAAAAAAACAQUAAAAAAAIBGQAAAAAAAAE5AAAAAAACAUUAAAAAAAIBLQAAAAAAAAE5AAAAAAACARkAAAAAAAIBRQAAAAAAAgEFAAAAAAAAASUAAAAAAAIBGQAAAAAAAAE5AAAAAAAAAREAAAAAAAIBLQAAAAAAAgFFAAAAAAAAASUAAAAAAAIBGQAAAAAAAAE5AAAAAAACAQUAAAAAAAIBLQAAAAAAAAERAAAAAAACARkAAAAAAAABJQAAAAAAAgEZAAAAAAACAUUAAAAAAAABOQAAAAAAAgEZAAAAAAACAQUAAAAAAAIBLQAAAAAAAAElAAAAAAACARkAAAAAAAIBRQAAAAAAAAE5AAAAAAAAAVEAAAAAAAIBRQAAAAAAAgEZAAAAAAACAQUAAAAAAAIBLQAAAAAAAAElAAAAAAACARkAAAAAAAIBRQAAAAAAAAE5AAAAAAAAAVEAAAAAAAIBRQAAAAAAAAE5AAAAAAACARkAAAAAAAIBLQAAAAAAAgEFAAAAAAACARkAAAAAAAIBGQAAAAAAAAFRAAAAAAACAUUAAAAAAAABOQAAAAAAAgEZAAAAAAACAS0AAAAAAAIBBQAAAAAAAgEZAAAAAAACAS0AAAAAAAIBRQAAAAAAAgEZAAAAAAAAATkAAAAAAAIBGQAAAAAAAAFRAAAAAAACAUUAAAAAAAABOQAAAAAAAgEZAAAAAAACAS0AAAAAAAIBBQAAAAAAAgEZAAAAAAACAS0AAAAAAAIBRQAAAAAAAgEZAAAAAAAAAVEAAAAAAAIBRQAAAAAAAAE5AAAAAAACARkAAAAAAAIBLQAAAAAAAgEFAAAAAAACARkAAAAAAAIBLQAAAAAAAgEZAAAAAAAAAPkAAAAAAAIBGQAAAAAAAAElAAAAAAACAS0AAAAAAAIBBQAAAAAAAAE5AAAAAAACARkAAAAAAAIBRQAAAAAAAAERAAAAAAACARkAAAAAAAABJQAAAAAAAgEFAAAAAAACAS0AAAAAAAIBGQAAAAAAAgFFAAAAAAACAUUAAAAAAAIBLQAAAAAAAAElAAAAAAACAQUAAAAAAAIBRQAAAAAAAgEtAAAAAAACARkAAAAAAAABEQAAAAAAAgEFAAAAAAAAASUAAAAAAAIBLQAAAAAAAgEZAAAAAAACAUUAAAAAAAABEQAAAAAAAgEFAAAAAAAAASUAAAAAAAIBLQAAAAAAAAE5AAAAAAACARkAAAAAAAIBLQAAAAAAAgFFAAAAAAACAQUAAAAAAAABJQAAAAAAAgEZAAAAAAAAATkAAAAAAAABEQAAAAAAAgEtAAAAAAACARkAAAAAAAABJQAAAAAAAgFFAAAAAAAAAREAAAAAAAIBLQAAAAAAAAE5AAAAAAAAASUAAAAAAAIBGQAAAAAAAAE5AAAAAAAAAREAAAAAAAABJQAAAAAAAgEFAAAAAAACARkAAAAAAAABOQAAAAAAAgEtAAAAAAAAATkAAAAAAAABEQAAAAAAAgEtAAAAAAACARkAAAAAAAABJQAAAAAAAgFFAAAAAAAAAREAAAAAAAIBLQAAAAAAAgEFAAAAAAAAAPkAAAAAAAABEQAAAAAAAAENAAAAAAAAASUAAAAAAAABCQAAAAAAAAEhAAAAAAAAAREAAAAAAAABFQAAAAAAAgENAAAAAAAAARkAAAAAAAIBCQAAAAAAAAEpAAAAAAACARUAAAAAAAIBDQAAAAAAAAEhAAAAAAAAARUAAAAAAAABKQAAAAAAAAEhAAAAAAAAAQ0AAAAAAAABFQAAAAAAAAElAAAAAAACARkAAAAAAAIBFQAAAAAAAAEZAAAAAAACASUAAAAAAAIBDQAAAAAAAAEhAAAAAAAAARUAAAAAAAIBFQAAAAAAAgEdA",
          "dtype": "f8"
         },
         "xaxis": "x",
         "y": {
          "bdata": "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",
          "dtype": "f8"
         },
         "yaxis": "y"
        },
        {
         "hovertemplate": "Sentiment=Negative<br>Likes=%{x}<br>Retweets=%{y}<extra></extra>",
         "legendgroup": "Negative",
         "marker": {
          "color": "#EF553B",
          "line": {
           "color": "DarkSlateGrey",
           "width": 2
          },
          "size": 12,
          "symbol": "circle"
         },
         "mode": "markers",
         "name": "Negative",
         "orientation": "v",
         "showlegend": true,
         "type": "scatter",
         "x": {
          "bdata": "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",
          "dtype": "f8"
         },
         "xaxis": "x",
         "y": {
          "bdata": "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",
          "dtype": "f8"
         },
         "yaxis": "y"
        },
        {
         "hovertemplate": "Sentiment=Neutral<br>Likes=%{x}<br>Retweets=%{y}<extra></extra>",
         "legendgroup": "Neutral",
         "marker": {
          "color": "#00cc96",
          "line": {
           "color": "DarkSlateGrey",
           "width": 2
          },
          "size": 12,
          "symbol": "circle"
         },
         "mode": "markers",
         "name": "Neutral",
         "orientation": "v",
         "showlegend": true,
         "type": "scatter",
         "x": {
          "bdata": "AAAAAAAAOUAAAAAAAIBBQAAAAAAAAD5AAAAAAAAASUAAAAAAAABJQAAAAAAAAElAAAAAAAAATkAAAAAAAAA+QAAAAAAAADRAAAAAAAAAOUAAAAAAAABEQAAAAAAAAD5AAAAAAAAAOUAAAAAAAIBGQAAAAAAAADxAAAAAAAAAPkAAAAAAAAA8QAAAAAAAAD5AAAAAAACARkAAAAAAAAA8QAAAAAAAAD5AAAAAAAAARkAAAAAAAABBQAAAAAAAADxAAAAAAACAQUAAAAAAAIBLQAAAAAAAgEFAAAAAAACAQUAAAAAAAIBBQAAAAAAAgEZAAAAAAAAAVEAAAAAAAABOQAAAAAAAgEtAAAAAAACAUUAAAAAAAABEQAAAAAAAAE5AAAAAAACARkAAAAAAAABOQAAAAAAAAE5AAAAAAACAQUAAAAAAAABFQAAAAAAAAElAAAAAAAAAQ0AAAAAAAIBFQAAAAAAAAEJAAAAAAACARkAAAAAAAABIQAAAAAAAAERAAAAAAACASEAAAAAAAIBCQAAAAAAAAEZAAAAAAACAQ0AAAAAAAIBBQAAAAAAAgEVA",
          "dtype": "f8"
         },
         "xaxis": "x",
         "y": {
          "bdata": "AAAAAAAAKEAAAAAAAAAyQAAAAAAAAC5AAAAAAAAAOUAAAAAAAAA5QAAAAAAAADlAAAAAAAAAPkAAAAAAAAAuQAAAAAAAACRAAAAAAAAAKEAAAAAAAAA0QAAAAAAAAC5AAAAAAAAAKEAAAAAAAAA2QAAAAAAAACxAAAAAAAAALkAAAAAAAAAsQAAAAAAAAC5AAAAAAAAANkAAAAAAAAAsQAAAAAAAAC5AAAAAAAAANkAAAAAAAAAxQAAAAAAAACxAAAAAAAAAMkAAAAAAAAA8QAAAAAAAADJAAAAAAAAAMkAAAAAAAAAyQAAAAAAAADZAAAAAAAAAREAAAAAAAAA+QAAAAAAAADxAAAAAAACAQUAAAAAAAAA0QAAAAAAAAD5AAAAAAAAANkAAAAAAAAA+QAAAAAAAAD5AAAAAAAAAMkAAAAAAAAA3QAAAAAAAADpAAAAAAAAAM0AAAAAAAAA1QAAAAAAAADJAAAAAAAAANkAAAAAAAAA4QAAAAAAAADRAAAAAAAAAOUAAAAAAAAAzQAAAAAAAADdAAAAAAAAANEAAAAAAAAAyQAAAAAAAADZA",
          "dtype": "f8"
         },
         "yaxis": "y"
        }
       ],
       "layout": {
        "legend": {
         "title": {
          "text": "Sentiment"
         },
         "tracegroupgap": 0
        },
        "margin": {
         "t": 60
        },
        "template": {
         "data": {
          "bar": [
           {
            "error_x": {
             "color": "#2a3f5f"
            },
            "error_y": {
             "color": "#2a3f5f"
            },
            "marker": {
             "line": {
              "color": "#E5ECF6",
              "width": 0.5
             },
             "pattern": {
              "fillmode": "overlay",
              "size": 10,
              "solidity": 0.2
             }
            },
            "type": "bar"
           }
          ],
          "barpolar": [
           {
            "marker": {
             "line": {
              "color": "#E5ECF6",
              "width": 0.5
             },
             "pattern": {
              "fillmode": "overlay",
              "size": 10,
              "solidity": 0.2
             }
            },
            "type": "barpolar"
           }
          ],
          "carpet": [
           {
            "aaxis": {
             "endlinecolor": "#2a3f5f",
             "gridcolor": "white",
             "linecolor": "white",
             "minorgridcolor": "white",
             "startlinecolor": "#2a3f5f"
            },
            "baxis": {
             "endlinecolor": "#2a3f5f",
             "gridcolor": "white",
             "linecolor": "white",
             "minorgridcolor": "white",
             "startlinecolor": "#2a3f5f"
            },
            "type": "carpet"
           }
          ],
          "choropleth": [
           {
            "colorbar": {
             "outlinewidth": 0,
             "ticks": ""
            },
            "type": "choropleth"
           }
          ],
          "contour": [
           {
            "colorbar": {
             "outlinewidth": 0,
             "ticks": ""
            },
            "colorscale": [
             [
              0,
              "#0d0887"
             ],
             [
              0.1111111111111111,
              "#46039f"
             ],
             [
              0.2222222222222222,
              "#7201a8"
             ],
             [
              0.3333333333333333,
              "#9c179e"
             ],
             [
              0.4444444444444444,
              "#bd3786"
             ],
             [
              0.5555555555555556,
              "#d8576b"
             ],
             [
              0.6666666666666666,
              "#ed7953"
             ],
             [
              0.7777777777777778,
              "#fb9f3a"
             ],
             [
              0.8888888888888888,
              "#fdca26"
             ],
             [
              1,
              "#f0f921"
             ]
            ],
            "type": "contour"
           }
          ],
          "contourcarpet": [
           {
            "colorbar": {
             "outlinewidth": 0,
             "ticks": ""
            },
            "type": "contourcarpet"
           }
          ],
          "heatmap": [
           {
            "colorbar": {
             "outlinewidth": 0,
             "ticks": ""
            },
            "colorscale": [
             [
              0,
              "#0d0887"
             ],
             [
              0.1111111111111111,
              "#46039f"
             ],
             [
              0.2222222222222222,
              "#7201a8"
             ],
             [
              0.3333333333333333,
              "#9c179e"
             ],
             [
              0.4444444444444444,
              "#bd3786"
             ],
             [
              0.5555555555555556,
              "#d8576b"
             ],
             [
              0.6666666666666666,
              "#ed7953"
             ],
             [
              0.7777777777777778,
              "#fb9f3a"
             ],
             [
              0.8888888888888888,
              "#fdca26"
             ],
             [
              1,
              "#f0f921"
             ]
            ],
            "type": "heatmap"
           }
          ],
          "histogram": [
           {
            "marker": {
             "pattern": {
              "fillmode": "overlay",
              "size": 10,
              "solidity": 0.2
             }
            },
            "type": "histogram"
           }
          ],
          "histogram2d": [
           {
            "colorbar": {
             "outlinewidth": 0,
             "ticks": ""
            },
            "colorscale": [
             [
              0,
              "#0d0887"
             ],
             [
              0.1111111111111111,
              "#46039f"
             ],
             [
              0.2222222222222222,
              "#7201a8"
             ],
             [
              0.3333333333333333,
              "#9c179e"
             ],
             [
              0.4444444444444444,
              "#bd3786"
             ],
             [
              0.5555555555555556,
              "#d8576b"
             ],
             [
              0.6666666666666666,
              "#ed7953"
             ],
             [
              0.7777777777777778,
              "#fb9f3a"
             ],
             [
              0.8888888888888888,
              "#fdca26"
             ],
             [
              1,
              "#f0f921"
             ]
            ],
            "type": "histogram2d"
           }
          ],
          "histogram2dcontour": [
           {
            "colorbar": {
             "outlinewidth": 0,
             "ticks": ""
            },
            "colorscale": [
             [
              0,
              "#0d0887"
             ],
             [
              0.1111111111111111,
              "#46039f"
             ],
             [
              0.2222222222222222,
              "#7201a8"
             ],
             [
              0.3333333333333333,
              "#9c179e"
             ],
             [
              0.4444444444444444,
              "#bd3786"
             ],
             [
              0.5555555555555556,
              "#d8576b"
             ],
             [
              0.6666666666666666,
              "#ed7953"
             ],
             [
              0.7777777777777778,
              "#fb9f3a"
             ],
             [
              0.8888888888888888,
              "#fdca26"
             ],
             [
              1,
              "#f0f921"
             ]
            ],
            "type": "histogram2dcontour"
           }
          ],
          "mesh3d": [
           {
            "colorbar": {
             "outlinewidth": 0,
             "ticks": ""
            },
            "type": "mesh3d"
           }
          ],
          "parcoords": [
           {
            "line": {
             "colorbar": {
              "outlinewidth": 0,
              "ticks": ""
             }
            },
            "type": "parcoords"
           }
          ],
          "pie": [
           {
            "automargin": true,
            "type": "pie"
           }
          ],
          "scatter": [
           {
            "fillpattern": {
             "fillmode": "overlay",
             "size": 10,
             "solidity": 0.2
            },
            "type": "scatter"
           }
          ],
          "scatter3d": [
           {
            "line": {
             "colorbar": {
              "outlinewidth": 0,
              "ticks": ""
             }
            },
            "marker": {
             "colorbar": {
              "outlinewidth": 0,
              "ticks": ""
             }
            },
            "type": "scatter3d"
           }
          ],
          "scattercarpet": [
           {
            "marker": {
             "colorbar": {
              "outlinewidth": 0,
              "ticks": ""
             }
            },
            "type": "scattercarpet"
           }
          ],
          "scattergeo": [
           {
            "marker": {
             "colorbar": {
              "outlinewidth": 0,
              "ticks": ""
             }
            },
            "type": "scattergeo"
           }
          ],
          "scattergl": [
           {
            "marker": {
             "colorbar": {
              "outlinewidth": 0,
              "ticks": ""
             }
            },
            "type": "scattergl"
           }
          ],
          "scattermap": [
           {
            "marker": {
             "colorbar": {
              "outlinewidth": 0,
              "ticks": ""
             }
            },
            "type": "scattermap"
           }
          ],
          "scattermapbox": [
           {
            "marker": {
             "colorbar": {
              "outlinewidth": 0,
              "ticks": ""
             }
            },
            "type": "scattermapbox"
           }
          ],
          "scatterpolar": [
           {
            "marker": {
             "colorbar": {
              "outlinewidth": 0,
              "ticks": ""
             }
            },
            "type": "scatterpolar"
           }
          ],
          "scatterpolargl": [
           {
            "marker": {
             "colorbar": {
              "outlinewidth": 0,
              "ticks": ""
             }
            },
            "type": "scatterpolargl"
           }
          ],
          "scatterternary": [
           {
            "marker": {
             "colorbar": {
              "outlinewidth": 0,
              "ticks": ""
             }
            },
            "type": "scatterternary"
           }
          ],
          "surface": [
           {
            "colorbar": {
             "outlinewidth": 0,
             "ticks": ""
            },
            "colorscale": [
             [
              0,
              "#0d0887"
             ],
             [
              0.1111111111111111,
              "#46039f"
             ],
             [
              0.2222222222222222,
              "#7201a8"
             ],
             [
              0.3333333333333333,
              "#9c179e"
             ],
             [
              0.4444444444444444,
              "#bd3786"
             ],
             [
              0.5555555555555556,
              "#d8576b"
             ],
             [
              0.6666666666666666,
              "#ed7953"
             ],
             [
              0.7777777777777778,
              "#fb9f3a"
             ],
             [
              0.8888888888888888,
              "#fdca26"
             ],
             [
              1,
              "#f0f921"
             ]
            ],
            "type": "surface"
           }
          ],
          "table": [
           {
            "cells": {
             "fill": {
              "color": "#EBF0F8"
             },
             "line": {
              "color": "white"
             }
            },
            "header": {
             "fill": {
              "color": "#C8D4E3"
             },
             "line": {
              "color": "white"
             }
            },
            "type": "table"
           }
          ]
         },
         "layout": {
          "annotationdefaults": {
           "arrowcolor": "#2a3f5f",
           "arrowhead": 0,
           "arrowwidth": 1
          },
          "autotypenumbers": "strict",
          "coloraxis": {
           "colorbar": {
            "outlinewidth": 0,
            "ticks": ""
           }
          },
          "colorscale": {
           "diverging": [
            [
             0,
             "#8e0152"
            ],
            [
             0.1,
             "#c51b7d"
            ],
            [
             0.2,
             "#de77ae"
            ],
            [
             0.3,
             "#f1b6da"
            ],
            [
             0.4,
             "#fde0ef"
            ],
            [
             0.5,
             "#f7f7f7"
            ],
            [
             0.6,
             "#e6f5d0"
            ],
            [
             0.7,
             "#b8e186"
            ],
            [
             0.8,
             "#7fbc41"
            ],
            [
             0.9,
             "#4d9221"
            ],
            [
             1,
             "#276419"
            ]
           ],
           "sequential": [
            [
             0,
             "#0d0887"
            ],
            [
             0.1111111111111111,
             "#46039f"
            ],
            [
             0.2222222222222222,
             "#7201a8"
            ],
            [
             0.3333333333333333,
             "#9c179e"
            ],
            [
             0.4444444444444444,
             "#bd3786"
            ],
            [
             0.5555555555555556,
             "#d8576b"
            ],
            [
             0.6666666666666666,
             "#ed7953"
            ],
            [
             0.7777777777777778,
             "#fb9f3a"
            ],
            [
             0.8888888888888888,
             "#fdca26"
            ],
            [
             1,
             "#f0f921"
            ]
           ],
           "sequentialminus": [
            [
             0,
             "#0d0887"
            ],
            [
             0.1111111111111111,
             "#46039f"
            ],
            [
             0.2222222222222222,
             "#7201a8"
            ],
            [
             0.3333333333333333,
             "#9c179e"
            ],
            [
             0.4444444444444444,
             "#bd3786"
            ],
            [
             0.5555555555555556,
             "#d8576b"
            ],
            [
             0.6666666666666666,
             "#ed7953"
            ],
            [
             0.7777777777777778,
             "#fb9f3a"
            ],
            [
             0.8888888888888888,
             "#fdca26"
            ],
            [
             1,
             "#f0f921"
            ]
           ]
          },
          "colorway": [
           "#636efa",
           "#EF553B",
           "#00cc96",
           "#ab63fa",
           "#FFA15A",
           "#19d3f3",
           "#FF6692",
           "#B6E880",
           "#FF97FF",
           "#FECB52"
          ],
          "font": {
           "color": "#2a3f5f"
          },
          "geo": {
           "bgcolor": "white",
           "lakecolor": "white",
           "landcolor": "#E5ECF6",
           "showlakes": true,
           "showland": true,
           "subunitcolor": "white"
          },
          "hoverlabel": {
           "align": "left"
          },
          "hovermode": "closest",
          "mapbox": {
           "style": "light"
          },
          "paper_bgcolor": "white",
          "plot_bgcolor": "#E5ECF6",
          "polar": {
           "angularaxis": {
            "gridcolor": "white",
            "linecolor": "white",
            "ticks": ""
           },
           "bgcolor": "#E5ECF6",
           "radialaxis": {
            "gridcolor": "white",
            "linecolor": "white",
            "ticks": ""
           }
          },
          "scene": {
           "xaxis": {
            "backgroundcolor": "#E5ECF6",
            "gridcolor": "white",
            "gridwidth": 2,
            "linecolor": "white",
            "showbackground": true,
            "ticks": "",
            "zerolinecolor": "white"
           },
           "yaxis": {
            "backgroundcolor": "#E5ECF6",
            "gridcolor": "white",
            "gridwidth": 2,
            "linecolor": "white",
            "showbackground": true,
            "ticks": "",
            "zerolinecolor": "white"
           },
           "zaxis": {
            "backgroundcolor": "#E5ECF6",
            "gridcolor": "white",
            "gridwidth": 2,
            "linecolor": "white",
            "showbackground": true,
            "ticks": "",
            "zerolinecolor": "white"
           }
          },
          "shapedefaults": {
           "line": {
            "color": "#2a3f5f"
           }
          },
          "ternary": {
           "aaxis": {
            "gridcolor": "white",
            "linecolor": "white",
            "ticks": ""
           },
           "baxis": {
            "gridcolor": "white",
            "linecolor": "white",
            "ticks": ""
           },
           "bgcolor": "#E5ECF6",
           "caxis": {
            "gridcolor": "white",
            "linecolor": "white",
            "ticks": ""
           }
          },
          "title": {
           "x": 0.05
          },
          "xaxis": {
           "automargin": true,
           "gridcolor": "white",
           "linecolor": "white",
           "ticks": "",
           "title": {
            "standoff": 15
           },
           "zerolinecolor": "white",
           "zerolinewidth": 2
          },
          "yaxis": {
           "automargin": true,
           "gridcolor": "white",
           "linecolor": "white",
           "ticks": "",
           "title": {
            "standoff": 15
           },
           "zerolinecolor": "white",
           "zerolinewidth": 2
          }
         }
        },
        "title": {
         "automargin": true,
         "font": {
          "size": 30
         },
         "text": "Likes versus Retweets, Colored by Sentiment",
         "yref": "paper"
        },
        "xaxis": {
         "anchor": "y",
         "domain": [
          0,
          1
         ],
         "title": {
          "text": "Likes"
         }
        },
        "yaxis": {
         "anchor": "x",
         "domain": [
          0,
          1
         ],
         "title": {
          "text": "Retweets"
         }
        }
       }
      }
     },
     "metadata": {},
     "output_type": "display_data"
    }
   ],
   "source": [
    "fig = px.scatter(sentiment,x=\"Likes\", y=\"Retweets\", color=\"Sentiment\")\n",
    "\n",
    "fig.update_layout(\n",
    "    title=dict(text=\"Likes versus Retweets, Colored by Sentiment\", font=dict(size=30), automargin=True, yref='paper')\n",
    ")\n",
    "\n",
    "fig.update_traces(marker=dict(size=12,\n",
    "                              line=dict(width=2,\n",
    "                                        color='DarkSlateGrey')),\n",
    "                  selector=dict(mode='markers'))\n",
    "#Notice the upward trend!"
   ]
  },
  {
   "cell_type": "code",
   "execution_count": 115,
   "id": "8e1b55fc",
   "metadata": {},
   "outputs": [
    {
     "data": {
      "image/png": "[encoded data removed]",
      "text/plain": [
       "<Figure size 1000x600 with 2 Axes>"
      ]
     },
     "metadata": {},
     "output_type": "display_data"
    }
   ],
   "source": [
    "# Step 1: Select only numeric columns\n",
    "numeric_df = sentiment.select_dtypes(include='number')\n",
    "\n",
    "# Step 2: Compute correlation matrix\n",
    "corr_matrix = numeric_df.corr()\n",
    "\n",
    "# Step 3: Plot the heatmap\n",
    "plt.figure(figsize=(10, 6))\n",
    "sns.heatmap(corr_matrix, annot=True, cmap=\"coolwarm\")\n",
    "plt.title(\"Correlation Heatmap of Numeric Features\")\n",
    "plt.tight_layout()\n",
    "plt.show()"
   ]
  }
 ],
 "metadata": {
  "kernelspec": {
   "display_name": ".venv",
   "language": "python",
   "name": "python3"
  },
  "language_info": {
   "codemirror_mode": {
    "name": "ipython",
    "version": 3
   },
   "file_extension": ".py",
   "mimetype": "text/x-python",
   "name": "python",
   "nbconvert_exporter": "python",
   "pygments_lexer": "ipython3",
   "version": "3.12.7"
  }
 },
 "nbformat": 4,
 "nbformat_minor": 5
}
