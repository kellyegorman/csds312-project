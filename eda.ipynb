{
 "cells": [
  {
   "cell_type": "markdown",
   "metadata": {},
   "source": [
    "We will use the test/train/val datasets to train one model, and next we will split sentimentdataset into test/train/val to train a different model, then compare model performances."
   ]
  },
  {
   "cell_type": "code",
   "execution_count": 27,
   "metadata": {},
   "outputs": [
    {
     "name": "stdout",
     "output_type": "stream",
     "text": [
      "   Daily_Usage_Time (minutes)  Addicted\n",
      "0                       120.0         0\n",
      "1                        90.0         0\n",
      "2                        60.0         0\n",
      "3                       200.0         1\n",
      "4                        45.0         0\n",
      "Number of people with Daily Usage Time greater than 120 minutes: 220\n",
      "Number of people with Daily Usage Time less than or equal to 120 minutes: 781\n"
     ]
    }
   ],
   "source": [
    "import pandas as pd\n",
    "\n",
    "file_path = \"/Users/kellyg/csds312-project/train.csv\" \n",
    "df = pd.read_csv(file_path)\n",
    "\n",
    "df[\"Addicted\"] = (df[\"Daily_Usage_Time (minutes)\"] > 120).astype(int)\n",
    "\n",
    "count_more_than_120 = df[\"Addicted\"].sum()\n",
    "count_less_than_120 = (df[\"Addicted\"] == 0).sum()\n",
    "\n",
    "print(df[[\"Daily_Usage_Time (minutes)\", \"Addicted\"]].head())\n",
    "print(f\"Number of people with Daily Usage Time greater than 120 minutes: {count_more_than_120}\")\n",
    "print(f\"Number of people with Daily Usage Time less than or equal to 120 minutes: {count_less_than_120}\")\n"
   ]
  },
  {
   "cell_type": "code",
   "execution_count": 21,
   "metadata": {},
   "outputs": [
    {
     "name": "stdout",
     "output_type": "stream",
     "text": [
      "             User        Date  Addicted\n",
      "0   User123        2023-01-15         0\n",
      "1   CommuterX      2023-01-15         0\n",
      "2   FitnessFan     2023-01-15         0\n",
      "3   AdventureX     2023-01-15         0\n",
      "4   ChefCook       2023-01-15         0\n",
      "Number of addicted users: 105\n",
      "Total number of users: 685\n"
     ]
    },
    {
     "name": "stderr",
     "output_type": "stream",
     "text": [
      "/var/folders/rv/q52q8kmj0s558xpyhlshtzw00000gn/T/ipykernel_40321/191358542.py:19: FutureWarning: A value is trying to be set on a copy of a DataFrame or Series through chained assignment using an inplace method.\n",
      "The behavior will change in pandas 3.0. This inplace method will never work because the intermediate object on which we are setting values always behaves as a copy.\n",
      "\n",
      "For example, when doing 'df[col].method(value, inplace=True)', try using 'df.method({col: value}, inplace=True)' or df[col] = df[col].method(value) instead, to perform the operation inplace on the original object.\n",
      "\n",
      "\n",
      "  user_daily_activity[\"Active_Hours\"].fillna(0, inplace=True)\n"
     ]
    }
   ],
   "source": [
    "import pandas as pd\n",
    "\n",
    "df = pd.read_csv(\"/Users/kellyg/csds312-project/sentimentdataset.csv\")\n",
    "\n",
    "df[\"Timestamp\"] = pd.to_datetime(df[\"Timestamp\"])\n",
    "df[\"Date\"] = df[\"Timestamp\"].dt.date\n",
    "\n",
    "#group by user and date\n",
    "user_daily_activity = df.groupby([\"User\", \"Date\"]).agg(\n",
    "    total_posts=(\"Text\", \"count\"),  \n",
    "    total_likes=(\"Likes\", \"sum\"),\n",
    "    total_retweets=(\"Retweets\", \"sum\"),\n",
    "    first_post=(\"Timestamp\", \"min\"),  \n",
    "    last_post=(\"Timestamp\", \"max\"),   \n",
    ").reset_index()\n",
    "\n",
    "#time on app = timestamp of last post - timestamp of first post (each post takes 15 mins)\n",
    "user_daily_activity[\"Active_Hours\"] = (user_daily_activity[\"last_post\"] - user_daily_activity[\"first_post\"]).dt.total_seconds() / 3600\n",
    "user_daily_activity[\"Active_Hours\"].fillna(0, inplace=True)\n",
    "user_daily_activity[\"Daily_Usage_Time\"] = user_daily_activity[\"total_posts\"] * 15 / 60  \n",
    "\n",
    "#total interactions = likes + retweets\n",
    "user_daily_activity[\"Total_Interactions\"] = user_daily_activity[\"total_likes\"] + user_daily_activity[\"total_retweets\"]\n",
    "\n",
    "#addiction = over 2 hours of usage OR over 100 interactions per day\n",
    "user_daily_activity[\"Addicted\"] = ((user_daily_activity[\"Daily_Usage_Time\"] > 2) | (user_daily_activity[\"Total_Interactions\"] > 100)).astype(int)\n",
    "\n",
    "df = df.merge(user_daily_activity[[\"User\", \"Date\", \"Addicted\"]], on=[\"User\", \"Date\"], how=\"left\")\n",
    "print(df[[\"User\", \"Date\", \"Addicted\"]].head())\n",
    "\n",
    "print(\"Number of addicted users:\", df[\"Addicted\"].sum())\n",
    "total_users = df[\"User\"].nunique()\n",
    "print(\"Total number of users:\", total_users)"
   ]
  },
  {
   "cell_type": "code",
   "execution_count": null,
   "metadata": {},
   "outputs": [],
   "source": [
    "\n"
   ]
  }
 ],
 "metadata": {
  "kernelspec": {
   "display_name": "Python 3",
   "language": "python",
   "name": "python3"
  },
  "language_info": {
   "codemirror_mode": {
    "name": "ipython",
    "version": 3
   },
   "file_extension": ".py",
   "mimetype": "text/x-python",
   "name": "python",
   "nbconvert_exporter": "python",
   "pygments_lexer": "ipython3",
   "version": "3.11.3"
  }
 },
 "nbformat": 4,
 "nbformat_minor": 2
}
